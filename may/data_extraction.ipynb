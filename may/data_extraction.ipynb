{
 "cells": [
  {
   "cell_type": "code",
   "execution_count": 1,
   "metadata": {},
   "outputs": [],
   "source": [
    "import numpy as np\n",
    "import pandas as pd\n",
    "from datetime import datetime\n",
    "from sklearn.model_selection import train_test_split\n",
    "import matplotlib.pyplot as plt\n",
    "%matplotlib inline\n",
    "import seaborn as sns\n",
    "import time"
   ]
  },
  {
   "cell_type": "markdown",
   "metadata": {},
   "source": [
    "## Step 1: Define Helper Functions"
   ]
  },
  {
   "cell_type": "code",
   "execution_count": 2,
   "metadata": {},
   "outputs": [],
   "source": [
    "# csv_files_2017 = [('2017' + \"%.2d\" + '-citibike-tripdata.csv') % i for i in range(1, 13)]\n",
    "# csv_files_2018 = [('2018' + \"%.2d\" + '-citibike-tripdata.csv') % i for i in range(1, 13)]\n",
    "# csv_files_2019 = [('2019' + \"%.2d\" + '-citibike-tripdata.csv') % i for i in range(1, 13)]\n",
    "# csv_files = csv_files_2017 + csv_files_2018 + csv_files_2019"
   ]
  },
  {
   "cell_type": "code",
   "execution_count": 3,
   "metadata": {},
   "outputs": [],
   "source": [
    "# months = ['Jan', 'Feb', 'Mar', 'Apr', 'May', 'Jun', 'Jul', 'Aug', 'Sep', 'Oct', 'Nov', 'Dec']"
   ]
  },
  {
   "cell_type": "code",
   "execution_count": 4,
   "metadata": {},
   "outputs": [],
   "source": [
    "def to_datetime(df):\n",
    "    df1 = df.copy()\n",
    "    df1['starttime'] = pd.to_datetime(df1['starttime'])\n",
    "    df1['stoptime'] = pd.to_datetime(df1['stoptime'])\n",
    "    df1['start_date'] = df1['starttime'].dt.date\n",
    "    df1['start_time'] = df1['starttime'].dt.time\n",
    "    df1['start_hour'] = df1['starttime'].dt.hour\n",
    "    df1['start_min'] = df1['starttime'].dt.minute\n",
    "    df1['start_year'] = df1['starttime'].dt.year\n",
    "    df1['start_month'] = df1['starttime'].dt.month\n",
    "    df1['start_dayofweek'] = df1['starttime'].dt.weekday   # Monday is 0, Sunday is 6\n",
    "    #df1['start_dayofweek'] = df1['starttime'].dt.weekday_name  # The name of day in a week (e.g. Monday)\n",
    "    df1['stop_date'] = df1['stoptime'].dt.date\n",
    "    df1['stop_time'] = df1['stoptime'].dt.time\n",
    "    df1['stop_hour'] = df1['stoptime'].dt.hour\n",
    "    df1['stop_min'] = df1['stoptime'].dt.minute\n",
    "    df1['stop_dayofweek'] = df1['stoptime'].dt.weekday\n",
    "    return df1"
   ]
  },
  {
   "cell_type": "code",
   "execution_count": 5,
   "metadata": {},
   "outputs": [],
   "source": [
    "def ignore_offpeak(df):\n",
    "    df1 = df.copy()\n",
    "    mask = df1['start_hour'].apply(lambda x: 5 <= x <= 20)\n",
    "    return df1[mask]"
   ]
  },
  {
   "cell_type": "code",
   "execution_count": 6,
   "metadata": {},
   "outputs": [],
   "source": [
    "def aggregated_data(df):\n",
    "    # Calculate daily trip counts, avg trip duration, and avg trip distance and merge to original df\n",
    "    # Method 1: use long and lat to estimate distance travelled \n",
    "#     log_diff = df['end_station_longitude']-df['start_station_longitude']\n",
    "#     lat_diff = df['end_station_latitude']-df['start_station_latitude']\n",
    "#     df['distance'] = abs(log_diff)*53 + abs(lat_diff)*69\n",
    "    # Method 2: Naive way of estimating distance based on an average speed of 7.456 mph\n",
    "    df['distance'] = df['trip_duration']*7.456/3600\n",
    "    df_daily = df.groupby('start_date').agg({'trip_duration':['count','mean'],'distance':'mean'}).reset_index()\n",
    "    df_daily.columns = ['start_date','trip_per_day','daily_avg_trip_duration','daily_avg_distance']\n",
    "    df_daily_merged = df.merge(df_daily, how = 'left', on = 'start_date')\n",
    "    # Calculate hourly trip counts, avg trip duration, and avg trip distance per station and merge to above df\n",
    "    df_hourly = df_daily_merged.groupby(['start_station_ID','start_date','start_hour']).\\\n",
    "    agg({'trip_duration':['count','mean'],'distance':'mean'}).reset_index()\n",
    "    df_hourly.columns = ['start_station_ID','start_date','start_hour','trip_per_hour','hourly_avg_trip_duration','hourly_avg_distance']\n",
    "    df_hourly_merged = df_daily_merged.merge(df_hourly, how = 'left', on = ['start_station_ID','start_date','start_hour'])\n",
    "    return df_hourly_merged    "
   ]
  },
  {
   "cell_type": "code",
   "execution_count": 7,
   "metadata": {},
   "outputs": [],
   "source": [
    "def merge_bikecount(df):\n",
    "    # groupby start station ID, date and hour to get hourly counts of trips per start station\n",
    "    checkout = df.groupby(['start_station_ID','start_date','start_hour'])['trip_duration'].count().reset_index()\n",
    "    checkout.columns = ['start_station_ID','start_date','start_hour','checkout_counts']\n",
    "    # groupby end station ID, date, and hour to get hourly counts of trips per end station \n",
    "    checkin = df.groupby(['end_station_ID','stop_date','stop_hour'])[['trip_duration']].count().reset_index()\n",
    "    checkin.columns=['end_station_ID','stop_date','stop_hour','checkin_counts']\n",
    "    # Join dataframe to get station checkin and checkout counts \n",
    "    temp = pd.merge(checkout, checkin,  how='outer', left_on=['start_station_ID','start_date','start_hour'], \n",
    "                    right_on = ['end_station_ID','stop_date','stop_hour'])\n",
    "    temp['start_station_ID'] = temp['start_station_ID'].fillna(temp['end_station_ID'])\n",
    "    temp['start_date'] = temp['start_date'].fillna(temp['stop_date'])\n",
    "    temp['start_hour'] = temp['start_hour'].fillna(temp['stop_hour'])\n",
    "    temp['checkout_counts'] = temp['checkout_counts'].fillna(0)\n",
    "    temp['checkin_counts'] = temp['checkin_counts'].fillna(0)\n",
    "    temp = temp.drop(['end_station_ID','stop_date','stop_hour'],axis=1)\n",
    "    temp.columns=['station_ID','date','hour','checkout_counts','checkin_counts']\n",
    "    temp['bike_added'] = temp['checkin_counts'] - temp['checkout_counts']\n",
    "    # merge orginal dataframe to get hourly checkin/checkout information for both start and stop stations \n",
    "    df_temp_merged = pd.merge(df, temp,  how='left', left_on=['start_station_ID','start_date','start_hour'], \n",
    "         right_on = ['station_ID','date','hour']).drop(['station_ID','date','hour'],axis = 1)\n",
    "    df_temp_merged = pd.merge(df_temp_merged, temp,  how='left', left_on=['end_station_ID','stop_date','stop_hour'], \n",
    "         right_on = ['station_ID','date','hour']).drop(['station_ID','date','hour'],axis = 1) \n",
    "    df_temp_merged = df_temp_merged.rename(columns={'checkout_counts_x':'start_station_checkout_counts',\n",
    "                                                    'checkin_counts_x':'start_station_checkin_counts',\n",
    "                                                    'bike_added_x':'start_station_bike_added', \n",
    "                                                    'checkout_counts_y':'end_station_checkout_counts',\n",
    "                                                    'checkin_counts_y':'end_station_checkin_counts',\n",
    "                                                    'bike_added_y':'end_station_bike_added'}) \n",
    "    return df_temp_merged\n",
    "    "
   ]
  },
  {
   "cell_type": "markdown",
   "metadata": {},
   "source": [
    "## Merge Datasets"
   ]
  },
  {
   "cell_type": "code",
   "execution_count": 8,
   "metadata": {},
   "outputs": [],
   "source": [
    "# total_time = 0\n",
    "# for i, csv in enumerate(csv_files):\n",
    "#     start_time = time.time()\n",
    "#     df_temp = pd.read_csv('../Tripdata/'+csv)\n",
    "#     df_temp.columns = ['trip_duration','starttime','stoptime','start_station_ID','start_station_name',\n",
    "#                        'start_station_latitude','start_station_longitude','end_station_ID','end_station_name',\n",
    "#                        'end_station_latitude','end_station_longitude','bike_ID','user_type','birth_year','gender']\n",
    "#     df_temp = to_datetime(df_temp)\n",
    "#     df_temp = ignore_offpeak(df_temp)\n",
    "#     df_temp = aggregated_data(df_temp)\n",
    "#     # Take a 5% subset of the monthly file as training dataset\n",
    "#     df_validate, df_train = train_test_split(merge_bikecount(df_temp), test_size=0.05, random_state=42 )\n",
    "#     # Take a 5% of the validate data set as test dataset\n",
    "#     df_notused, df_test = train_test_split(df_validate, test_size=0.05, random_state=42 )\n",
    "#     df_train.to_csv(months[i%12] + csv[:4] + 'train.csv')\n",
    "#     df_test.to_csv(months[i%12] + csv[:4] + 'test.csv')\n",
    "#     print('Finishing data extraction from ' + csv)\n",
    "#     timeSpent = time.time() - start_time\n",
    "#     print('This iteration uses %.2f'%(timeSpent))\n",
    "#     total_time += timeSpent"
   ]
  },
  {
   "cell_type": "code",
   "execution_count": 9,
   "metadata": {},
   "outputs": [],
   "source": [
    "# train_list = []\n",
    "# test_list = []\n",
    "# for i, csv in enumerate(csv_files):\n",
    "#     train_list.append(months[i%12] + csv[:4] + 'train.csv')\n",
    "#     test_list.append(months[i%12] + csv[:4] + 'test.csv')"
   ]
  },
  {
   "cell_type": "code",
   "execution_count": 10,
   "metadata": {},
   "outputs": [],
   "source": [
    "# Merge all months train.csv into one train dataframe\n",
    "# train_df = pd.DataFrame()\n",
    "# for i in range(len(train_list)):\n",
    "#     temp_df = pd.read_csv(train_list[i], index_col = 0)\n",
    "#     train_df = pd.concat([train_df, temp_df], axis = 0)\n",
    "#     print('Finished ' + str(i) + ' element')\n",
    "# train_df.to_csv('train.csv')"
   ]
  },
  {
   "cell_type": "code",
   "execution_count": 11,
   "metadata": {},
   "outputs": [],
   "source": [
    "# Merge all months test.csv into one test dataframe\n",
    "# test_df = pd.DataFrame()\n",
    "# for i in range(len(test_list)):\n",
    "#     temp_df = pd.read_csv(test_list[i], index_col = 0)\n",
    "#     test_df = pd.concat([test_df, temp_df], axis = 0)\n",
    "#     print('Finished ' + str(i) + ' element')\n",
    "# test_df.to_csv('test.csv')"
   ]
  },
  {
   "cell_type": "code",
   "execution_count": 12,
   "metadata": {},
   "outputs": [],
   "source": [
    "# train_df = pd.read_csv('train.csv', index_col = 0)"
   ]
  },
  {
   "cell_type": "code",
   "execution_count": 13,
   "metadata": {},
   "outputs": [],
   "source": [
    "# test_df = pd.read_csv('test.csv', index_col = 0)"
   ]
  },
  {
   "cell_type": "markdown",
   "metadata": {},
   "source": [
    "### Merge Weather Dataset"
   ]
  },
  {
   "cell_type": "code",
   "execution_count": 14,
   "metadata": {},
   "outputs": [],
   "source": [
    "# weather = pd.read_csv('weather.csv',index_col = 0).reset_index()\n",
    "# weather = weather.fillna(0)\n",
    "# weather['DATE'] = pd.to_datetime(weather['DATE'])\n",
    "# weather['TAVG'] = (weather['TMIN']+weather['TMAX'])/2\n",
    "# weather['HasPRCP'] = [1 if x !=0 else 0 for x in weather['PRCP']]\n",
    "# weather['HasSNOW'] = [1 if x !=0 else 0 for x in weather['SNOW']]"
   ]
  },
  {
   "cell_type": "code",
   "execution_count": 15,
   "metadata": {},
   "outputs": [],
   "source": [
    "# weather"
   ]
  },
  {
   "cell_type": "code",
   "execution_count": 16,
   "metadata": {},
   "outputs": [],
   "source": [
    "# train_df['start_date'] = pd.to_datetime(train_df['start_date'])\n",
    "# train_df_weather = train_df.merge(weather,how='left',\n",
    "#                                   left_on = 'start_date', right_on = 'DATE').drop(['DATE'],axis=1)"
   ]
  },
  {
   "cell_type": "code",
   "execution_count": 17,
   "metadata": {},
   "outputs": [],
   "source": [
    "# test_df['start_date'] = pd.to_datetime(test_df['start_date'])\n",
    "# test_df_weather = test_df.merge(weather,how='left',\n",
    "#                                   left_on = 'start_date', right_on = 'DATE').drop(['DATE'],axis=1)"
   ]
  },
  {
   "cell_type": "code",
   "execution_count": 18,
   "metadata": {},
   "outputs": [],
   "source": [
    "# train_df_weather.to_csv('train_weather.csv')\n",
    "# test_df_weather.to_csv('test_weather.csv')"
   ]
  },
  {
   "cell_type": "markdown",
   "metadata": {},
   "source": [
    "### Load Merged Dataset"
   ]
  },
  {
   "cell_type": "code",
   "execution_count": 19,
   "metadata": {},
   "outputs": [
    {
     "name": "stderr",
     "output_type": "stream",
     "text": [
      "C:\\Users\\zhang\\Anaconda3\\lib\\site-packages\\numpy\\lib\\arraysetops.py:569: FutureWarning: elementwise comparison failed; returning scalar instead, but in the future will perform elementwise comparison\n",
      "  mask |= (ar1 == a)\n"
     ]
    }
   ],
   "source": [
    "train_df_weather = pd.read_csv('train_weather.csv',index_col = 0)\n",
    "test_df_weather = pd.read_csv('test_weather.csv',index_col = 0)"
   ]
  },
  {
   "cell_type": "markdown",
   "metadata": {},
   "source": [
    "### Seasonal Trend "
   ]
  },
  {
   "cell_type": "code",
   "execution_count": 20,
   "metadata": {},
   "outputs": [
    {
     "data": {
      "text/html": [
       "<div>\n",
       "<style scoped>\n",
       "    .dataframe tbody tr th:only-of-type {\n",
       "        vertical-align: middle;\n",
       "    }\n",
       "\n",
       "    .dataframe tbody tr th {\n",
       "        vertical-align: top;\n",
       "    }\n",
       "\n",
       "    .dataframe thead th {\n",
       "        text-align: right;\n",
       "    }\n",
       "</style>\n",
       "<table border=\"1\" class=\"dataframe\">\n",
       "  <thead>\n",
       "    <tr style=\"text-align: right;\">\n",
       "      <th></th>\n",
       "      <th>Daily Trip Count</th>\n",
       "      <th>Avg Trip Duration</th>\n",
       "      <th>Avg Distance</th>\n",
       "    </tr>\n",
       "    <tr>\n",
       "      <th>Date</th>\n",
       "      <th></th>\n",
       "      <th></th>\n",
       "      <th></th>\n",
       "    </tr>\n",
       "  </thead>\n",
       "  <tbody>\n",
       "    <tr>\n",
       "      <td>2017-01-01</td>\n",
       "      <td>13594</td>\n",
       "      <td>1194.615860</td>\n",
       "      <td>2.474182</td>\n",
       "    </tr>\n",
       "    <tr>\n",
       "      <td>2017-01-02</td>\n",
       "      <td>7753</td>\n",
       "      <td>699.582484</td>\n",
       "      <td>1.448913</td>\n",
       "    </tr>\n",
       "    <tr>\n",
       "      <td>2017-01-03</td>\n",
       "      <td>13070</td>\n",
       "      <td>1023.747131</td>\n",
       "      <td>2.120294</td>\n",
       "    </tr>\n",
       "    <tr>\n",
       "      <td>2017-01-04</td>\n",
       "      <td>32140</td>\n",
       "      <td>775.994742</td>\n",
       "      <td>1.607171</td>\n",
       "    </tr>\n",
       "    <tr>\n",
       "      <td>2017-01-05</td>\n",
       "      <td>26518</td>\n",
       "      <td>668.034920</td>\n",
       "      <td>1.383575</td>\n",
       "    </tr>\n",
       "    <tr>\n",
       "      <td>...</td>\n",
       "      <td>...</td>\n",
       "      <td>...</td>\n",
       "      <td>...</td>\n",
       "    </tr>\n",
       "    <tr>\n",
       "      <td>2019-12-27</td>\n",
       "      <td>28831</td>\n",
       "      <td>986.114391</td>\n",
       "      <td>2.042352</td>\n",
       "    </tr>\n",
       "    <tr>\n",
       "      <td>2019-12-28</td>\n",
       "      <td>25378</td>\n",
       "      <td>1074.806289</td>\n",
       "      <td>2.226043</td>\n",
       "    </tr>\n",
       "    <tr>\n",
       "      <td>2019-12-29</td>\n",
       "      <td>16182</td>\n",
       "      <td>1144.572921</td>\n",
       "      <td>2.370538</td>\n",
       "    </tr>\n",
       "    <tr>\n",
       "      <td>2019-12-30</td>\n",
       "      <td>10474</td>\n",
       "      <td>682.323468</td>\n",
       "      <td>1.413168</td>\n",
       "    </tr>\n",
       "    <tr>\n",
       "      <td>2019-12-31</td>\n",
       "      <td>29346</td>\n",
       "      <td>884.216997</td>\n",
       "      <td>1.831312</td>\n",
       "    </tr>\n",
       "  </tbody>\n",
       "</table>\n",
       "<p>1091 rows × 3 columns</p>\n",
       "</div>"
      ],
      "text/plain": [
       "            Daily Trip Count  Avg Trip Duration  Avg Distance\n",
       "Date                                                         \n",
       "2017-01-01             13594        1194.615860      2.474182\n",
       "2017-01-02              7753         699.582484      1.448913\n",
       "2017-01-03             13070        1023.747131      2.120294\n",
       "2017-01-04             32140         775.994742      1.607171\n",
       "2017-01-05             26518         668.034920      1.383575\n",
       "...                      ...                ...           ...\n",
       "2019-12-27             28831         986.114391      2.042352\n",
       "2019-12-28             25378        1074.806289      2.226043\n",
       "2019-12-29             16182        1144.572921      2.370538\n",
       "2019-12-30             10474         682.323468      1.413168\n",
       "2019-12-31             29346         884.216997      1.831312\n",
       "\n",
       "[1091 rows x 3 columns]"
      ]
     },
     "execution_count": 20,
     "metadata": {},
     "output_type": "execute_result"
    }
   ],
   "source": [
    "# Time Series of Trip Count\n",
    "daily_trip = train_df_weather[['start_date','trip_per_day','daily_avg_trip_duration','daily_avg_distance']].sort_values(by='start_date')\n",
    "daily_trip.columns = ['Date','Daily Trip Count','Avg Trip Duration','Avg Distance']\n",
    "daily_trip = daily_trip.groupby('Date').agg('mean').reset_index().set_index('Date')\n",
    "daily_trip"
   ]
  },
  {
   "cell_type": "code",
   "execution_count": 21,
   "metadata": {},
   "outputs": [
    {
     "data": {
      "text/plain": [
       "Text(0, 0.5, 'Avg Distance(mile)')"
      ]
     },
     "execution_count": 21,
     "metadata": {},
     "output_type": "execute_result"
    },
    {
     "data": {
      "image/png": "[encoded data removed]",
      "text/plain": [
       "<Figure size 792x648 with 3 Axes>"
      ]
     },
     "metadata": {},
     "output_type": "display_data"
    }
   ],
   "source": [
    "sns.set(rc={'figure.figsize':(11, 4)})\n",
    "cols_plot = ['Daily Trip Count','Avg Trip Duration','Avg Distance']\n",
    "axes = daily_trip[cols_plot].plot(marker='.', alpha=0.5, linestyle='None', figsize=(11, 9), subplots=True)\n",
    "axes[0].set_ylabel('Daily Trip Count')\n",
    "axes[1].set_ylabel('Avg Trip Duration(s)')\n",
    "axes[2].set_ylabel('Avg Distance(mile)')"
   ]
  },
  {
   "cell_type": "code",
   "execution_count": 22,
   "metadata": {},
   "outputs": [
    {
     "data": {
      "text/plain": [
       "<matplotlib.axes._subplots.AxesSubplot at 0x1e6a8a61b08>"
      ]
     },
     "execution_count": 22,
     "metadata": {},
     "output_type": "execute_result"
    },
    {
     "data": {
      "image/png": "[encoded data removed]",
      "text/plain": [
       "<Figure size 792x288 with 1 Axes>"
      ]
     },
     "metadata": {},
     "output_type": "display_data"
    }
   ],
   "source": [
    "# Trip counts by month\n",
    "month_trip = train_df_weather[['start_month','trip_per_day','daily_avg_trip_duration','daily_avg_distance']].sort_values(by='start_month')\n",
    "month_trip.columns=['Month','Avg Trip Counts','Avg Trip Duration','Avg Distance'] \n",
    "sns.boxplot(x=\"Month\", y=\"Avg Trip Counts\", data=month_trip)"
   ]
  },
  {
   "cell_type": "code",
   "execution_count": 23,
   "metadata": {},
   "outputs": [
    {
     "data": {
      "text/plain": [
       "<matplotlib.axes._subplots.AxesSubplot at 0x1e6a895dd88>"
      ]
     },
     "execution_count": 23,
     "metadata": {},
     "output_type": "execute_result"
    },
    {
     "data": {
      "image/png": "[encoded data removed]",
      "text/plain": [
       "<Figure size 792x288 with 1 Axes>"
      ]
     },
     "metadata": {},
     "output_type": "display_data"
    }
   ],
   "source": [
    "# Trip Duration by Month\n",
    "sns.boxplot(x=\"Month\", y=\"Avg Trip Duration\",  data=month_trip)"
   ]
  },
  {
   "cell_type": "code",
   "execution_count": 24,
   "metadata": {},
   "outputs": [
    {
     "data": {
      "text/plain": [
       "<matplotlib.axes._subplots.AxesSubplot at 0x1e6a9f6dac8>"
      ]
     },
     "execution_count": 24,
     "metadata": {},
     "output_type": "execute_result"
    },
    {
     "data": {
      "image/png": "[encoded data removed]",
      "text/plain": [
       "<Figure size 792x288 with 1 Axes>"
      ]
     },
     "metadata": {},
     "output_type": "display_data"
    }
   ],
   "source": [
    "# Trip distance by Month\n",
    "sns.boxplot(x=\"Month\", y=\"Avg Distance\", data=month_trip)"
   ]
  },
  {
   "cell_type": "code",
   "execution_count": 25,
   "metadata": {},
   "outputs": [],
   "source": [
    "# sns.distplot(train_df.starttime)"
   ]
  },
  {
   "cell_type": "markdown",
   "metadata": {},
   "source": [
    "### Top 20 Stations with highest counts "
   ]
  },
  {
   "cell_type": "code",
   "execution_count": 26,
   "metadata": {},
   "outputs": [
    {
     "data": {
      "text/html": [
       "<div>\n",
       "<style scoped>\n",
       "    .dataframe tbody tr th:only-of-type {\n",
       "        vertical-align: middle;\n",
       "    }\n",
       "\n",
       "    .dataframe tbody tr th {\n",
       "        vertical-align: top;\n",
       "    }\n",
       "\n",
       "    .dataframe thead th {\n",
       "        text-align: right;\n",
       "    }\n",
       "</style>\n",
       "<table border=\"1\" class=\"dataframe\">\n",
       "  <thead>\n",
       "    <tr style=\"text-align: right;\">\n",
       "      <th></th>\n",
       "      <th>trip_duration</th>\n",
       "    </tr>\n",
       "    <tr>\n",
       "      <th>start_station_name</th>\n",
       "      <th></th>\n",
       "    </tr>\n",
       "  </thead>\n",
       "  <tbody>\n",
       "    <tr>\n",
       "      <td>Pershing Square North</td>\n",
       "      <td>22274</td>\n",
       "    </tr>\n",
       "    <tr>\n",
       "      <td>E 17 St &amp; Broadway</td>\n",
       "      <td>16055</td>\n",
       "    </tr>\n",
       "    <tr>\n",
       "      <td>Broadway &amp; E 22 St</td>\n",
       "      <td>15604</td>\n",
       "    </tr>\n",
       "    <tr>\n",
       "      <td>W 21 St &amp; 6 Ave</td>\n",
       "      <td>15123</td>\n",
       "    </tr>\n",
       "    <tr>\n",
       "      <td>West St &amp; Chambers St</td>\n",
       "      <td>14540</td>\n",
       "    </tr>\n",
       "    <tr>\n",
       "      <td>8 Ave &amp; W 31 St</td>\n",
       "      <td>13697</td>\n",
       "    </tr>\n",
       "    <tr>\n",
       "      <td>Broadway &amp; E 14 St</td>\n",
       "      <td>12848</td>\n",
       "    </tr>\n",
       "    <tr>\n",
       "      <td>12 Ave &amp; W 40 St</td>\n",
       "      <td>12678</td>\n",
       "    </tr>\n",
       "    <tr>\n",
       "      <td>8 Ave &amp; W 33 St</td>\n",
       "      <td>12452</td>\n",
       "    </tr>\n",
       "    <tr>\n",
       "      <td>W 20 St &amp; 11 Ave</td>\n",
       "      <td>12098</td>\n",
       "    </tr>\n",
       "    <tr>\n",
       "      <td>Broadway &amp; W 60 St</td>\n",
       "      <td>12059</td>\n",
       "    </tr>\n",
       "    <tr>\n",
       "      <td>Christopher St &amp; Greenwich St</td>\n",
       "      <td>11706</td>\n",
       "    </tr>\n",
       "    <tr>\n",
       "      <td>W 41 St &amp; 8 Ave</td>\n",
       "      <td>11692</td>\n",
       "    </tr>\n",
       "    <tr>\n",
       "      <td>Grand Army Plaza &amp; Central Park S</td>\n",
       "      <td>11316</td>\n",
       "    </tr>\n",
       "    <tr>\n",
       "      <td>Lafayette St &amp; E 8 St</td>\n",
       "      <td>11284</td>\n",
       "    </tr>\n",
       "    <tr>\n",
       "      <td>Central Park S &amp; 6 Ave</td>\n",
       "      <td>11214</td>\n",
       "    </tr>\n",
       "    <tr>\n",
       "      <td>W 38 St &amp; 8 Ave</td>\n",
       "      <td>11203</td>\n",
       "    </tr>\n",
       "    <tr>\n",
       "      <td>E 47 St &amp; Park Ave</td>\n",
       "      <td>10964</td>\n",
       "    </tr>\n",
       "    <tr>\n",
       "      <td>W 31 St &amp; 7 Ave</td>\n",
       "      <td>10908</td>\n",
       "    </tr>\n",
       "    <tr>\n",
       "      <td>South End Ave &amp; Liberty St</td>\n",
       "      <td>10869</td>\n",
       "    </tr>\n",
       "  </tbody>\n",
       "</table>\n",
       "</div>"
      ],
      "text/plain": [
       "                                   trip_duration\n",
       "start_station_name                              \n",
       "Pershing Square North                      22274\n",
       "E 17 St & Broadway                         16055\n",
       "Broadway & E 22 St                         15604\n",
       "W 21 St & 6 Ave                            15123\n",
       "West St & Chambers St                      14540\n",
       "8 Ave & W 31 St                            13697\n",
       "Broadway & E 14 St                         12848\n",
       "12 Ave & W 40 St                           12678\n",
       "8 Ave & W 33 St                            12452\n",
       "W 20 St & 11 Ave                           12098\n",
       "Broadway & W 60 St                         12059\n",
       "Christopher St & Greenwich St              11706\n",
       "W 41 St & 8 Ave                            11692\n",
       "Grand Army Plaza & Central Park S          11316\n",
       "Lafayette St & E 8 St                      11284\n",
       "Central Park S & 6 Ave                     11214\n",
       "W 38 St & 8 Ave                            11203\n",
       "E 47 St & Park Ave                         10964\n",
       "W 31 St & 7 Ave                            10908\n",
       "South End Ave & Liberty St                 10869"
      ]
     },
     "execution_count": 26,
     "metadata": {},
     "output_type": "execute_result"
    }
   ],
   "source": [
    "# group by the dock station\n",
    "train_df_weather.groupby(['start_station_name']).count()[['trip_duration']].\\\n",
    "sort_values(by = 'trip_duration', ascending = False).head(20)"
   ]
  },
  {
   "cell_type": "markdown",
   "metadata": {},
   "source": [
    "### Peak hours "
   ]
  },
  {
   "cell_type": "code",
   "execution_count": 27,
   "metadata": {},
   "outputs": [
    {
     "data": {
      "text/html": [
       "<div>\n",
       "<style scoped>\n",
       "    .dataframe tbody tr th:only-of-type {\n",
       "        vertical-align: middle;\n",
       "    }\n",
       "\n",
       "    .dataframe tbody tr th {\n",
       "        vertical-align: top;\n",
       "    }\n",
       "\n",
       "    .dataframe thead th {\n",
       "        text-align: right;\n",
       "    }\n",
       "</style>\n",
       "<table border=\"1\" class=\"dataframe\">\n",
       "  <thead>\n",
       "    <tr style=\"text-align: right;\">\n",
       "      <th></th>\n",
       "      <th>trip_duration</th>\n",
       "    </tr>\n",
       "    <tr>\n",
       "      <th>start_hour</th>\n",
       "      <th></th>\n",
       "    </tr>\n",
       "  </thead>\n",
       "  <tbody>\n",
       "    <tr>\n",
       "      <td>17</td>\n",
       "      <td>266935</td>\n",
       "    </tr>\n",
       "    <tr>\n",
       "      <td>18</td>\n",
       "      <td>253655</td>\n",
       "    </tr>\n",
       "    <tr>\n",
       "      <td>8</td>\n",
       "      <td>217026</td>\n",
       "    </tr>\n",
       "    <tr>\n",
       "      <td>16</td>\n",
       "      <td>193315</td>\n",
       "    </tr>\n",
       "    <tr>\n",
       "      <td>19</td>\n",
       "      <td>176140</td>\n",
       "    </tr>\n",
       "    <tr>\n",
       "      <td>9</td>\n",
       "      <td>171874</td>\n",
       "    </tr>\n",
       "    <tr>\n",
       "      <td>15</td>\n",
       "      <td>166931</td>\n",
       "    </tr>\n",
       "    <tr>\n",
       "      <td>14</td>\n",
       "      <td>158987</td>\n",
       "    </tr>\n",
       "    <tr>\n",
       "      <td>13</td>\n",
       "      <td>154796</td>\n",
       "    </tr>\n",
       "    <tr>\n",
       "      <td>12</td>\n",
       "      <td>148499</td>\n",
       "    </tr>\n",
       "    <tr>\n",
       "      <td>11</td>\n",
       "      <td>128237</td>\n",
       "    </tr>\n",
       "    <tr>\n",
       "      <td>7</td>\n",
       "      <td>124867</td>\n",
       "    </tr>\n",
       "    <tr>\n",
       "      <td>10</td>\n",
       "      <td>122541</td>\n",
       "    </tr>\n",
       "    <tr>\n",
       "      <td>20</td>\n",
       "      <td>118884</td>\n",
       "    </tr>\n",
       "    <tr>\n",
       "      <td>6</td>\n",
       "      <td>59174</td>\n",
       "    </tr>\n",
       "    <tr>\n",
       "      <td>5</td>\n",
       "      <td>17528</td>\n",
       "    </tr>\n",
       "  </tbody>\n",
       "</table>\n",
       "</div>"
      ],
      "text/plain": [
       "            trip_duration\n",
       "start_hour               \n",
       "17                 266935\n",
       "18                 253655\n",
       "8                  217026\n",
       "16                 193315\n",
       "19                 176140\n",
       "9                  171874\n",
       "15                 166931\n",
       "14                 158987\n",
       "13                 154796\n",
       "12                 148499\n",
       "11                 128237\n",
       "7                  124867\n",
       "10                 122541\n",
       "20                 118884\n",
       "6                   59174\n",
       "5                   17528"
      ]
     },
     "execution_count": 27,
     "metadata": {},
     "output_type": "execute_result"
    }
   ],
   "source": [
    "# Group by the start_hour and see the frequency correspond to each starting hour\n",
    "train_df_weather.groupby('start_hour').count()[['trip_duration']].sort_values(by = 'trip_duration', ascending = False)"
   ]
  },
  {
   "cell_type": "code",
   "execution_count": 28,
   "metadata": {},
   "outputs": [
    {
     "data": {
      "text/html": [
       "<div>\n",
       "<style scoped>\n",
       "    .dataframe tbody tr th:only-of-type {\n",
       "        vertical-align: middle;\n",
       "    }\n",
       "\n",
       "    .dataframe tbody tr th {\n",
       "        vertical-align: top;\n",
       "    }\n",
       "\n",
       "    .dataframe thead th {\n",
       "        text-align: right;\n",
       "    }\n",
       "</style>\n",
       "<table border=\"1\" class=\"dataframe\">\n",
       "  <thead>\n",
       "    <tr style=\"text-align: right;\">\n",
       "      <th></th>\n",
       "      <th>trip_duration</th>\n",
       "      <th>starttime</th>\n",
       "      <th>stoptime</th>\n",
       "      <th>user_type</th>\n",
       "      <th>distance</th>\n",
       "    </tr>\n",
       "  </thead>\n",
       "  <tbody>\n",
       "    <tr>\n",
       "      <td>790733</td>\n",
       "      <td>8096462</td>\n",
       "      <td>2018-02-25 17:06:26.182</td>\n",
       "      <td>2018-05-30 11:07:28.577</td>\n",
       "      <td>Customer</td>\n",
       "      <td>16768.672409</td>\n",
       "    </tr>\n",
       "    <tr>\n",
       "      <td>1033792</td>\n",
       "      <td>5891578</td>\n",
       "      <td>2018-06-02 13:13:38.597</td>\n",
       "      <td>2018-08-09 17:46:37.272</td>\n",
       "      <td>Customer</td>\n",
       "      <td>12202.112658</td>\n",
       "    </tr>\n",
       "    <tr>\n",
       "      <td>210128</td>\n",
       "      <td>5363062</td>\n",
       "      <td>2017-05-04 15:49:08</td>\n",
       "      <td>2017-07-05 17:33:30</td>\n",
       "      <td>Customer</td>\n",
       "      <td>11107.497298</td>\n",
       "    </tr>\n",
       "    <tr>\n",
       "      <td>980106</td>\n",
       "      <td>4602582</td>\n",
       "      <td>2018-05-26 16:42:01.421</td>\n",
       "      <td>2018-07-18 23:11:43.765</td>\n",
       "      <td>Customer</td>\n",
       "      <td>9532.458720</td>\n",
       "    </tr>\n",
       "    <tr>\n",
       "      <td>176137</td>\n",
       "      <td>4318433</td>\n",
       "      <td>2017-05-28 16:55:31</td>\n",
       "      <td>2017-07-17 16:29:25</td>\n",
       "      <td>Subscriber</td>\n",
       "      <td>8943.954569</td>\n",
       "    </tr>\n",
       "    <tr>\n",
       "      <td>589145</td>\n",
       "      <td>3897730</td>\n",
       "      <td>2017-10-12 15:16:31</td>\n",
       "      <td>2017-11-26 16:58:41</td>\n",
       "      <td>Customer</td>\n",
       "      <td>8072.631911</td>\n",
       "    </tr>\n",
       "    <tr>\n",
       "      <td>866420</td>\n",
       "      <td>3653986</td>\n",
       "      <td>2018-04-26 18:27:22.296</td>\n",
       "      <td>2018-06-08 01:27:09.083</td>\n",
       "      <td>Customer</td>\n",
       "      <td>7567.811004</td>\n",
       "    </tr>\n",
       "    <tr>\n",
       "      <td>1024611</td>\n",
       "      <td>3553060</td>\n",
       "      <td>2018-06-18 19:32:57.135</td>\n",
       "      <td>2018-07-29 22:30:37.590</td>\n",
       "      <td>Customer</td>\n",
       "      <td>7358.782044</td>\n",
       "    </tr>\n",
       "    <tr>\n",
       "      <td>2143411</td>\n",
       "      <td>3341929</td>\n",
       "      <td>2019-08-05 19:53:13.655</td>\n",
       "      <td>2019-09-13 12:12:02.969</td>\n",
       "      <td>Customer</td>\n",
       "      <td>6921.506284</td>\n",
       "    </tr>\n",
       "    <tr>\n",
       "      <td>634393</td>\n",
       "      <td>3274876</td>\n",
       "      <td>2017-10-25 16:17:46</td>\n",
       "      <td>2017-12-02 12:59:03</td>\n",
       "      <td>Customer</td>\n",
       "      <td>6782.632071</td>\n",
       "    </tr>\n",
       "    <tr>\n",
       "      <td>1065149</td>\n",
       "      <td>3204053</td>\n",
       "      <td>2018-06-06 08:28:17.033</td>\n",
       "      <td>2018-07-13 10:29:10.993</td>\n",
       "      <td>Subscriber</td>\n",
       "      <td>6635.949769</td>\n",
       "    </tr>\n",
       "    <tr>\n",
       "      <td>1118159</td>\n",
       "      <td>3046126</td>\n",
       "      <td>2018-07-05 16:18:32.714</td>\n",
       "      <td>2018-08-09 22:27:19.105</td>\n",
       "      <td>Customer</td>\n",
       "      <td>6308.865404</td>\n",
       "    </tr>\n",
       "    <tr>\n",
       "      <td>608030</td>\n",
       "      <td>2973441</td>\n",
       "      <td>2017-10-09 19:10:02</td>\n",
       "      <td>2017-11-13 04:07:24</td>\n",
       "      <td>Customer</td>\n",
       "      <td>6158.326693</td>\n",
       "    </tr>\n",
       "    <tr>\n",
       "      <td>840948</td>\n",
       "      <td>2948118</td>\n",
       "      <td>2018-03-06 18:51:53.600</td>\n",
       "      <td>2018-04-09 22:47:12.188</td>\n",
       "      <td>Subscriber</td>\n",
       "      <td>6105.879947</td>\n",
       "    </tr>\n",
       "    <tr>\n",
       "      <td>889104</td>\n",
       "      <td>2769494</td>\n",
       "      <td>2018-04-16 13:30:02.830</td>\n",
       "      <td>2018-05-18 14:48:17.371</td>\n",
       "      <td>Customer</td>\n",
       "      <td>5735.929796</td>\n",
       "    </tr>\n",
       "    <tr>\n",
       "      <td>902924</td>\n",
       "      <td>2726621</td>\n",
       "      <td>2018-04-28 13:13:24.003</td>\n",
       "      <td>2018-05-30 02:37:05.142</td>\n",
       "      <td>Customer</td>\n",
       "      <td>5647.135049</td>\n",
       "    </tr>\n",
       "    <tr>\n",
       "      <td>123752</td>\n",
       "      <td>2696506</td>\n",
       "      <td>2017-04-16 18:29:23</td>\n",
       "      <td>2017-05-17 23:31:10</td>\n",
       "      <td>Customer</td>\n",
       "      <td>5584.763538</td>\n",
       "    </tr>\n",
       "    <tr>\n",
       "      <td>1139072</td>\n",
       "      <td>2536975</td>\n",
       "      <td>2018-07-13 19:23:56.376</td>\n",
       "      <td>2018-08-12 04:06:52.132</td>\n",
       "      <td>Subscriber</td>\n",
       "      <td>5254.357111</td>\n",
       "    </tr>\n",
       "    <tr>\n",
       "      <td>309295</td>\n",
       "      <td>2524373</td>\n",
       "      <td>2017-06-28 19:24:40</td>\n",
       "      <td>2017-07-28 00:37:33</td>\n",
       "      <td>Subscriber</td>\n",
       "      <td>5228.256969</td>\n",
       "    </tr>\n",
       "    <tr>\n",
       "      <td>431613</td>\n",
       "      <td>2457994</td>\n",
       "      <td>2017-08-21 15:50:56</td>\n",
       "      <td>2017-09-19 02:37:30</td>\n",
       "      <td>Subscriber</td>\n",
       "      <td>5090.778684</td>\n",
       "    </tr>\n",
       "  </tbody>\n",
       "</table>\n",
       "</div>"
      ],
      "text/plain": [
       "         trip_duration                starttime                 stoptime  \\\n",
       "790733         8096462  2018-02-25 17:06:26.182  2018-05-30 11:07:28.577   \n",
       "1033792        5891578  2018-06-02 13:13:38.597  2018-08-09 17:46:37.272   \n",
       "210128         5363062      2017-05-04 15:49:08      2017-07-05 17:33:30   \n",
       "980106         4602582  2018-05-26 16:42:01.421  2018-07-18 23:11:43.765   \n",
       "176137         4318433      2017-05-28 16:55:31      2017-07-17 16:29:25   \n",
       "589145         3897730      2017-10-12 15:16:31      2017-11-26 16:58:41   \n",
       "866420         3653986  2018-04-26 18:27:22.296  2018-06-08 01:27:09.083   \n",
       "1024611        3553060  2018-06-18 19:32:57.135  2018-07-29 22:30:37.590   \n",
       "2143411        3341929  2019-08-05 19:53:13.655  2019-09-13 12:12:02.969   \n",
       "634393         3274876      2017-10-25 16:17:46      2017-12-02 12:59:03   \n",
       "1065149        3204053  2018-06-06 08:28:17.033  2018-07-13 10:29:10.993   \n",
       "1118159        3046126  2018-07-05 16:18:32.714  2018-08-09 22:27:19.105   \n",
       "608030         2973441      2017-10-09 19:10:02      2017-11-13 04:07:24   \n",
       "840948         2948118  2018-03-06 18:51:53.600  2018-04-09 22:47:12.188   \n",
       "889104         2769494  2018-04-16 13:30:02.830  2018-05-18 14:48:17.371   \n",
       "902924         2726621  2018-04-28 13:13:24.003  2018-05-30 02:37:05.142   \n",
       "123752         2696506      2017-04-16 18:29:23      2017-05-17 23:31:10   \n",
       "1139072        2536975  2018-07-13 19:23:56.376  2018-08-12 04:06:52.132   \n",
       "309295         2524373      2017-06-28 19:24:40      2017-07-28 00:37:33   \n",
       "431613         2457994      2017-08-21 15:50:56      2017-09-19 02:37:30   \n",
       "\n",
       "          user_type      distance  \n",
       "790733     Customer  16768.672409  \n",
       "1033792    Customer  12202.112658  \n",
       "210128     Customer  11107.497298  \n",
       "980106     Customer   9532.458720  \n",
       "176137   Subscriber   8943.954569  \n",
       "589145     Customer   8072.631911  \n",
       "866420     Customer   7567.811004  \n",
       "1024611    Customer   7358.782044  \n",
       "2143411    Customer   6921.506284  \n",
       "634393     Customer   6782.632071  \n",
       "1065149  Subscriber   6635.949769  \n",
       "1118159    Customer   6308.865404  \n",
       "608030     Customer   6158.326693  \n",
       "840948   Subscriber   6105.879947  \n",
       "889104     Customer   5735.929796  \n",
       "902924     Customer   5647.135049  \n",
       "123752     Customer   5584.763538  \n",
       "1139072  Subscriber   5254.357111  \n",
       "309295   Subscriber   5228.256969  \n",
       "431613   Subscriber   5090.778684  "
      ]
     },
     "execution_count": 28,
     "metadata": {},
     "output_type": "execute_result"
    }
   ],
   "source": [
    "train_df_weather.loc[train_df_weather.distance > 10].sort_values(by = 'trip_duration', ascending = False).\\\n",
    "head(20)[['trip_duration', 'starttime', 'stoptime', 'user_type', 'distance']]"
   ]
  },
  {
   "cell_type": "code",
   "execution_count": 29,
   "metadata": {},
   "outputs": [
    {
     "data": {
      "text/plain": [
       "0.25863274150705995"
      ]
     },
     "execution_count": 29,
     "metadata": {},
     "output_type": "execute_result"
    }
   ],
   "source": [
    "train_df_weather.loc[(train_df_weather.distance > 10) & (train_df_weather.user_type == 'Subscriber')].shape[0]/\\\n",
    "train_df_weather.loc[(train_df_weather.distance > 10)].shape[0]"
   ]
  },
  {
   "cell_type": "code",
   "execution_count": 30,
   "metadata": {},
   "outputs": [
    {
     "data": {
      "text/plain": [
       "0.005769969940174777"
      ]
     },
     "execution_count": 30,
     "metadata": {},
     "output_type": "execute_result"
    }
   ],
   "source": [
    "14306/2479389"
   ]
  },
  {
   "cell_type": "code",
   "execution_count": 31,
   "metadata": {},
   "outputs": [
    {
     "data": {
      "text/plain": [
       "0.8786289686692972"
      ]
     },
     "execution_count": 31,
     "metadata": {},
     "output_type": "execute_result"
    }
   ],
   "source": [
    "train_df_weather.loc[train_df_weather.user_type == 'Subscriber'].shape[0]/train_df_weather.shape[0]"
   ]
  },
  {
   "cell_type": "code",
   "execution_count": 32,
   "metadata": {},
   "outputs": [
    {
     "data": {
      "text/plain": [
       "0.12137103133070284"
      ]
     },
     "execution_count": 32,
     "metadata": {},
     "output_type": "execute_result"
    }
   ],
   "source": [
    "train_df_weather.loc[train_df_weather.user_type != 'Subscriber'].shape[0]/train_df_weather.shape[0]"
   ]
  },
  {
   "cell_type": "code",
   "execution_count": 33,
   "metadata": {},
   "outputs": [
    {
     "data": {
      "text/plain": [
       "<matplotlib.axes._subplots.AxesSubplot at 0x1e6a8a5ef88>"
      ]
     },
     "execution_count": 33,
     "metadata": {},
     "output_type": "execute_result"
    },
    {
     "data": {
      "image/png": "[encoded data removed]",
      "text/plain": [
       "<Figure size 792x288 with 1 Axes>"
      ]
     },
     "metadata": {},
     "output_type": "display_data"
    }
   ],
   "source": [
    "a = train_df_weather.groupby('start_month').mean()[['trip_duration']].reset_index()\n",
    "sns.barplot(x = a.start_month, y = a.trip_duration)"
   ]
  },
  {
   "cell_type": "code",
   "execution_count": 34,
   "metadata": {},
   "outputs": [
    {
     "data": {
      "text/plain": [
       "<matplotlib.axes._subplots.AxesSubplot at 0x1e6aa0a6dc8>"
      ]
     },
     "execution_count": 34,
     "metadata": {},
     "output_type": "execute_result"
    },
    {
     "data": {
      "image/png": "[encoded data removed]",
      "text/plain": [
       "<Figure size 792x288 with 1 Axes>"
      ]
     },
     "metadata": {},
     "output_type": "display_data"
    }
   ],
   "source": [
    "b = train_df_weather.groupby('start_month').count()[['trip_duration']].reset_index()\n",
    "sns.barplot(x = b.start_month, y = b.trip_duration)"
   ]
  },
  {
   "cell_type": "code",
   "execution_count": 35,
   "metadata": {},
   "outputs": [
    {
     "data": {
      "text/plain": [
       "<matplotlib.axes._subplots.AxesSubplot at 0x1e7095b8848>"
      ]
     },
     "execution_count": 35,
     "metadata": {},
     "output_type": "execute_result"
    },
    {
     "data": {
      "image/png": "[encoded data removed]",
      "text/plain": [
       "<Figure size 792x288 with 1 Axes>"
      ]
     },
     "metadata": {},
     "output_type": "display_data"
    }
   ],
   "source": [
    "c = train_df_weather.groupby('start_month').mean()[['distance']].reset_index()\n",
    "sns.barplot(x = c.start_month, y = c.distance)"
   ]
  },
  {
   "cell_type": "markdown",
   "metadata": {},
   "source": [
    "### Weather Impact"
   ]
  },
  {
   "cell_type": "code",
   "execution_count": null,
   "metadata": {},
   "outputs": [],
   "source": []
  },
  {
   "cell_type": "code",
   "execution_count": null,
   "metadata": {},
   "outputs": [],
   "source": []
  },
  {
   "cell_type": "code",
   "execution_count": null,
   "metadata": {},
   "outputs": [],
   "source": []
  }
 ],
 "metadata": {
  "kernelspec": {
   "display_name": "Python 3",
   "language": "python",
   "name": "python3"
  },
  "language_info": {
   "codemirror_mode": {
    "name": "ipython",
    "version": 3
   },
   "file_extension": ".py",
   "mimetype": "text/x-python",
   "name": "python",
   "nbconvert_exporter": "python",
   "pygments_lexer": "ipython3",
   "version": "3.7.4"
  }
 },
 "nbformat": 4,
 "nbformat_minor": 2
}
