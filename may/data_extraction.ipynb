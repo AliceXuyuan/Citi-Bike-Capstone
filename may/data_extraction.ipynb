{
 "cells": [
  {
   "cell_type": "code",
   "execution_count": 134,
   "metadata": {},
   "outputs": [],
   "source": [
    "import numpy as np\n",
    "import pandas as pd\n",
    "from datetime import datetime\n",
    "from sklearn.model_selection import train_test_split\n",
    "import matplotlib.pyplot as plt\n",
    "%matplotlib inline\n",
    "import seaborn as sns\n",
    "import time\n",
    "import mplleaflet"
   ]
  },
  {
   "cell_type": "markdown",
   "metadata": {},
   "source": [
    "## Step 1: Define Helper Functions"
   ]
  },
  {
   "cell_type": "code",
   "execution_count": 2,
   "metadata": {},
   "outputs": [],
   "source": [
    "# csv_files_2017 = [('2017' + \"%.2d\" + '-citibike-tripdata.csv') % i for i in range(1, 13)]\n",
    "# csv_files_2018 = [('2018' + \"%.2d\" + '-citibike-tripdata.csv') % i for i in range(1, 13)]\n",
    "# csv_files_2019 = [('2019' + \"%.2d\" + '-citibike-tripdata.csv') % i for i in range(1, 13)]\n",
    "# csv_files = csv_files_2017 + csv_files_2018 + csv_files_2019"
   ]
  },
  {
   "cell_type": "code",
   "execution_count": 3,
   "metadata": {},
   "outputs": [],
   "source": [
    "# months = ['Jan', 'Feb', 'Mar', 'Apr', 'May', 'Jun', 'Jul', 'Aug', 'Sep', 'Oct', 'Nov', 'Dec']"
   ]
  },
  {
   "cell_type": "code",
   "execution_count": 4,
   "metadata": {},
   "outputs": [],
   "source": [
    "def to_datetime(df):\n",
    "    df1 = df.copy()\n",
    "    df1['starttime'] = pd.to_datetime(df1['starttime'])\n",
    "    df1['stoptime'] = pd.to_datetime(df1['stoptime'])\n",
    "    df1['start_date'] = df1['starttime'].dt.date\n",
    "    df1['start_time'] = df1['starttime'].dt.time\n",
    "    df1['start_hour'] = df1['starttime'].dt.hour\n",
    "    df1['start_min'] = df1['starttime'].dt.minute\n",
    "    df1['start_year'] = df1['starttime'].dt.year\n",
    "    df1['start_month'] = df1['starttime'].dt.month\n",
    "    df1['start_dayofweek'] = df1['starttime'].dt.weekday   # Monday is 0, Sunday is 6\n",
    "    #df1['start_dayofweek'] = df1['starttime'].dt.weekday_name  # The name of day in a week (e.g. Monday)\n",
    "    df1['stop_date'] = df1['stoptime'].dt.date\n",
    "    df1['stop_time'] = df1['stoptime'].dt.time\n",
    "    df1['stop_hour'] = df1['stoptime'].dt.hour\n",
    "    df1['stop_min'] = df1['stoptime'].dt.minute\n",
    "    df1['stop_dayofweek'] = df1['stoptime'].dt.weekday\n",
    "    return df1"
   ]
  },
  {
   "cell_type": "code",
   "execution_count": 5,
   "metadata": {},
   "outputs": [],
   "source": [
    "def ignore_offpeak(df):\n",
    "    df1 = df.copy()\n",
    "    mask = df1['start_hour'].apply(lambda x: 5 <= x <= 20)\n",
    "    return df1[mask]"
   ]
  },
  {
   "cell_type": "code",
   "execution_count": 79,
   "metadata": {},
   "outputs": [
    {
     "name": "stdout",
     "output_type": "stream",
     "text": [
      "2.3357879999997238\n",
      "1.77361863769092 1.9691122484687628e-14\n",
      "1.77361863769092\n"
     ]
    },
    {
     "data": {
      "text/plain": [
       "4.109406637690643"
      ]
     },
     "execution_count": 79,
     "metadata": {},
     "output_type": "execute_result"
    }
   ],
   "source": [
    "import numpy as np\n",
    "from scipy.integrate import quad\n",
    "\n",
    "def lonlat2km( lonlat1, lonlat2, units = 'km', metric = 'man' ):\n",
    "    lon_start = lonlat1[0]\n",
    "    lat_start = lonlat1[1]\n",
    "    lon_end = lonlat2[0]\n",
    "    lat_end = lonlat2[1]\n",
    "\n",
    "    lat_fac = 111 if units == 'km' else 69\n",
    "    delta_y = (lat_end - lat_start) * lat_fac\n",
    "    print( delta_y )\n",
    "\n",
    "    equator_lon_fac = 111.321 if units == 'km' else 69.172\n",
    "    def integrand( lat ):\n",
    "        return np.cos( np.pi * lat / 180 ) * equator_lon_fac\n",
    "    delta_x, xerr = quad( integrand, lat_start, lat_end )\n",
    "    print(delta_x,xerr)\n",
    "    print( delta_x )\n",
    "    \n",
    "    if metric == 'man':\n",
    "        return np.abs( delta_x ) + np.abs( delta_y )\n",
    "    else: #assume Euclidean\n",
    "        return np.sqrt( np.abs( delta_x )**2 + np.abs( delta_y )**2 )\n",
    "\n",
    "lonlat2km([-73.983035,40.744449],[-73.948813,40.778301],units = 'mile', metric = 'man')"
   ]
  },
  {
   "cell_type": "code",
   "execution_count": 78,
   "metadata": {},
   "outputs": [
    {
     "data": {
      "text/html": [
       "<div>\n",
       "<style scoped>\n",
       "    .dataframe tbody tr th:only-of-type {\n",
       "        vertical-align: middle;\n",
       "    }\n",
       "\n",
       "    .dataframe tbody tr th {\n",
       "        vertical-align: top;\n",
       "    }\n",
       "\n",
       "    .dataframe thead th {\n",
       "        text-align: right;\n",
       "    }\n",
       "</style>\n",
       "<table border=\"1\" class=\"dataframe\">\n",
       "  <thead>\n",
       "    <tr style=\"text-align: right;\">\n",
       "      <th></th>\n",
       "      <th>trip_duration</th>\n",
       "      <th>starttime</th>\n",
       "      <th>stoptime</th>\n",
       "      <th>start_station_ID</th>\n",
       "      <th>start_station_name</th>\n",
       "      <th>start_station_latitude</th>\n",
       "      <th>start_station_longitude</th>\n",
       "      <th>end_station_ID</th>\n",
       "      <th>end_station_name</th>\n",
       "      <th>end_station_latitude</th>\n",
       "      <th>end_station_longitude</th>\n",
       "      <th>bike_ID</th>\n",
       "      <th>user_type</th>\n",
       "      <th>birth_year</th>\n",
       "      <th>gender</th>\n",
       "      <th>start_date</th>\n",
       "      <th>start_time</th>\n",
       "      <th>start_hour</th>\n",
       "      <th>start_min</th>\n",
       "      <th>start_year</th>\n",
       "      <th>start_month</th>\n",
       "      <th>start_dayofweek</th>\n",
       "      <th>stop_date</th>\n",
       "      <th>stop_time</th>\n",
       "      <th>stop_hour</th>\n",
       "      <th>stop_min</th>\n",
       "      <th>stop_dayofweek</th>\n",
       "      <th>distance</th>\n",
       "      <th>trip_per_day</th>\n",
       "      <th>daily_avg_trip_duration</th>\n",
       "      <th>daily_avg_distance</th>\n",
       "      <th>trip_per_hour</th>\n",
       "      <th>hourly_avg_trip_duration</th>\n",
       "      <th>hourly_avg_distance</th>\n",
       "      <th>start_station_checkout_counts</th>\n",
       "      <th>start_station_checkin_counts</th>\n",
       "      <th>start_station_bike_added</th>\n",
       "      <th>end_station_checkout_counts</th>\n",
       "      <th>end_station_checkin_counts</th>\n",
       "      <th>end_station_bike_added</th>\n",
       "      <th>AWND</th>\n",
       "      <th>PRCP</th>\n",
       "      <th>SNOW</th>\n",
       "      <th>SNWD</th>\n",
       "      <th>TMAX</th>\n",
       "      <th>TMIN</th>\n",
       "      <th>Fog</th>\n",
       "      <th>Heavy_Fog</th>\n",
       "      <th>Thunder</th>\n",
       "      <th>Hail</th>\n",
       "      <th>Glaze</th>\n",
       "      <th>Haze</th>\n",
       "      <th>TAVG</th>\n",
       "      <th>HasPRCP</th>\n",
       "      <th>HasSNOW</th>\n",
       "    </tr>\n",
       "  </thead>\n",
       "  <tbody>\n",
       "    <tr>\n",
       "      <td>0</td>\n",
       "      <td>1422</td>\n",
       "      <td>2017-01-18 16:50:30</td>\n",
       "      <td>2017-01-18 17:14:13</td>\n",
       "      <td>546.0</td>\n",
       "      <td>E 30 St &amp; Park Ave S</td>\n",
       "      <td>40.744449</td>\n",
       "      <td>-73.983035</td>\n",
       "      <td>3288.0</td>\n",
       "      <td>E 88 St &amp; 1 Ave</td>\n",
       "      <td>40.778301</td>\n",
       "      <td>-73.948813</td>\n",
       "      <td>26352</td>\n",
       "      <td>Subscriber</td>\n",
       "      <td>1981.0</td>\n",
       "      <td>1</td>\n",
       "      <td>2017-01-18</td>\n",
       "      <td>16:50:30</td>\n",
       "      <td>16</td>\n",
       "      <td>50</td>\n",
       "      <td>2017</td>\n",
       "      <td>1</td>\n",
       "      <td>2</td>\n",
       "      <td>2017-01-18</td>\n",
       "      <td>17:14:13</td>\n",
       "      <td>17</td>\n",
       "      <td>14</td>\n",
       "      <td>2</td>\n",
       "      <td>2.945120</td>\n",
       "      <td>28567</td>\n",
       "      <td>701.840480</td>\n",
       "      <td>1.453590</td>\n",
       "      <td>15.0</td>\n",
       "      <td>668.666667</td>\n",
       "      <td>1.384883</td>\n",
       "      <td>15.0</td>\n",
       "      <td>3.0</td>\n",
       "      <td>-12.0</td>\n",
       "      <td>0.0</td>\n",
       "      <td>7.0</td>\n",
       "      <td>7.0</td>\n",
       "      <td>5.82</td>\n",
       "      <td>0.06</td>\n",
       "      <td>0.0</td>\n",
       "      <td>0.0</td>\n",
       "      <td>41</td>\n",
       "      <td>38</td>\n",
       "      <td>1.0</td>\n",
       "      <td>0.0</td>\n",
       "      <td>0.0</td>\n",
       "      <td>0.0</td>\n",
       "      <td>0.0</td>\n",
       "      <td>0.0</td>\n",
       "      <td>39.5</td>\n",
       "      <td>1</td>\n",
       "      <td>0</td>\n",
       "    </tr>\n",
       "    <tr>\n",
       "      <td>1</td>\n",
       "      <td>1704</td>\n",
       "      <td>2017-01-12 17:11:36</td>\n",
       "      <td>2017-01-12 17:40:01</td>\n",
       "      <td>360.0</td>\n",
       "      <td>William St &amp; Pine St</td>\n",
       "      <td>40.707179</td>\n",
       "      <td>-74.008873</td>\n",
       "      <td>501.0</td>\n",
       "      <td>FDR Drive &amp; E 35 St</td>\n",
       "      <td>40.744219</td>\n",
       "      <td>-73.971212</td>\n",
       "      <td>17592</td>\n",
       "      <td>Subscriber</td>\n",
       "      <td>1988.0</td>\n",
       "      <td>1</td>\n",
       "      <td>2017-01-12</td>\n",
       "      <td>17:11:36</td>\n",
       "      <td>17</td>\n",
       "      <td>11</td>\n",
       "      <td>2017</td>\n",
       "      <td>1</td>\n",
       "      <td>3</td>\n",
       "      <td>2017-01-12</td>\n",
       "      <td>17:40:01</td>\n",
       "      <td>17</td>\n",
       "      <td>40</td>\n",
       "      <td>3</td>\n",
       "      <td>3.529173</td>\n",
       "      <td>36767</td>\n",
       "      <td>761.221557</td>\n",
       "      <td>1.576574</td>\n",
       "      <td>10.0</td>\n",
       "      <td>890.500000</td>\n",
       "      <td>1.844324</td>\n",
       "      <td>10.0</td>\n",
       "      <td>1.0</td>\n",
       "      <td>-9.0</td>\n",
       "      <td>10.0</td>\n",
       "      <td>31.0</td>\n",
       "      <td>21.0</td>\n",
       "      <td>7.61</td>\n",
       "      <td>0.05</td>\n",
       "      <td>0.0</td>\n",
       "      <td>0.0</td>\n",
       "      <td>66</td>\n",
       "      <td>47</td>\n",
       "      <td>1.0</td>\n",
       "      <td>0.0</td>\n",
       "      <td>0.0</td>\n",
       "      <td>0.0</td>\n",
       "      <td>0.0</td>\n",
       "      <td>0.0</td>\n",
       "      <td>56.5</td>\n",
       "      <td>1</td>\n",
       "      <td>0</td>\n",
       "    </tr>\n",
       "    <tr>\n",
       "      <td>2</td>\n",
       "      <td>105</td>\n",
       "      <td>2017-01-28 10:24:42</td>\n",
       "      <td>2017-01-28 10:26:27</td>\n",
       "      <td>3085.0</td>\n",
       "      <td>Roebling St &amp; N 4 St</td>\n",
       "      <td>40.714690</td>\n",
       "      <td>-73.957390</td>\n",
       "      <td>3087.0</td>\n",
       "      <td>Metropolitan Ave &amp; Meeker Ave</td>\n",
       "      <td>40.714133</td>\n",
       "      <td>-73.952344</td>\n",
       "      <td>18974</td>\n",
       "      <td>Subscriber</td>\n",
       "      <td>1989.0</td>\n",
       "      <td>1</td>\n",
       "      <td>2017-01-28</td>\n",
       "      <td>10:24:42</td>\n",
       "      <td>10</td>\n",
       "      <td>24</td>\n",
       "      <td>2017</td>\n",
       "      <td>1</td>\n",
       "      <td>5</td>\n",
       "      <td>2017-01-28</td>\n",
       "      <td>10:26:27</td>\n",
       "      <td>10</td>\n",
       "      <td>26</td>\n",
       "      <td>5</td>\n",
       "      <td>0.217467</td>\n",
       "      <td>18974</td>\n",
       "      <td>858.925688</td>\n",
       "      <td>1.778931</td>\n",
       "      <td>2.0</td>\n",
       "      <td>597.500000</td>\n",
       "      <td>1.237489</td>\n",
       "      <td>2.0</td>\n",
       "      <td>0.0</td>\n",
       "      <td>-2.0</td>\n",
       "      <td>0.0</td>\n",
       "      <td>8.0</td>\n",
       "      <td>8.0</td>\n",
       "      <td>7.83</td>\n",
       "      <td>0.00</td>\n",
       "      <td>0.0</td>\n",
       "      <td>0.0</td>\n",
       "      <td>39</td>\n",
       "      <td>34</td>\n",
       "      <td>0.0</td>\n",
       "      <td>0.0</td>\n",
       "      <td>0.0</td>\n",
       "      <td>0.0</td>\n",
       "      <td>0.0</td>\n",
       "      <td>0.0</td>\n",
       "      <td>36.5</td>\n",
       "      <td>0</td>\n",
       "      <td>0</td>\n",
       "    </tr>\n",
       "    <tr>\n",
       "      <td>3</td>\n",
       "      <td>553</td>\n",
       "      <td>2017-01-11 08:20:15</td>\n",
       "      <td>2017-01-11 08:29:29</td>\n",
       "      <td>3236.0</td>\n",
       "      <td>W 42 St &amp; Dyer Ave</td>\n",
       "      <td>40.758985</td>\n",
       "      <td>-73.993800</td>\n",
       "      <td>3159.0</td>\n",
       "      <td>W 67 St &amp; Broadway</td>\n",
       "      <td>40.774925</td>\n",
       "      <td>-73.982666</td>\n",
       "      <td>27109</td>\n",
       "      <td>Subscriber</td>\n",
       "      <td>1976.0</td>\n",
       "      <td>1</td>\n",
       "      <td>2017-01-11</td>\n",
       "      <td>08:20:15</td>\n",
       "      <td>8</td>\n",
       "      <td>20</td>\n",
       "      <td>2017</td>\n",
       "      <td>1</td>\n",
       "      <td>2</td>\n",
       "      <td>2017-01-11</td>\n",
       "      <td>08:29:29</td>\n",
       "      <td>8</td>\n",
       "      <td>29</td>\n",
       "      <td>2</td>\n",
       "      <td>1.145324</td>\n",
       "      <td>31329</td>\n",
       "      <td>755.435635</td>\n",
       "      <td>1.564591</td>\n",
       "      <td>29.0</td>\n",
       "      <td>678.344828</td>\n",
       "      <td>1.404928</td>\n",
       "      <td>29.0</td>\n",
       "      <td>2.0</td>\n",
       "      <td>-27.0</td>\n",
       "      <td>4.0</td>\n",
       "      <td>5.0</td>\n",
       "      <td>1.0</td>\n",
       "      <td>5.82</td>\n",
       "      <td>0.52</td>\n",
       "      <td>0.0</td>\n",
       "      <td>0.0</td>\n",
       "      <td>52</td>\n",
       "      <td>42</td>\n",
       "      <td>1.0</td>\n",
       "      <td>0.0</td>\n",
       "      <td>0.0</td>\n",
       "      <td>0.0</td>\n",
       "      <td>0.0</td>\n",
       "      <td>0.0</td>\n",
       "      <td>47.0</td>\n",
       "      <td>1</td>\n",
       "      <td>0</td>\n",
       "    </tr>\n",
       "    <tr>\n",
       "      <td>4</td>\n",
       "      <td>757</td>\n",
       "      <td>2017-01-16 10:07:03</td>\n",
       "      <td>2017-01-16 10:19:40</td>\n",
       "      <td>3171.0</td>\n",
       "      <td>Amsterdam Ave &amp; W 82 St</td>\n",
       "      <td>40.785247</td>\n",
       "      <td>-73.976673</td>\n",
       "      <td>457.0</td>\n",
       "      <td>Broadway &amp; W 58 St</td>\n",
       "      <td>40.766953</td>\n",
       "      <td>-73.981693</td>\n",
       "      <td>14687</td>\n",
       "      <td>Subscriber</td>\n",
       "      <td>1979.0</td>\n",
       "      <td>2</td>\n",
       "      <td>2017-01-16</td>\n",
       "      <td>10:07:03</td>\n",
       "      <td>10</td>\n",
       "      <td>7</td>\n",
       "      <td>2017</td>\n",
       "      <td>1</td>\n",
       "      <td>0</td>\n",
       "      <td>2017-01-16</td>\n",
       "      <td>10:19:40</td>\n",
       "      <td>10</td>\n",
       "      <td>19</td>\n",
       "      <td>0</td>\n",
       "      <td>1.567831</td>\n",
       "      <td>22159</td>\n",
       "      <td>759.447132</td>\n",
       "      <td>1.572899</td>\n",
       "      <td>4.0</td>\n",
       "      <td>887.250000</td>\n",
       "      <td>1.837593</td>\n",
       "      <td>4.0</td>\n",
       "      <td>4.0</td>\n",
       "      <td>0.0</td>\n",
       "      <td>6.0</td>\n",
       "      <td>5.0</td>\n",
       "      <td>-1.0</td>\n",
       "      <td>4.70</td>\n",
       "      <td>0.00</td>\n",
       "      <td>0.0</td>\n",
       "      <td>0.0</td>\n",
       "      <td>43</td>\n",
       "      <td>30</td>\n",
       "      <td>0.0</td>\n",
       "      <td>0.0</td>\n",
       "      <td>0.0</td>\n",
       "      <td>0.0</td>\n",
       "      <td>0.0</td>\n",
       "      <td>0.0</td>\n",
       "      <td>36.5</td>\n",
       "      <td>0</td>\n",
       "      <td>0</td>\n",
       "    </tr>\n",
       "  </tbody>\n",
       "</table>\n",
       "</div>"
      ],
      "text/plain": [
       "   trip_duration            starttime             stoptime  start_station_ID  \\\n",
       "0           1422  2017-01-18 16:50:30  2017-01-18 17:14:13             546.0   \n",
       "1           1704  2017-01-12 17:11:36  2017-01-12 17:40:01             360.0   \n",
       "2            105  2017-01-28 10:24:42  2017-01-28 10:26:27            3085.0   \n",
       "3            553  2017-01-11 08:20:15  2017-01-11 08:29:29            3236.0   \n",
       "4            757  2017-01-16 10:07:03  2017-01-16 10:19:40            3171.0   \n",
       "\n",
       "        start_station_name  start_station_latitude  start_station_longitude  \\\n",
       "0     E 30 St & Park Ave S               40.744449               -73.983035   \n",
       "1     William St & Pine St               40.707179               -74.008873   \n",
       "2     Roebling St & N 4 St               40.714690               -73.957390   \n",
       "3       W 42 St & Dyer Ave               40.758985               -73.993800   \n",
       "4  Amsterdam Ave & W 82 St               40.785247               -73.976673   \n",
       "\n",
       "   end_station_ID               end_station_name  end_station_latitude  \\\n",
       "0          3288.0                E 88 St & 1 Ave             40.778301   \n",
       "1           501.0            FDR Drive & E 35 St             40.744219   \n",
       "2          3087.0  Metropolitan Ave & Meeker Ave             40.714133   \n",
       "3          3159.0             W 67 St & Broadway             40.774925   \n",
       "4           457.0             Broadway & W 58 St             40.766953   \n",
       "\n",
       "   end_station_longitude  bike_ID   user_type  birth_year  gender  start_date  \\\n",
       "0             -73.948813    26352  Subscriber      1981.0       1  2017-01-18   \n",
       "1             -73.971212    17592  Subscriber      1988.0       1  2017-01-12   \n",
       "2             -73.952344    18974  Subscriber      1989.0       1  2017-01-28   \n",
       "3             -73.982666    27109  Subscriber      1976.0       1  2017-01-11   \n",
       "4             -73.981693    14687  Subscriber      1979.0       2  2017-01-16   \n",
       "\n",
       "  start_time  start_hour  start_min  start_year  start_month  start_dayofweek  \\\n",
       "0   16:50:30          16         50        2017            1                2   \n",
       "1   17:11:36          17         11        2017            1                3   \n",
       "2   10:24:42          10         24        2017            1                5   \n",
       "3   08:20:15           8         20        2017            1                2   \n",
       "4   10:07:03          10          7        2017            1                0   \n",
       "\n",
       "    stop_date stop_time  stop_hour  stop_min  stop_dayofweek  distance  \\\n",
       "0  2017-01-18  17:14:13         17        14               2  2.945120   \n",
       "1  2017-01-12  17:40:01         17        40               3  3.529173   \n",
       "2  2017-01-28  10:26:27         10        26               5  0.217467   \n",
       "3  2017-01-11  08:29:29          8        29               2  1.145324   \n",
       "4  2017-01-16  10:19:40         10        19               0  1.567831   \n",
       "\n",
       "   trip_per_day  daily_avg_trip_duration  daily_avg_distance  trip_per_hour  \\\n",
       "0         28567               701.840480            1.453590           15.0   \n",
       "1         36767               761.221557            1.576574           10.0   \n",
       "2         18974               858.925688            1.778931            2.0   \n",
       "3         31329               755.435635            1.564591           29.0   \n",
       "4         22159               759.447132            1.572899            4.0   \n",
       "\n",
       "   hourly_avg_trip_duration  hourly_avg_distance  \\\n",
       "0                668.666667             1.384883   \n",
       "1                890.500000             1.844324   \n",
       "2                597.500000             1.237489   \n",
       "3                678.344828             1.404928   \n",
       "4                887.250000             1.837593   \n",
       "\n",
       "   start_station_checkout_counts  start_station_checkin_counts  \\\n",
       "0                           15.0                           3.0   \n",
       "1                           10.0                           1.0   \n",
       "2                            2.0                           0.0   \n",
       "3                           29.0                           2.0   \n",
       "4                            4.0                           4.0   \n",
       "\n",
       "   start_station_bike_added  end_station_checkout_counts  \\\n",
       "0                     -12.0                          0.0   \n",
       "1                      -9.0                         10.0   \n",
       "2                      -2.0                          0.0   \n",
       "3                     -27.0                          4.0   \n",
       "4                       0.0                          6.0   \n",
       "\n",
       "   end_station_checkin_counts  end_station_bike_added  AWND  PRCP  SNOW  SNWD  \\\n",
       "0                         7.0                     7.0  5.82  0.06   0.0   0.0   \n",
       "1                        31.0                    21.0  7.61  0.05   0.0   0.0   \n",
       "2                         8.0                     8.0  7.83  0.00   0.0   0.0   \n",
       "3                         5.0                     1.0  5.82  0.52   0.0   0.0   \n",
       "4                         5.0                    -1.0  4.70  0.00   0.0   0.0   \n",
       "\n",
       "   TMAX  TMIN  Fog  Heavy_Fog  Thunder  Hail  Glaze  Haze  TAVG  HasPRCP  \\\n",
       "0    41    38  1.0        0.0      0.0   0.0    0.0   0.0  39.5        1   \n",
       "1    66    47  1.0        0.0      0.0   0.0    0.0   0.0  56.5        1   \n",
       "2    39    34  0.0        0.0      0.0   0.0    0.0   0.0  36.5        0   \n",
       "3    52    42  1.0        0.0      0.0   0.0    0.0   0.0  47.0        1   \n",
       "4    43    30  0.0        0.0      0.0   0.0    0.0   0.0  36.5        0   \n",
       "\n",
       "   HasSNOW  \n",
       "0        0  \n",
       "1        0  \n",
       "2        0  \n",
       "3        0  \n",
       "4        0  "
      ]
     },
     "execution_count": 78,
     "metadata": {},
     "output_type": "execute_result"
    }
   ],
   "source": [
    "pd.set_option('display.max_columns',60)\n",
    "train_df_weather.head()"
   ]
  },
  {
   "cell_type": "code",
   "execution_count": 6,
   "metadata": {},
   "outputs": [],
   "source": [
    "def aggregated_data(df):\n",
    "    # Calculate daily trip counts, avg trip duration, and avg trip distance and merge to original df\n",
    "    # Method 1: use long and lat to estimate distance travelled \n",
    "#     log_diff = df['end_station_longitude']-df['start_station_longitude']\n",
    "#     lat_diff = df['end_station_latitude']-df['start_station_latitude']\n",
    "#     df['distance'] = abs(log_diff)*53 + abs(lat_diff)*69\n",
    "    # Method 2: Naive way of estimating distance based on an average speed of 7.456 mph\n",
    "    df['distance'] = df['trip_duration']*7.456/3600\n",
    "    df_daily = df.groupby('start_date').agg({'trip_duration':['count','mean'],'distance':'mean'}).reset_index()\n",
    "    df_daily.columns = ['start_date','trip_per_day','daily_avg_trip_duration','daily_avg_distance']\n",
    "    df_daily_merged = df.merge(df_daily, how = 'left', on = 'start_date')\n",
    "    # Calculate hourly trip counts, avg trip duration, and avg trip distance per station and merge to above df\n",
    "    df_hourly = df_daily_merged.groupby(['start_station_ID','start_date','start_hour']).\\\n",
    "    agg({'trip_duration':['count','mean'],'distance':'mean'}).reset_index()\n",
    "    df_hourly.columns = ['start_station_ID','start_date','start_hour','trip_per_hour','hourly_avg_trip_duration','hourly_avg_distance']\n",
    "    df_hourly_merged = df_daily_merged.merge(df_hourly, how = 'left', on = ['start_station_ID','start_date','start_hour'])\n",
    "    return df_hourly_merged    "
   ]
  },
  {
   "cell_type": "code",
   "execution_count": 7,
   "metadata": {},
   "outputs": [],
   "source": [
    "def merge_bikecount(df):\n",
    "    # groupby start station ID, date and hour to get hourly counts of trips per start station\n",
    "    checkout = df.groupby(['start_station_ID','start_date','start_hour'])['trip_duration'].count().reset_index()\n",
    "    checkout.columns = ['start_station_ID','start_date','start_hour','checkout_counts']\n",
    "    # groupby end station ID, date, and hour to get hourly counts of trips per end station \n",
    "    checkin = df.groupby(['end_station_ID','stop_date','stop_hour'])[['trip_duration']].count().reset_index()\n",
    "    checkin.columns=['end_station_ID','stop_date','stop_hour','checkin_counts']\n",
    "    # Join dataframe to get station checkin and checkout counts \n",
    "    temp = pd.merge(checkout, checkin,  how='outer', left_on=['start_station_ID','start_date','start_hour'], \n",
    "                    right_on = ['end_station_ID','stop_date','stop_hour'])\n",
    "    temp['start_station_ID'] = temp['start_station_ID'].fillna(temp['end_station_ID'])\n",
    "    temp['start_date'] = temp['start_date'].fillna(temp['stop_date'])\n",
    "    temp['start_hour'] = temp['start_hour'].fillna(temp['stop_hour'])\n",
    "    temp['checkout_counts'] = temp['checkout_counts'].fillna(0)\n",
    "    temp['checkin_counts'] = temp['checkin_counts'].fillna(0)\n",
    "    temp = temp.drop(['end_station_ID','stop_date','stop_hour'],axis=1)\n",
    "    temp.columns=['station_ID','date','hour','checkout_counts','checkin_counts']\n",
    "    temp['bike_added'] = temp['checkin_counts'] - temp['checkout_counts']\n",
    "    # merge orginal dataframe to get hourly checkin/checkout information for both start and stop stations \n",
    "    df_temp_merged = pd.merge(df, temp,  how='left', left_on=['start_station_ID','start_date','start_hour'], \n",
    "         right_on = ['station_ID','date','hour']).drop(['station_ID','date','hour'],axis = 1)\n",
    "    df_temp_merged = pd.merge(df_temp_merged, temp,  how='left', left_on=['end_station_ID','stop_date','stop_hour'], \n",
    "         right_on = ['station_ID','date','hour']).drop(['station_ID','date','hour'],axis = 1) \n",
    "    df_temp_merged = df_temp_merged.rename(columns={'checkout_counts_x':'start_station_checkout_counts',\n",
    "                                                    'checkin_counts_x':'start_station_checkin_counts',\n",
    "                                                    'bike_added_x':'start_station_bike_added', \n",
    "                                                    'checkout_counts_y':'end_station_checkout_counts',\n",
    "                                                    'checkin_counts_y':'end_station_checkin_counts',\n",
    "                                                    'bike_added_y':'end_station_bike_added'}) \n",
    "    return df_temp_merged\n",
    "    "
   ]
  },
  {
   "cell_type": "markdown",
   "metadata": {},
   "source": [
    "## Merge Datasets"
   ]
  },
  {
   "cell_type": "code",
   "execution_count": 8,
   "metadata": {},
   "outputs": [],
   "source": [
    "# total_time = 0\n",
    "# for i, csv in enumerate(csv_files):\n",
    "#     start_time = time.time()\n",
    "#     df_temp = pd.read_csv('../Tripdata/'+csv)\n",
    "#     df_temp.columns = ['trip_duration','starttime','stoptime','start_station_ID','start_station_name',\n",
    "#                        'start_station_latitude','start_station_longitude','end_station_ID','end_station_name',\n",
    "#                        'end_station_latitude','end_station_longitude','bike_ID','user_type','birth_year','gender']\n",
    "#     df_temp = to_datetime(df_temp)\n",
    "#     df_temp = ignore_offpeak(df_temp)\n",
    "#     df_temp = aggregated_data(df_temp)\n",
    "#     # Take a 5% subset of the monthly file as training dataset\n",
    "#     df_validate, df_train = train_test_split(merge_bikecount(df_temp), test_size=0.05, random_state=42 )\n",
    "#     # Take a 5% of the validate data set as test dataset\n",
    "#     df_notused, df_test = train_test_split(df_validate, test_size=0.05, random_state=42 )\n",
    "#     df_train.to_csv(months[i%12] + csv[:4] + 'train.csv')\n",
    "#     df_test.to_csv(months[i%12] + csv[:4] + 'test.csv')\n",
    "#     print('Finishing data extraction from ' + csv)\n",
    "#     timeSpent = time.time() - start_time\n",
    "#     print('This iteration uses %.2f'%(timeSpent))\n",
    "#     total_time += timeSpent"
   ]
  },
  {
   "cell_type": "code",
   "execution_count": 9,
   "metadata": {},
   "outputs": [],
   "source": [
    "# train_list = []\n",
    "# test_list = []\n",
    "# for i, csv in enumerate(csv_files):\n",
    "#     train_list.append(months[i%12] + csv[:4] + 'train.csv')\n",
    "#     test_list.append(months[i%12] + csv[:4] + 'test.csv')"
   ]
  },
  {
   "cell_type": "code",
   "execution_count": 10,
   "metadata": {},
   "outputs": [],
   "source": [
    "# Merge all months train.csv into one train dataframe\n",
    "# train_df = pd.DataFrame()\n",
    "# for i in range(len(train_list)):\n",
    "#     temp_df = pd.read_csv(train_list[i], index_col = 0)\n",
    "#     train_df = pd.concat([train_df, temp_df], axis = 0)\n",
    "#     print('Finished ' + str(i) + ' element')\n",
    "# train_df.to_csv('train.csv')"
   ]
  },
  {
   "cell_type": "code",
   "execution_count": 11,
   "metadata": {},
   "outputs": [],
   "source": [
    "# Merge all months test.csv into one test dataframe\n",
    "# test_df = pd.DataFrame()\n",
    "# for i in range(len(test_list)):\n",
    "#     temp_df = pd.read_csv(test_list[i], index_col = 0)\n",
    "#     test_df = pd.concat([test_df, temp_df], axis = 0)\n",
    "#     print('Finished ' + str(i) + ' element')\n",
    "# test_df.to_csv('test.csv')"
   ]
  },
  {
   "cell_type": "code",
   "execution_count": 12,
   "metadata": {},
   "outputs": [],
   "source": [
    "# train_df = pd.read_csv('train.csv', index_col = 0)"
   ]
  },
  {
   "cell_type": "code",
   "execution_count": 13,
   "metadata": {},
   "outputs": [],
   "source": [
    "# test_df = pd.read_csv('test.csv', index_col = 0)"
   ]
  },
  {
   "cell_type": "markdown",
   "metadata": {},
   "source": [
    "### Merge Weather Dataset"
   ]
  },
  {
   "cell_type": "code",
   "execution_count": 14,
   "metadata": {},
   "outputs": [],
   "source": [
    "# weather = pd.read_csv('weather.csv',index_col = 0).reset_index()\n",
    "# weather = weather.fillna(0)\n",
    "# weather['DATE'] = pd.to_datetime(weather['DATE'])\n",
    "# weather['TAVG'] = (weather['TMIN']+weather['TMAX'])/2\n",
    "# weather['HasPRCP'] = [1 if x !=0 else 0 for x in weather['PRCP']]\n",
    "# weather['HasSNOW'] = [1 if x !=0 else 0 for x in weather['SNOW']]"
   ]
  },
  {
   "cell_type": "code",
   "execution_count": 15,
   "metadata": {},
   "outputs": [],
   "source": [
    "# weather"
   ]
  },
  {
   "cell_type": "code",
   "execution_count": 16,
   "metadata": {},
   "outputs": [],
   "source": [
    "# train_df['start_date'] = pd.to_datetime(train_df['start_date'])\n",
    "# train_df_weather = train_df.merge(weather,how='left',\n",
    "#                                   left_on = 'start_date', right_on = 'DATE').drop(['DATE'],axis=1)"
   ]
  },
  {
   "cell_type": "code",
   "execution_count": 17,
   "metadata": {},
   "outputs": [],
   "source": [
    "# test_df['start_date'] = pd.to_datetime(test_df['start_date'])\n",
    "# test_df_weather = test_df.merge(weather,how='left',\n",
    "#                                   left_on = 'start_date', right_on = 'DATE').drop(['DATE'],axis=1)"
   ]
  },
  {
   "cell_type": "code",
   "execution_count": 18,
   "metadata": {},
   "outputs": [],
   "source": [
    "# train_df_weather.to_csv('train_weather.csv')\n",
    "# test_df_weather.to_csv('test_weather.csv')"
   ]
  },
  {
   "cell_type": "markdown",
   "metadata": {},
   "source": [
    "### Load Merged Dataset"
   ]
  },
  {
   "cell_type": "code",
   "execution_count": 19,
   "metadata": {},
   "outputs": [
    {
     "name": "stderr",
     "output_type": "stream",
     "text": [
      "C:\\Users\\zhang\\Anaconda3\\lib\\site-packages\\numpy\\lib\\arraysetops.py:569: FutureWarning: elementwise comparison failed; returning scalar instead, but in the future will perform elementwise comparison\n",
      "  mask |= (ar1 == a)\n"
     ]
    }
   ],
   "source": [
    "train_df_weather = pd.read_csv('train_weather.csv',index_col = 0)\n",
    "test_df_weather = pd.read_csv('test_weather.csv',index_col = 0)"
   ]
  },
  {
   "cell_type": "code",
   "execution_count": 80,
   "metadata": {},
   "outputs": [],
   "source": [
    "train_df_weather['Isweekday'] = [0 if (x ==5 or x==6) else 1 for x in train_df_weather['start_dayofweek'] ]"
   ]
  },
  {
   "cell_type": "code",
   "execution_count": 94,
   "metadata": {},
   "outputs": [
    {
     "data": {
      "text/html": [
       "<div>\n",
       "<style scoped>\n",
       "    .dataframe tbody tr th:only-of-type {\n",
       "        vertical-align: middle;\n",
       "    }\n",
       "\n",
       "    .dataframe tbody tr th {\n",
       "        vertical-align: top;\n",
       "    }\n",
       "\n",
       "    .dataframe thead th {\n",
       "        text-align: right;\n",
       "    }\n",
       "</style>\n",
       "<table border=\"1\" class=\"dataframe\">\n",
       "  <thead>\n",
       "    <tr style=\"text-align: right;\">\n",
       "      <th></th>\n",
       "      <th>Isweekday</th>\n",
       "      <th>start_hour</th>\n",
       "      <th>Commute</th>\n",
       "    </tr>\n",
       "  </thead>\n",
       "  <tbody>\n",
       "    <tr>\n",
       "      <td>0</td>\n",
       "      <td>1</td>\n",
       "      <td>16</td>\n",
       "      <td>1</td>\n",
       "    </tr>\n",
       "    <tr>\n",
       "      <td>1</td>\n",
       "      <td>1</td>\n",
       "      <td>17</td>\n",
       "      <td>1</td>\n",
       "    </tr>\n",
       "    <tr>\n",
       "      <td>2</td>\n",
       "      <td>0</td>\n",
       "      <td>10</td>\n",
       "      <td>0</td>\n",
       "    </tr>\n",
       "    <tr>\n",
       "      <td>3</td>\n",
       "      <td>1</td>\n",
       "      <td>8</td>\n",
       "      <td>1</td>\n",
       "    </tr>\n",
       "    <tr>\n",
       "      <td>4</td>\n",
       "      <td>1</td>\n",
       "      <td>10</td>\n",
       "      <td>0</td>\n",
       "    </tr>\n",
       "    <tr>\n",
       "      <td>...</td>\n",
       "      <td>...</td>\n",
       "      <td>...</td>\n",
       "      <td>...</td>\n",
       "    </tr>\n",
       "    <tr>\n",
       "      <td>2479384</td>\n",
       "      <td>0</td>\n",
       "      <td>8</td>\n",
       "      <td>0</td>\n",
       "    </tr>\n",
       "    <tr>\n",
       "      <td>2479385</td>\n",
       "      <td>0</td>\n",
       "      <td>17</td>\n",
       "      <td>0</td>\n",
       "    </tr>\n",
       "    <tr>\n",
       "      <td>2479386</td>\n",
       "      <td>1</td>\n",
       "      <td>18</td>\n",
       "      <td>1</td>\n",
       "    </tr>\n",
       "    <tr>\n",
       "      <td>2479387</td>\n",
       "      <td>1</td>\n",
       "      <td>18</td>\n",
       "      <td>1</td>\n",
       "    </tr>\n",
       "    <tr>\n",
       "      <td>2479388</td>\n",
       "      <td>0</td>\n",
       "      <td>16</td>\n",
       "      <td>0</td>\n",
       "    </tr>\n",
       "  </tbody>\n",
       "</table>\n",
       "<p>2479389 rows × 3 columns</p>\n",
       "</div>"
      ],
      "text/plain": [
       "         Isweekday  start_hour  Commute\n",
       "0                1          16        1\n",
       "1                1          17        1\n",
       "2                0          10        0\n",
       "3                1           8        1\n",
       "4                1          10        0\n",
       "...            ...         ...      ...\n",
       "2479384          0           8        0\n",
       "2479385          0          17        0\n",
       "2479386          1          18        1\n",
       "2479387          1          18        1\n",
       "2479388          0          16        0\n",
       "\n",
       "[2479389 rows x 3 columns]"
      ]
     },
     "execution_count": 94,
     "metadata": {},
     "output_type": "execute_result"
    }
   ],
   "source": [
    "# Assuming bikers during peak hours on weekdays are commuting\n",
    "rushhours = [8,9,16,17,18,19]\n",
    "train_df_weather['Commute'] = np.where(((train_df_weather['Isweekday']==1) &\n",
    "                                        (train_df_weather['start_hour'].isin(rushhours))),1,0)\n",
    "train_df_weather[['Isweekday','start_hour','Commute']]"
   ]
  },
  {
   "cell_type": "code",
   "execution_count": 95,
   "metadata": {},
   "outputs": [
    {
     "data": {
      "text/plain": [
       "<matplotlib.axes._subplots.AxesSubplot at 0x1968f0bafc8>"
      ]
     },
     "execution_count": 95,
     "metadata": {},
     "output_type": "execute_result"
    },
    {
     "data": {
      "image/png": "[encoded data removed]",
      "text/plain": [
       "<Figure size 792x288 with 1 Axes>"
      ]
     },
     "metadata": {},
     "output_type": "display_data"
    }
   ],
   "source": [
    "sns.countplot(x = 'Commute',data = train_df_weather)"
   ]
  },
  {
   "cell_type": "markdown",
   "metadata": {},
   "source": [
    "### Compare Weekday and Weekend Activities"
   ]
  },
  {
   "cell_type": "code",
   "execution_count": 108,
   "metadata": {},
   "outputs": [
    {
     "data": {
      "text/plain": [
       "Text(0, 0.5, 'Avg Distance(mile)')"
      ]
     },
     "execution_count": 108,
     "metadata": {},
     "output_type": "execute_result"
    },
    {
     "data": {
      "image/png": "[encoded data removed]",
      "text/plain": [
       "<Figure size 792x648 with 3 Axes>"
      ]
     },
     "metadata": {},
     "output_type": "display_data"
    }
   ],
   "source": [
    "Weekday = train_df_weather[['Isweekday','trip_per_day','daily_avg_trip_duration','daily_avg_distance']]\n",
    "Weekday.columns =  ['Isweekday','Daily Trip Count','Avg Trip Duration','Avg Distance']\n",
    "Weekday = Weekday.groupby('Isweekday').agg('mean').reset_index()\n",
    "\n",
    "sns.set(rc={'figure.figsize':(11, 4)})\n",
    "cols_plot = ['Daily Trip Count','Avg Trip Duration','Avg Distance']\n",
    "axes = Weekday[cols_plot].plot(kind='bar', alpha=0.5, linestyle='None', figsize=(11, 9), subplots=True,rot = 0)\n",
    "axes[0].set_ylabel('Daily Trip Count')\n",
    "axes[1].set_ylabel('Avg Trip Duration(s)')\n",
    "axes[2].set_ylabel('Avg Distance(mile)')"
   ]
  },
  {
   "cell_type": "markdown",
   "metadata": {},
   "source": [
    "### Check Rush Hours "
   ]
  },
  {
   "cell_type": "code",
   "execution_count": 117,
   "metadata": {},
   "outputs": [
    {
     "data": {
      "text/html": [
       "<div>\n",
       "<style scoped>\n",
       "    .dataframe tbody tr th:only-of-type {\n",
       "        vertical-align: middle;\n",
       "    }\n",
       "\n",
       "    .dataframe tbody tr th {\n",
       "        vertical-align: top;\n",
       "    }\n",
       "\n",
       "    .dataframe thead th {\n",
       "        text-align: right;\n",
       "    }\n",
       "</style>\n",
       "<table border=\"1\" class=\"dataframe\">\n",
       "  <thead>\n",
       "    <tr style=\"text-align: right;\">\n",
       "      <th></th>\n",
       "      <th>trip_duration</th>\n",
       "    </tr>\n",
       "    <tr>\n",
       "      <th>start_hour</th>\n",
       "      <th></th>\n",
       "    </tr>\n",
       "  </thead>\n",
       "  <tbody>\n",
       "    <tr>\n",
       "      <td>17</td>\n",
       "      <td>266935</td>\n",
       "    </tr>\n",
       "    <tr>\n",
       "      <td>18</td>\n",
       "      <td>253655</td>\n",
       "    </tr>\n",
       "    <tr>\n",
       "      <td>8</td>\n",
       "      <td>217026</td>\n",
       "    </tr>\n",
       "    <tr>\n",
       "      <td>16</td>\n",
       "      <td>193315</td>\n",
       "    </tr>\n",
       "    <tr>\n",
       "      <td>19</td>\n",
       "      <td>176140</td>\n",
       "    </tr>\n",
       "    <tr>\n",
       "      <td>9</td>\n",
       "      <td>171874</td>\n",
       "    </tr>\n",
       "  </tbody>\n",
       "</table>\n",
       "</div>"
      ],
      "text/plain": [
       "            trip_duration\n",
       "start_hour               \n",
       "17                 266935\n",
       "18                 253655\n",
       "8                  217026\n",
       "16                 193315\n",
       "19                 176140\n",
       "9                  171874"
      ]
     },
     "execution_count": 117,
     "metadata": {},
     "output_type": "execute_result"
    }
   ],
   "source": [
    "# Group by the start_hour and see the frequency correspond to each starting hour\n",
    "train_df_weather.groupby('start_hour').count()[['trip_duration']].sort_values(by = 'trip_duration', ascending = False).head(6)"
   ]
  },
  {
   "cell_type": "code",
   "execution_count": 214,
   "metadata": {},
   "outputs": [
    {
     "data": {
      "text/plain": [
       "Index(['trip_duration', 'starttime', 'stoptime', 'start_station_ID',\n",
       "       'start_station_name', 'start_station_latitude',\n",
       "       'start_station_longitude', 'end_station_ID', 'end_station_name',\n",
       "       'end_station_latitude', 'end_station_longitude', 'bike_ID', 'user_type',\n",
       "       'birth_year', 'gender', 'start_date', 'start_time', 'start_hour',\n",
       "       'start_min', 'start_year', 'start_month', 'start_dayofweek',\n",
       "       'stop_date', 'stop_time', 'stop_hour', 'stop_min', 'stop_dayofweek',\n",
       "       'distance', 'trip_per_day', 'daily_avg_trip_duration',\n",
       "       'daily_avg_distance', 'trip_per_hour', 'hourly_avg_trip_duration',\n",
       "       'hourly_avg_distance', 'start_station_checkout_counts',\n",
       "       'start_station_checkin_counts', 'start_station_bike_added',\n",
       "       'end_station_checkout_counts', 'end_station_checkin_counts',\n",
       "       'end_station_bike_added', 'AWND', 'PRCP', 'SNOW', 'SNWD', 'TMAX',\n",
       "       'TMIN', 'Fog', 'Heavy_Fog', 'Thunder', 'Hail', 'Glaze', 'Haze', 'TAVG',\n",
       "       'HasPRCP', 'HasSNOW', 'Isweekday', 'Commute'],\n",
       "      dtype='object')"
      ]
     },
     "execution_count": 214,
     "metadata": {},
     "output_type": "execute_result"
    }
   ],
   "source": [
    "train_df_weather.columns"
   ]
  },
  {
   "cell_type": "code",
   "execution_count": 198,
   "metadata": {},
   "outputs": [
    {
     "data": {
      "text/html": [
       "<div>\n",
       "<style scoped>\n",
       "    .dataframe tbody tr th:only-of-type {\n",
       "        vertical-align: middle;\n",
       "    }\n",
       "\n",
       "    .dataframe tbody tr th {\n",
       "        vertical-align: top;\n",
       "    }\n",
       "\n",
       "    .dataframe thead th {\n",
       "        text-align: right;\n",
       "    }\n",
       "</style>\n",
       "<table border=\"1\" class=\"dataframe\">\n",
       "  <thead>\n",
       "    <tr style=\"text-align: right;\">\n",
       "      <th></th>\n",
       "      <th>trip_duration</th>\n",
       "      <th>start_station_latitude</th>\n",
       "      <th>start_station_longitude</th>\n",
       "    </tr>\n",
       "    <tr>\n",
       "      <th>start_station_name</th>\n",
       "      <th></th>\n",
       "      <th></th>\n",
       "      <th></th>\n",
       "    </tr>\n",
       "  </thead>\n",
       "  <tbody>\n",
       "    <tr>\n",
       "      <td>Pershing Square North</td>\n",
       "      <td>20080</td>\n",
       "      <td>40.751873</td>\n",
       "      <td>-73.977706</td>\n",
       "    </tr>\n",
       "    <tr>\n",
       "      <td>Broadway &amp; E 22 St</td>\n",
       "      <td>12975</td>\n",
       "      <td>40.740343</td>\n",
       "      <td>-73.989551</td>\n",
       "    </tr>\n",
       "    <tr>\n",
       "      <td>E 17 St &amp; Broadway</td>\n",
       "      <td>12252</td>\n",
       "      <td>40.737050</td>\n",
       "      <td>-73.990093</td>\n",
       "    </tr>\n",
       "    <tr>\n",
       "      <td>8 Ave &amp; W 31 St</td>\n",
       "      <td>12053</td>\n",
       "      <td>40.750585</td>\n",
       "      <td>-73.994685</td>\n",
       "    </tr>\n",
       "    <tr>\n",
       "      <td>W 21 St &amp; 6 Ave</td>\n",
       "      <td>11610</td>\n",
       "      <td>40.741740</td>\n",
       "      <td>-73.994156</td>\n",
       "    </tr>\n",
       "  </tbody>\n",
       "</table>\n",
       "</div>"
      ],
      "text/plain": [
       "                       trip_duration  start_station_latitude  \\\n",
       "start_station_name                                             \n",
       "Pershing Square North          20080               40.751873   \n",
       "Broadway & E 22 St             12975               40.740343   \n",
       "E 17 St & Broadway             12252               40.737050   \n",
       "8 Ave & W 31 St                12053               40.750585   \n",
       "W 21 St & 6 Ave                11610               40.741740   \n",
       "\n",
       "                       start_station_longitude  \n",
       "start_station_name                              \n",
       "Pershing Square North               -73.977706  \n",
       "Broadway & E 22 St                  -73.989551  \n",
       "E 17 St & Broadway                  -73.990093  \n",
       "8 Ave & W 31 St                     -73.994685  \n",
       "W 21 St & 6 Ave                     -73.994156  "
      ]
     },
     "execution_count": 198,
     "metadata": {},
     "output_type": "execute_result"
    }
   ],
   "source": [
    "# Top 50 stations during rush hours on weekdays\n",
    "top50_weekdays = train_df_weather.loc[train_df_weather['Isweekday']==1].groupby(['start_station_name']).agg({'trip_duration':'count','start_station_latitude':lambda x: x.iloc[0], 'start_station_longitude':lambda x: x.iloc[0]}).\\\n",
    "sort_values(by = 'trip_duration', ascending = False).head(50)\n",
    "top50_weekdays.head()"
   ]
  },
  {
   "cell_type": "code",
   "execution_count": 212,
   "metadata": {},
   "outputs": [
    {
     "data": {
      "text/html": [
       "<div>\n",
       "<style scoped>\n",
       "    .dataframe tbody tr th:only-of-type {\n",
       "        vertical-align: middle;\n",
       "    }\n",
       "\n",
       "    .dataframe tbody tr th {\n",
       "        vertical-align: top;\n",
       "    }\n",
       "\n",
       "    .dataframe thead th {\n",
       "        text-align: right;\n",
       "    }\n",
       "</style>\n",
       "<table border=\"1\" class=\"dataframe\">\n",
       "  <thead>\n",
       "    <tr style=\"text-align: right;\">\n",
       "      <th></th>\n",
       "      <th>trip_duration</th>\n",
       "      <th>start_station_latitude</th>\n",
       "      <th>start_station_longitude</th>\n",
       "    </tr>\n",
       "    <tr>\n",
       "      <th>start_station_name</th>\n",
       "      <th></th>\n",
       "      <th></th>\n",
       "      <th></th>\n",
       "    </tr>\n",
       "  </thead>\n",
       "  <tbody>\n",
       "    <tr>\n",
       "      <td>Adam Clayton Powell Blvd &amp; W 126 St</td>\n",
       "      <td>28636.608295</td>\n",
       "      <td>40.809495</td>\n",
       "      <td>-73.947765</td>\n",
       "    </tr>\n",
       "    <tr>\n",
       "      <td>Myrtle Ave &amp; Marcy Ave</td>\n",
       "      <td>12544.577465</td>\n",
       "      <td>40.695398</td>\n",
       "      <td>-73.949549</td>\n",
       "    </tr>\n",
       "    <tr>\n",
       "      <td>Marcus Garvey Blvd &amp; Macon St</td>\n",
       "      <td>10467.397810</td>\n",
       "      <td>40.682601</td>\n",
       "      <td>-73.938037</td>\n",
       "    </tr>\n",
       "    <tr>\n",
       "      <td>Verona Pl &amp; Fulton St</td>\n",
       "      <td>10170.922438</td>\n",
       "      <td>40.680356</td>\n",
       "      <td>-73.947679</td>\n",
       "    </tr>\n",
       "    <tr>\n",
       "      <td>Putnam Ave &amp; Throop Ave</td>\n",
       "      <td>8925.109333</td>\n",
       "      <td>40.685153</td>\n",
       "      <td>-73.941110</td>\n",
       "    </tr>\n",
       "  </tbody>\n",
       "</table>\n",
       "</div>"
      ],
      "text/plain": [
       "                                     trip_duration  start_station_latitude  \\\n",
       "start_station_name                                                           \n",
       "Adam Clayton Powell Blvd & W 126 St   28636.608295               40.809495   \n",
       "Myrtle Ave & Marcy Ave                12544.577465               40.695398   \n",
       "Marcus Garvey Blvd & Macon St         10467.397810               40.682601   \n",
       "Verona Pl & Fulton St                 10170.922438               40.680356   \n",
       "Putnam Ave & Throop Ave                8925.109333               40.685153   \n",
       "\n",
       "                                     start_station_longitude  \n",
       "start_station_name                                            \n",
       "Adam Clayton Powell Blvd & W 126 St               -73.947765  \n",
       "Myrtle Ave & Marcy Ave                            -73.949549  \n",
       "Marcus Garvey Blvd & Macon St                     -73.938037  \n",
       "Verona Pl & Fulton St                             -73.947679  \n",
       "Putnam Ave & Throop Ave                           -73.941110  "
      ]
     },
     "execution_count": 212,
     "metadata": {},
     "output_type": "execute_result"
    }
   ],
   "source": [
    "# Top 50 stations on weekends\n",
    "top50_weekdays_rush_start = train_df_weather.loc[train_df_weather['Commute']==1].groupby(['start_station_name']).agg({'trip_duration':'mean','start_station_latitude':lambda x: x.iloc[0], 'start_station_longitude':lambda x: x.iloc[0]}).\\\n",
    "sort_values(by = 'trip_duration', ascending = False).head(50)\n",
    "top50_weekdays_rush_start.head()"
   ]
  },
  {
   "cell_type": "code",
   "execution_count": 207,
   "metadata": {},
   "outputs": [
    {
     "data": {
      "text/html": [
       "<div>\n",
       "<style scoped>\n",
       "    .dataframe tbody tr th:only-of-type {\n",
       "        vertical-align: middle;\n",
       "    }\n",
       "\n",
       "    .dataframe tbody tr th {\n",
       "        vertical-align: top;\n",
       "    }\n",
       "\n",
       "    .dataframe thead th {\n",
       "        text-align: right;\n",
       "    }\n",
       "</style>\n",
       "<table border=\"1\" class=\"dataframe\">\n",
       "  <thead>\n",
       "    <tr style=\"text-align: right;\">\n",
       "      <th></th>\n",
       "      <th>trip_per_hour</th>\n",
       "      <th>start_station_latitude</th>\n",
       "      <th>start_station_longitude</th>\n",
       "    </tr>\n",
       "    <tr>\n",
       "      <th>start_station_name</th>\n",
       "      <th></th>\n",
       "      <th></th>\n",
       "      <th></th>\n",
       "    </tr>\n",
       "  </thead>\n",
       "  <tbody>\n",
       "    <tr>\n",
       "      <td>Metropolitan Ave &amp; Vandervoort Ave</td>\n",
       "      <td>1.5</td>\n",
       "      <td>40.71429</td>\n",
       "      <td>-73.93323</td>\n",
       "    </tr>\n",
       "    <tr>\n",
       "      <td>Van Sinderen Ave &amp; Truxton St</td>\n",
       "      <td>1.5</td>\n",
       "      <td>40.67860</td>\n",
       "      <td>-73.90369</td>\n",
       "    </tr>\n",
       "    <tr>\n",
       "      <td>Myrtle Ave &amp; Grove St</td>\n",
       "      <td>1.5</td>\n",
       "      <td>40.69905</td>\n",
       "      <td>-73.91516</td>\n",
       "    </tr>\n",
       "    <tr>\n",
       "      <td>Wilson Ave &amp; Troutman St</td>\n",
       "      <td>1.5</td>\n",
       "      <td>40.70166</td>\n",
       "      <td>-73.92754</td>\n",
       "    </tr>\n",
       "    <tr>\n",
       "      <td>Norman St &amp; Wyckoff Ave</td>\n",
       "      <td>1.5</td>\n",
       "      <td>40.69517</td>\n",
       "      <td>-73.90311</td>\n",
       "    </tr>\n",
       "  </tbody>\n",
       "</table>\n",
       "</div>"
      ],
      "text/plain": [
       "                                    trip_per_hour  start_station_latitude  \\\n",
       "start_station_name                                                          \n",
       "Metropolitan Ave & Vandervoort Ave            1.5                40.71429   \n",
       "Van Sinderen Ave & Truxton St                 1.5                40.67860   \n",
       "Myrtle Ave & Grove St                         1.5                40.69905   \n",
       "Wilson Ave & Troutman St                      1.5                40.70166   \n",
       "Norman St & Wyckoff Ave                       1.5                40.69517   \n",
       "\n",
       "                                    start_station_longitude  \n",
       "start_station_name                                           \n",
       "Metropolitan Ave & Vandervoort Ave                -73.93323  \n",
       "Van Sinderen Ave & Truxton St                     -73.90369  \n",
       "Myrtle Ave & Grove St                             -73.91516  \n",
       "Wilson Ave & Troutman St                          -73.92754  \n",
       "Norman St & Wyckoff Ave                           -73.90311  "
      ]
     },
     "execution_count": 207,
     "metadata": {},
     "output_type": "execute_result"
    }
   ],
   "source": [
    "# Top 50 stations on weekends\n",
    "weekends = train_df_weather.loc[train_df_weather['Isweekday']==0].groupby(['start_station_name']).agg({'trip_per_hour':'mean','start_station_latitude':lambda x: x.iloc[0], 'start_station_longitude':lambda x: x.iloc[0]}).\\\n",
    "sort_values(by = 'trip_per_hour', ascending = False).tail(50)\n",
    "weekends.head()"
   ]
  },
  {
   "cell_type": "markdown",
   "metadata": {},
   "source": [
    "### Map for dock stations during weekdays and weekends"
   ]
  },
  {
   "cell_type": "code",
   "execution_count": 213,
   "metadata": {},
   "outputs": [
    {
     "data": {
      "text/html": [
       "<iframe src=\"data:text/html;base64,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\" width=\"100%\" height=\"600\"></iframe>"
      ],
      "text/plain": [
       "<IPython.core.display.HTML object>"
      ]
     },
     "execution_count": 213,
     "metadata": {},
     "output_type": "execute_result"
    }
   ],
   "source": [
    "plt.figure(figsize=(15,10))\n",
    "plt.plot(top50_weekdays['start_station_longitude'].values, top50_weekdays['start_station_latitude'].values, 'ro',alpha = 0.5,markersize=8)\n",
    "plt.plot(top50_weekdays_rush_start['start_station_longitude'].values, top50_weekdays_rush_start['start_station_latitude'].values, 'bv',alpha = 0.5,markersize=8)\n",
    "#plt.plot(top50_weekends['start_station_longitude'].values, top50_weekends['start_station_latitude'].values, 'bv',alpha = 0.5,markersize=8)\n",
    "mplleaflet.display(tiles='cartodb_positron')"
   ]
  },
  {
   "cell_type": "markdown",
   "metadata": {},
   "source": [
    "### Check number of stations in different years"
   ]
  },
  {
   "cell_type": "code",
   "execution_count": 133,
   "metadata": {},
   "outputs": [
    {
     "name": "stdout",
     "output_type": "stream",
     "text": [
      "Number of stations removed in 2018: 44\n",
      "Number of stations removed in 2019: 49\n",
      "Number of stations added in 2018: 58\n",
      "Number of stations added in 2019: 163\n"
     ]
    }
   ],
   "source": [
    "# Check number of stations in different years\n",
    "train_df_weather.loc[train_df_weather.start_year == 2019].start_station_ID.nunique() \n",
    "train_df_weather.start_station_ID.nunique() \n",
    "# 2017 has 799, 2018 has 812, 2019 has 926, unique stations\n",
    "# total of 1011 stations \n",
    "station_2017 = list(train_df_weather.loc[train_df_weather.start_year == 2017].start_station_ID.unique())\n",
    "station_2018 = list(train_df_weather.loc[train_df_weather.start_year == 2018].start_station_ID.unique())\n",
    "station_2019 = list(train_df_weather.loc[train_df_weather.start_year == 2019].start_station_ID.unique())\n",
    "remove2018 =[item for item in station_2017 if item not in station_2018]\n",
    "new2018 =[item for item in station_2018 if item not in station_2017]\n",
    "remove2019 = [item for item in station_2018 if item not in station_2019]\n",
    "new2019 =[item for item in station_2019 if item not in station_2018]\n",
    "print('Number of stations removed in 2018: %.f' %len(remove2018))\n",
    "print('Number of stations removed in 2019: %.f' %len(remove2019))\n",
    "print('Number of stations added in 2018: %.f' %len(new2018))\n",
    "print('Number of stations added in 2019: %.f' %len(new2019))"
   ]
  },
  {
   "cell_type": "markdown",
   "metadata": {},
   "source": [
    "### Seasonal Trend "
   ]
  },
  {
   "cell_type": "code",
   "execution_count": 20,
   "metadata": {},
   "outputs": [
    {
     "data": {
      "text/html": [
       "<div>\n",
       "<style scoped>\n",
       "    .dataframe tbody tr th:only-of-type {\n",
       "        vertical-align: middle;\n",
       "    }\n",
       "\n",
       "    .dataframe tbody tr th {\n",
       "        vertical-align: top;\n",
       "    }\n",
       "\n",
       "    .dataframe thead th {\n",
       "        text-align: right;\n",
       "    }\n",
       "</style>\n",
       "<table border=\"1\" class=\"dataframe\">\n",
       "  <thead>\n",
       "    <tr style=\"text-align: right;\">\n",
       "      <th></th>\n",
       "      <th>Daily Trip Count</th>\n",
       "      <th>Avg Trip Duration</th>\n",
       "      <th>Avg Distance</th>\n",
       "    </tr>\n",
       "    <tr>\n",
       "      <th>Date</th>\n",
       "      <th></th>\n",
       "      <th></th>\n",
       "      <th></th>\n",
       "    </tr>\n",
       "  </thead>\n",
       "  <tbody>\n",
       "    <tr>\n",
       "      <td>2017-01-01</td>\n",
       "      <td>13594</td>\n",
       "      <td>1194.615860</td>\n",
       "      <td>2.474182</td>\n",
       "    </tr>\n",
       "    <tr>\n",
       "      <td>2017-01-02</td>\n",
       "      <td>7753</td>\n",
       "      <td>699.582484</td>\n",
       "      <td>1.448913</td>\n",
       "    </tr>\n",
       "    <tr>\n",
       "      <td>2017-01-03</td>\n",
       "      <td>13070</td>\n",
       "      <td>1023.747131</td>\n",
       "      <td>2.120294</td>\n",
       "    </tr>\n",
       "    <tr>\n",
       "      <td>2017-01-04</td>\n",
       "      <td>32140</td>\n",
       "      <td>775.994742</td>\n",
       "      <td>1.607171</td>\n",
       "    </tr>\n",
       "    <tr>\n",
       "      <td>2017-01-05</td>\n",
       "      <td>26518</td>\n",
       "      <td>668.034920</td>\n",
       "      <td>1.383575</td>\n",
       "    </tr>\n",
       "    <tr>\n",
       "      <td>...</td>\n",
       "      <td>...</td>\n",
       "      <td>...</td>\n",
       "      <td>...</td>\n",
       "    </tr>\n",
       "    <tr>\n",
       "      <td>2019-12-27</td>\n",
       "      <td>28831</td>\n",
       "      <td>986.114391</td>\n",
       "      <td>2.042352</td>\n",
       "    </tr>\n",
       "    <tr>\n",
       "      <td>2019-12-28</td>\n",
       "      <td>25378</td>\n",
       "      <td>1074.806289</td>\n",
       "      <td>2.226043</td>\n",
       "    </tr>\n",
       "    <tr>\n",
       "      <td>2019-12-29</td>\n",
       "      <td>16182</td>\n",
       "      <td>1144.572921</td>\n",
       "      <td>2.370538</td>\n",
       "    </tr>\n",
       "    <tr>\n",
       "      <td>2019-12-30</td>\n",
       "      <td>10474</td>\n",
       "      <td>682.323468</td>\n",
       "      <td>1.413168</td>\n",
       "    </tr>\n",
       "    <tr>\n",
       "      <td>2019-12-31</td>\n",
       "      <td>29346</td>\n",
       "      <td>884.216997</td>\n",
       "      <td>1.831312</td>\n",
       "    </tr>\n",
       "  </tbody>\n",
       "</table>\n",
       "<p>1091 rows × 3 columns</p>\n",
       "</div>"
      ],
      "text/plain": [
       "            Daily Trip Count  Avg Trip Duration  Avg Distance\n",
       "Date                                                         \n",
       "2017-01-01             13594        1194.615860      2.474182\n",
       "2017-01-02              7753         699.582484      1.448913\n",
       "2017-01-03             13070        1023.747131      2.120294\n",
       "2017-01-04             32140         775.994742      1.607171\n",
       "2017-01-05             26518         668.034920      1.383575\n",
       "...                      ...                ...           ...\n",
       "2019-12-27             28831         986.114391      2.042352\n",
       "2019-12-28             25378        1074.806289      2.226043\n",
       "2019-12-29             16182        1144.572921      2.370538\n",
       "2019-12-30             10474         682.323468      1.413168\n",
       "2019-12-31             29346         884.216997      1.831312\n",
       "\n",
       "[1091 rows x 3 columns]"
      ]
     },
     "execution_count": 20,
     "metadata": {},
     "output_type": "execute_result"
    }
   ],
   "source": [
    "# Time Series of Trip Count\n",
    "daily_trip = train_df_weather[['start_date','trip_per_day','daily_avg_trip_duration','daily_avg_distance']].sort_values(by='start_date')\n",
    "daily_trip.columns = ['Date','Daily Trip Count','Avg Trip Duration','Avg Distance']\n",
    "daily_trip = daily_trip.groupby('Date').agg('mean').reset_index().set_index('Date')\n",
    "daily_trip"
   ]
  },
  {
   "cell_type": "code",
   "execution_count": 21,
   "metadata": {},
   "outputs": [
    {
     "data": {
      "text/plain": [
       "Text(0, 0.5, 'Avg Distance(mile)')"
      ]
     },
     "execution_count": 21,
     "metadata": {},
     "output_type": "execute_result"
    },
    {
     "data": {
      "image/png": "[encoded data removed]",
      "text/plain": [
       "<Figure size 792x648 with 3 Axes>"
      ]
     },
     "metadata": {},
     "output_type": "display_data"
    }
   ],
   "source": [
    "sns.set(rc={'figure.figsize':(11, 4)})\n",
    "cols_plot = ['Daily Trip Count','Avg Trip Duration','Avg Distance']\n",
    "axes = daily_trip[cols_plot].plot(marker='.', alpha=0.5, linestyle='None', figsize=(11, 9), subplots=True)\n",
    "axes[0].set_ylabel('Daily Trip Count')\n",
    "axes[1].set_ylabel('Avg Trip Duration(s)')\n",
    "axes[2].set_ylabel('Avg Distance(mile)')"
   ]
  },
  {
   "cell_type": "code",
   "execution_count": 22,
   "metadata": {},
   "outputs": [
    {
     "data": {
      "text/plain": [
       "<matplotlib.axes._subplots.AxesSubplot at 0x195f705fb08>"
      ]
     },
     "execution_count": 22,
     "metadata": {},
     "output_type": "execute_result"
    },
    {
     "data": {
      "image/png": "[encoded data removed]",
      "text/plain": [
       "<Figure size 792x288 with 1 Axes>"
      ]
     },
     "metadata": {},
     "output_type": "display_data"
    }
   ],
   "source": [
    "# Trip counts by month\n",
    "month_trip = train_df_weather[['start_month','trip_per_day','daily_avg_trip_duration','daily_avg_distance']].sort_values(by='start_month')\n",
    "month_trip.columns=['Month','Avg Trip Counts','Avg Trip Duration','Avg Distance'] \n",
    "sns.boxplot(x=\"Month\", y=\"Avg Trip Counts\", data=month_trip)"
   ]
  },
  {
   "cell_type": "code",
   "execution_count": 23,
   "metadata": {},
   "outputs": [
    {
     "data": {
      "text/plain": [
       "<matplotlib.axes._subplots.AxesSubplot at 0x195f6e7f448>"
      ]
     },
     "execution_count": 23,
     "metadata": {},
     "output_type": "execute_result"
    },
    {
     "data": {
      "image/png": "[encoded data removed]",
      "text/plain": [
       "<Figure size 792x288 with 1 Axes>"
      ]
     },
     "metadata": {},
     "output_type": "display_data"
    }
   ],
   "source": [
    "# Trip Duration by Month\n",
    "sns.boxplot(x=\"Month\", y=\"Avg Trip Duration\",  data=month_trip)"
   ]
  },
  {
   "cell_type": "code",
   "execution_count": 24,
   "metadata": {},
   "outputs": [
    {
     "data": {
      "text/plain": [
       "<matplotlib.axes._subplots.AxesSubplot at 0x195f6fbb888>"
      ]
     },
     "execution_count": 24,
     "metadata": {},
     "output_type": "execute_result"
    },
    {
     "data": {
      "image/png": "[encoded data removed]",
      "text/plain": [
       "<Figure size 792x288 with 1 Axes>"
      ]
     },
     "metadata": {},
     "output_type": "display_data"
    }
   ],
   "source": [
    "# Trip distance by Month\n",
    "sns.boxplot(x=\"Month\", y=\"Avg Distance\", data=month_trip)"
   ]
  },
  {
   "cell_type": "code",
   "execution_count": 25,
   "metadata": {},
   "outputs": [],
   "source": [
    "# sns.distplot(train_df.starttime)"
   ]
  },
  {
   "cell_type": "code",
   "execution_count": 28,
   "metadata": {},
   "outputs": [
    {
     "data": {
      "text/html": [
       "<div>\n",
       "<style scoped>\n",
       "    .dataframe tbody tr th:only-of-type {\n",
       "        vertical-align: middle;\n",
       "    }\n",
       "\n",
       "    .dataframe tbody tr th {\n",
       "        vertical-align: top;\n",
       "    }\n",
       "\n",
       "    .dataframe thead th {\n",
       "        text-align: right;\n",
       "    }\n",
       "</style>\n",
       "<table border=\"1\" class=\"dataframe\">\n",
       "  <thead>\n",
       "    <tr style=\"text-align: right;\">\n",
       "      <th></th>\n",
       "      <th>trip_duration</th>\n",
       "      <th>starttime</th>\n",
       "      <th>stoptime</th>\n",
       "      <th>user_type</th>\n",
       "      <th>distance</th>\n",
       "    </tr>\n",
       "  </thead>\n",
       "  <tbody>\n",
       "    <tr>\n",
       "      <td>790733</td>\n",
       "      <td>8096462</td>\n",
       "      <td>2018-02-25 17:06:26.182</td>\n",
       "      <td>2018-05-30 11:07:28.577</td>\n",
       "      <td>Customer</td>\n",
       "      <td>16768.672409</td>\n",
       "    </tr>\n",
       "    <tr>\n",
       "      <td>1033792</td>\n",
       "      <td>5891578</td>\n",
       "      <td>2018-06-02 13:13:38.597</td>\n",
       "      <td>2018-08-09 17:46:37.272</td>\n",
       "      <td>Customer</td>\n",
       "      <td>12202.112658</td>\n",
       "    </tr>\n",
       "    <tr>\n",
       "      <td>210128</td>\n",
       "      <td>5363062</td>\n",
       "      <td>2017-05-04 15:49:08</td>\n",
       "      <td>2017-07-05 17:33:30</td>\n",
       "      <td>Customer</td>\n",
       "      <td>11107.497298</td>\n",
       "    </tr>\n",
       "    <tr>\n",
       "      <td>980106</td>\n",
       "      <td>4602582</td>\n",
       "      <td>2018-05-26 16:42:01.421</td>\n",
       "      <td>2018-07-18 23:11:43.765</td>\n",
       "      <td>Customer</td>\n",
       "      <td>9532.458720</td>\n",
       "    </tr>\n",
       "    <tr>\n",
       "      <td>176137</td>\n",
       "      <td>4318433</td>\n",
       "      <td>2017-05-28 16:55:31</td>\n",
       "      <td>2017-07-17 16:29:25</td>\n",
       "      <td>Subscriber</td>\n",
       "      <td>8943.954569</td>\n",
       "    </tr>\n",
       "    <tr>\n",
       "      <td>589145</td>\n",
       "      <td>3897730</td>\n",
       "      <td>2017-10-12 15:16:31</td>\n",
       "      <td>2017-11-26 16:58:41</td>\n",
       "      <td>Customer</td>\n",
       "      <td>8072.631911</td>\n",
       "    </tr>\n",
       "    <tr>\n",
       "      <td>866420</td>\n",
       "      <td>3653986</td>\n",
       "      <td>2018-04-26 18:27:22.296</td>\n",
       "      <td>2018-06-08 01:27:09.083</td>\n",
       "      <td>Customer</td>\n",
       "      <td>7567.811004</td>\n",
       "    </tr>\n",
       "    <tr>\n",
       "      <td>1024611</td>\n",
       "      <td>3553060</td>\n",
       "      <td>2018-06-18 19:32:57.135</td>\n",
       "      <td>2018-07-29 22:30:37.590</td>\n",
       "      <td>Customer</td>\n",
       "      <td>7358.782044</td>\n",
       "    </tr>\n",
       "    <tr>\n",
       "      <td>2143411</td>\n",
       "      <td>3341929</td>\n",
       "      <td>2019-08-05 19:53:13.655</td>\n",
       "      <td>2019-09-13 12:12:02.969</td>\n",
       "      <td>Customer</td>\n",
       "      <td>6921.506284</td>\n",
       "    </tr>\n",
       "    <tr>\n",
       "      <td>634393</td>\n",
       "      <td>3274876</td>\n",
       "      <td>2017-10-25 16:17:46</td>\n",
       "      <td>2017-12-02 12:59:03</td>\n",
       "      <td>Customer</td>\n",
       "      <td>6782.632071</td>\n",
       "    </tr>\n",
       "    <tr>\n",
       "      <td>1065149</td>\n",
       "      <td>3204053</td>\n",
       "      <td>2018-06-06 08:28:17.033</td>\n",
       "      <td>2018-07-13 10:29:10.993</td>\n",
       "      <td>Subscriber</td>\n",
       "      <td>6635.949769</td>\n",
       "    </tr>\n",
       "    <tr>\n",
       "      <td>1118159</td>\n",
       "      <td>3046126</td>\n",
       "      <td>2018-07-05 16:18:32.714</td>\n",
       "      <td>2018-08-09 22:27:19.105</td>\n",
       "      <td>Customer</td>\n",
       "      <td>6308.865404</td>\n",
       "    </tr>\n",
       "    <tr>\n",
       "      <td>608030</td>\n",
       "      <td>2973441</td>\n",
       "      <td>2017-10-09 19:10:02</td>\n",
       "      <td>2017-11-13 04:07:24</td>\n",
       "      <td>Customer</td>\n",
       "      <td>6158.326693</td>\n",
       "    </tr>\n",
       "    <tr>\n",
       "      <td>840948</td>\n",
       "      <td>2948118</td>\n",
       "      <td>2018-03-06 18:51:53.600</td>\n",
       "      <td>2018-04-09 22:47:12.188</td>\n",
       "      <td>Subscriber</td>\n",
       "      <td>6105.879947</td>\n",
       "    </tr>\n",
       "    <tr>\n",
       "      <td>889104</td>\n",
       "      <td>2769494</td>\n",
       "      <td>2018-04-16 13:30:02.830</td>\n",
       "      <td>2018-05-18 14:48:17.371</td>\n",
       "      <td>Customer</td>\n",
       "      <td>5735.929796</td>\n",
       "    </tr>\n",
       "    <tr>\n",
       "      <td>902924</td>\n",
       "      <td>2726621</td>\n",
       "      <td>2018-04-28 13:13:24.003</td>\n",
       "      <td>2018-05-30 02:37:05.142</td>\n",
       "      <td>Customer</td>\n",
       "      <td>5647.135049</td>\n",
       "    </tr>\n",
       "    <tr>\n",
       "      <td>123752</td>\n",
       "      <td>2696506</td>\n",
       "      <td>2017-04-16 18:29:23</td>\n",
       "      <td>2017-05-17 23:31:10</td>\n",
       "      <td>Customer</td>\n",
       "      <td>5584.763538</td>\n",
       "    </tr>\n",
       "    <tr>\n",
       "      <td>1139072</td>\n",
       "      <td>2536975</td>\n",
       "      <td>2018-07-13 19:23:56.376</td>\n",
       "      <td>2018-08-12 04:06:52.132</td>\n",
       "      <td>Subscriber</td>\n",
       "      <td>5254.357111</td>\n",
       "    </tr>\n",
       "    <tr>\n",
       "      <td>309295</td>\n",
       "      <td>2524373</td>\n",
       "      <td>2017-06-28 19:24:40</td>\n",
       "      <td>2017-07-28 00:37:33</td>\n",
       "      <td>Subscriber</td>\n",
       "      <td>5228.256969</td>\n",
       "    </tr>\n",
       "    <tr>\n",
       "      <td>431613</td>\n",
       "      <td>2457994</td>\n",
       "      <td>2017-08-21 15:50:56</td>\n",
       "      <td>2017-09-19 02:37:30</td>\n",
       "      <td>Subscriber</td>\n",
       "      <td>5090.778684</td>\n",
       "    </tr>\n",
       "  </tbody>\n",
       "</table>\n",
       "</div>"
      ],
      "text/plain": [
       "         trip_duration                starttime                 stoptime  \\\n",
       "790733         8096462  2018-02-25 17:06:26.182  2018-05-30 11:07:28.577   \n",
       "1033792        5891578  2018-06-02 13:13:38.597  2018-08-09 17:46:37.272   \n",
       "210128         5363062      2017-05-04 15:49:08      2017-07-05 17:33:30   \n",
       "980106         4602582  2018-05-26 16:42:01.421  2018-07-18 23:11:43.765   \n",
       "176137         4318433      2017-05-28 16:55:31      2017-07-17 16:29:25   \n",
       "589145         3897730      2017-10-12 15:16:31      2017-11-26 16:58:41   \n",
       "866420         3653986  2018-04-26 18:27:22.296  2018-06-08 01:27:09.083   \n",
       "1024611        3553060  2018-06-18 19:32:57.135  2018-07-29 22:30:37.590   \n",
       "2143411        3341929  2019-08-05 19:53:13.655  2019-09-13 12:12:02.969   \n",
       "634393         3274876      2017-10-25 16:17:46      2017-12-02 12:59:03   \n",
       "1065149        3204053  2018-06-06 08:28:17.033  2018-07-13 10:29:10.993   \n",
       "1118159        3046126  2018-07-05 16:18:32.714  2018-08-09 22:27:19.105   \n",
       "608030         2973441      2017-10-09 19:10:02      2017-11-13 04:07:24   \n",
       "840948         2948118  2018-03-06 18:51:53.600  2018-04-09 22:47:12.188   \n",
       "889104         2769494  2018-04-16 13:30:02.830  2018-05-18 14:48:17.371   \n",
       "902924         2726621  2018-04-28 13:13:24.003  2018-05-30 02:37:05.142   \n",
       "123752         2696506      2017-04-16 18:29:23      2017-05-17 23:31:10   \n",
       "1139072        2536975  2018-07-13 19:23:56.376  2018-08-12 04:06:52.132   \n",
       "309295         2524373      2017-06-28 19:24:40      2017-07-28 00:37:33   \n",
       "431613         2457994      2017-08-21 15:50:56      2017-09-19 02:37:30   \n",
       "\n",
       "          user_type      distance  \n",
       "790733     Customer  16768.672409  \n",
       "1033792    Customer  12202.112658  \n",
       "210128     Customer  11107.497298  \n",
       "980106     Customer   9532.458720  \n",
       "176137   Subscriber   8943.954569  \n",
       "589145     Customer   8072.631911  \n",
       "866420     Customer   7567.811004  \n",
       "1024611    Customer   7358.782044  \n",
       "2143411    Customer   6921.506284  \n",
       "634393     Customer   6782.632071  \n",
       "1065149  Subscriber   6635.949769  \n",
       "1118159    Customer   6308.865404  \n",
       "608030     Customer   6158.326693  \n",
       "840948   Subscriber   6105.879947  \n",
       "889104     Customer   5735.929796  \n",
       "902924     Customer   5647.135049  \n",
       "123752     Customer   5584.763538  \n",
       "1139072  Subscriber   5254.357111  \n",
       "309295   Subscriber   5228.256969  \n",
       "431613   Subscriber   5090.778684  "
      ]
     },
     "execution_count": 28,
     "metadata": {},
     "output_type": "execute_result"
    }
   ],
   "source": [
    "# Non typical checkout (Consider removing them )\n",
    "train_df_weather.loc[train_df_weather.distance > 10].sort_values(by = 'trip_duration', ascending = False).\\\n",
    "head(20)[['trip_duration', 'starttime', 'stoptime', 'user_type', 'distance']]"
   ]
  },
  {
   "cell_type": "code",
   "execution_count": 29,
   "metadata": {},
   "outputs": [
    {
     "data": {
      "text/plain": [
       "0.25863274150705995"
      ]
     },
     "execution_count": 29,
     "metadata": {},
     "output_type": "execute_result"
    }
   ],
   "source": [
    "train_df_weather.loc[(train_df_weather.distance > 10) & (train_df_weather.user_type == 'Subscriber')].shape[0]/\\\n",
    "train_df_weather.loc[(train_df_weather.distance > 10)].shape[0]"
   ]
  },
  {
   "cell_type": "code",
   "execution_count": 30,
   "metadata": {},
   "outputs": [
    {
     "data": {
      "text/plain": [
       "0.005769969940174777"
      ]
     },
     "execution_count": 30,
     "metadata": {},
     "output_type": "execute_result"
    }
   ],
   "source": [
    "14306/2479389"
   ]
  },
  {
   "cell_type": "code",
   "execution_count": 31,
   "metadata": {},
   "outputs": [
    {
     "data": {
      "text/plain": [
       "0.8786289686692972"
      ]
     },
     "execution_count": 31,
     "metadata": {},
     "output_type": "execute_result"
    }
   ],
   "source": [
    "train_df_weather.loc[train_df_weather.user_type == 'Subscriber'].shape[0]/train_df_weather.shape[0]"
   ]
  },
  {
   "cell_type": "code",
   "execution_count": 32,
   "metadata": {},
   "outputs": [
    {
     "data": {
      "text/plain": [
       "0.12137103133070284"
      ]
     },
     "execution_count": 32,
     "metadata": {},
     "output_type": "execute_result"
    }
   ],
   "source": [
    "train_df_weather.loc[train_df_weather.user_type != 'Subscriber'].shape[0]/train_df_weather.shape[0]"
   ]
  },
  {
   "cell_type": "code",
   "execution_count": 33,
   "metadata": {},
   "outputs": [
    {
     "data": {
      "text/plain": [
       "<matplotlib.axes._subplots.AxesSubplot at 0x195f85b5388>"
      ]
     },
     "execution_count": 33,
     "metadata": {},
     "output_type": "execute_result"
    },
    {
     "data": {
      "image/png": "[encoded data removed]",
      "text/plain": [
       "<Figure size 792x288 with 1 Axes>"
      ]
     },
     "metadata": {},
     "output_type": "display_data"
    }
   ],
   "source": [
    "a = train_df_weather.groupby('start_month').mean()[['trip_duration']].reset_index()\n",
    "sns.barplot(x = a.start_month, y = a.trip_duration)"
   ]
  },
  {
   "cell_type": "code",
   "execution_count": 34,
   "metadata": {},
   "outputs": [
    {
     "data": {
      "text/plain": [
       "<matplotlib.axes._subplots.AxesSubplot at 0x195f86821c8>"
      ]
     },
     "execution_count": 34,
     "metadata": {},
     "output_type": "execute_result"
    },
    {
     "data": {
      "image/png": "[encoded data removed]",
      "text/plain": [
       "<Figure size 792x288 with 1 Axes>"
      ]
     },
     "metadata": {},
     "output_type": "display_data"
    }
   ],
   "source": [
    "b = train_df_weather.groupby('start_month').count()[['trip_duration']].reset_index()\n",
    "sns.barplot(x = b.start_month, y = b.trip_duration)"
   ]
  },
  {
   "cell_type": "code",
   "execution_count": 35,
   "metadata": {},
   "outputs": [
    {
     "data": {
      "text/plain": [
       "<matplotlib.axes._subplots.AxesSubplot at 0x195f872f348>"
      ]
     },
     "execution_count": 35,
     "metadata": {},
     "output_type": "execute_result"
    },
    {
     "data": {
      "image/png": "[encoded data removed]",
      "text/plain": [
       "<Figure size 792x288 with 1 Axes>"
      ]
     },
     "metadata": {},
     "output_type": "display_data"
    }
   ],
   "source": [
    "c = train_df_weather.groupby('start_month').mean()[['distance']].reset_index()\n",
    "sns.barplot(x = c.start_month, y = c.distance)"
   ]
  },
  {
   "cell_type": "markdown",
   "metadata": {},
   "source": [
    "### Weather Impact"
   ]
  },
  {
   "cell_type": "code",
   "execution_count": 43,
   "metadata": {},
   "outputs": [
    {
     "data": {
      "text/plain": [
       "Index(['trip_duration', 'starttime', 'stoptime', 'start_station_ID',\n",
       "       'start_station_name', 'start_station_latitude',\n",
       "       'start_station_longitude', 'end_station_ID', 'end_station_name',\n",
       "       'end_station_latitude', 'end_station_longitude', 'bike_ID', 'user_type',\n",
       "       'birth_year', 'gender', 'start_date', 'start_time', 'start_hour',\n",
       "       'start_min', 'start_year', 'start_month', 'start_dayofweek',\n",
       "       'stop_date', 'stop_time', 'stop_hour', 'stop_min', 'stop_dayofweek',\n",
       "       'distance', 'trip_per_day', 'daily_avg_trip_duration',\n",
       "       'daily_avg_distance', 'trip_per_hour', 'hourly_avg_trip_duration',\n",
       "       'hourly_avg_distance', 'start_station_checkout_counts',\n",
       "       'start_station_checkin_counts', 'start_station_bike_added',\n",
       "       'end_station_checkout_counts', 'end_station_checkin_counts',\n",
       "       'end_station_bike_added', 'AWND', 'PRCP', 'SNOW', 'SNWD', 'TMAX',\n",
       "       'TMIN', 'Fog', 'Heavy_Fog', 'Thunder', 'Hail', 'Glaze', 'Haze', 'TAVG',\n",
       "       'HasPRCP', 'HasSNOW'],\n",
       "      dtype='object')"
      ]
     },
     "execution_count": 43,
     "metadata": {},
     "output_type": "execute_result"
    }
   ],
   "source": [
    "train_df_weather.columns"
   ]
  },
  {
   "cell_type": "code",
   "execution_count": 38,
   "metadata": {},
   "outputs": [
    {
     "data": {
      "text/html": [
       "<div>\n",
       "<style scoped>\n",
       "    .dataframe tbody tr th:only-of-type {\n",
       "        vertical-align: middle;\n",
       "    }\n",
       "\n",
       "    .dataframe tbody tr th {\n",
       "        vertical-align: top;\n",
       "    }\n",
       "\n",
       "    .dataframe thead tr th {\n",
       "        text-align: left;\n",
       "    }\n",
       "\n",
       "    .dataframe thead tr:last-of-type th {\n",
       "        text-align: right;\n",
       "    }\n",
       "</style>\n",
       "<table border=\"1\" class=\"dataframe\">\n",
       "  <thead>\n",
       "    <tr>\n",
       "      <th></th>\n",
       "      <th colspan=\"2\" halign=\"left\">trip_duration</th>\n",
       "      <th>distance</th>\n",
       "    </tr>\n",
       "    <tr>\n",
       "      <th></th>\n",
       "      <th>count</th>\n",
       "      <th>mean</th>\n",
       "      <th>mean</th>\n",
       "    </tr>\n",
       "    <tr>\n",
       "      <th>HasPRCP</th>\n",
       "      <th></th>\n",
       "      <th></th>\n",
       "      <th></th>\n",
       "    </tr>\n",
       "  </thead>\n",
       "  <tbody>\n",
       "    <tr>\n",
       "      <td>0</td>\n",
       "      <td>1623976</td>\n",
       "      <td>1006.310433</td>\n",
       "      <td>2.084181</td>\n",
       "    </tr>\n",
       "    <tr>\n",
       "      <td>1</td>\n",
       "      <td>855413</td>\n",
       "      <td>941.531893</td>\n",
       "      <td>1.950017</td>\n",
       "    </tr>\n",
       "  </tbody>\n",
       "</table>\n",
       "</div>"
      ],
      "text/plain": [
       "        trip_duration               distance\n",
       "                count         mean      mean\n",
       "HasPRCP                                     \n",
       "0             1623976  1006.310433  2.084181\n",
       "1              855413   941.531893  1.950017"
      ]
     },
     "execution_count": 38,
     "metadata": {},
     "output_type": "execute_result"
    }
   ],
   "source": [
    "# Has PRCP or NOT\n",
    "train_df_weather.groupby('HasPRCP').agg({'trip_duration': ['count','mean'],'distance':'mean'})"
   ]
  },
  {
   "cell_type": "code",
   "execution_count": 39,
   "metadata": {},
   "outputs": [
    {
     "data": {
      "text/html": [
       "<div>\n",
       "<style scoped>\n",
       "    .dataframe tbody tr th:only-of-type {\n",
       "        vertical-align: middle;\n",
       "    }\n",
       "\n",
       "    .dataframe tbody tr th {\n",
       "        vertical-align: top;\n",
       "    }\n",
       "\n",
       "    .dataframe thead tr th {\n",
       "        text-align: left;\n",
       "    }\n",
       "\n",
       "    .dataframe thead tr:last-of-type th {\n",
       "        text-align: right;\n",
       "    }\n",
       "</style>\n",
       "<table border=\"1\" class=\"dataframe\">\n",
       "  <thead>\n",
       "    <tr>\n",
       "      <th></th>\n",
       "      <th colspan=\"2\" halign=\"left\">trip_duration</th>\n",
       "      <th>distance</th>\n",
       "    </tr>\n",
       "    <tr>\n",
       "      <th></th>\n",
       "      <th>count</th>\n",
       "      <th>mean</th>\n",
       "      <th>mean</th>\n",
       "    </tr>\n",
       "    <tr>\n",
       "      <th>HasSNOW</th>\n",
       "      <th></th>\n",
       "      <th></th>\n",
       "      <th></th>\n",
       "    </tr>\n",
       "  </thead>\n",
       "  <tbody>\n",
       "    <tr>\n",
       "      <td>0</td>\n",
       "      <td>2445018</td>\n",
       "      <td>987.864005</td>\n",
       "      <td>2.045976</td>\n",
       "    </tr>\n",
       "    <tr>\n",
       "      <td>1</td>\n",
       "      <td>34371</td>\n",
       "      <td>706.332053</td>\n",
       "      <td>1.462892</td>\n",
       "    </tr>\n",
       "  </tbody>\n",
       "</table>\n",
       "</div>"
      ],
      "text/plain": [
       "        trip_duration              distance\n",
       "                count        mean      mean\n",
       "HasSNOW                                    \n",
       "0             2445018  987.864005  2.045976\n",
       "1               34371  706.332053  1.462892"
      ]
     },
     "execution_count": 39,
     "metadata": {},
     "output_type": "execute_result"
    }
   ],
   "source": [
    "# Has SNOW or NOT\n",
    "train_df_weather.groupby('HasSNOW').agg({'trip_duration': ['count','mean'],'distance':'mean'})"
   ]
  },
  {
   "cell_type": "code",
   "execution_count": 42,
   "metadata": {},
   "outputs": [
    {
     "name": "stderr",
     "output_type": "stream",
     "text": [
      "C:\\Users\\zhang\\Anaconda3\\lib\\site-packages\\ipykernel_launcher.py:2: SettingWithCopyWarning: \n",
      "A value is trying to be set on a copy of a slice from a DataFrame.\n",
      "Try using .loc[row_indexer,col_indexer] = value instead\n",
      "\n",
      "See the caveats in the documentation: http://pandas.pydata.org/pandas-docs/stable/user_guide/indexing.html#returning-a-view-versus-a-copy\n",
      "  \n"
     ]
    },
    {
     "data": {
      "text/html": [
       "<div>\n",
       "<style scoped>\n",
       "    .dataframe tbody tr th:only-of-type {\n",
       "        vertical-align: middle;\n",
       "    }\n",
       "\n",
       "    .dataframe tbody tr th {\n",
       "        vertical-align: top;\n",
       "    }\n",
       "\n",
       "    .dataframe thead tr th {\n",
       "        text-align: left;\n",
       "    }\n",
       "\n",
       "    .dataframe thead tr:last-of-type th {\n",
       "        text-align: right;\n",
       "    }\n",
       "</style>\n",
       "<table border=\"1\" class=\"dataframe\">\n",
       "  <thead>\n",
       "    <tr>\n",
       "      <th></th>\n",
       "      <th colspan=\"2\" halign=\"left\">trip_duration</th>\n",
       "      <th>distance</th>\n",
       "    </tr>\n",
       "    <tr>\n",
       "      <th></th>\n",
       "      <th>count</th>\n",
       "      <th>mean</th>\n",
       "      <th>mean</th>\n",
       "    </tr>\n",
       "    <tr>\n",
       "      <th>HasFog</th>\n",
       "      <th></th>\n",
       "      <th></th>\n",
       "      <th></th>\n",
       "    </tr>\n",
       "  </thead>\n",
       "  <tbody>\n",
       "    <tr>\n",
       "      <td>0.0</td>\n",
       "      <td>1468880</td>\n",
       "      <td>989.774963</td>\n",
       "      <td>2.049934</td>\n",
       "    </tr>\n",
       "    <tr>\n",
       "      <td>1.0</td>\n",
       "      <td>970111</td>\n",
       "      <td>977.903146</td>\n",
       "      <td>2.025346</td>\n",
       "    </tr>\n",
       "    <tr>\n",
       "      <td>2.0</td>\n",
       "      <td>40398</td>\n",
       "      <td>918.049557</td>\n",
       "      <td>1.901383</td>\n",
       "    </tr>\n",
       "  </tbody>\n",
       "</table>\n",
       "</div>"
      ],
      "text/plain": [
       "       trip_duration              distance\n",
       "               count        mean      mean\n",
       "HasFog                                    \n",
       "0.0          1468880  989.774963  2.049934\n",
       "1.0           970111  977.903146  2.025346\n",
       "2.0            40398  918.049557  1.901383"
      ]
     },
     "execution_count": 42,
     "metadata": {},
     "output_type": "execute_result"
    }
   ],
   "source": [
    "# Has Fog or not \n",
    "Fog = train_df_weather[['trip_duration','start_station_bike_added','end_station_bike_added','Fog','Heavy_Fog','distance']]\n",
    "Fog['HasFog'] = train_df_weather['Fog']+train_df_weather['Heavy_Fog']\n",
    "Fog.groupby('HasFog').agg({'trip_duration': ['count','mean'],'distance':'mean'})"
   ]
  },
  {
   "cell_type": "code",
   "execution_count": 62,
   "metadata": {},
   "outputs": [
    {
     "data": {
      "text/plain": [
       "<matplotlib.axes._subplots.AxesSubplot at 0x19609fbd088>"
      ]
     },
     "execution_count": 62,
     "metadata": {},
     "output_type": "execute_result"
    },
    {
     "data": {
      "image/png": "[encoded data removed]",
      "text/plain": [
       "<Figure size 792x288 with 1 Axes>"
      ]
     },
     "metadata": {},
     "output_type": "display_data"
    }
   ],
   "source": [
    "# Avg Temperature\n",
    "TEMP = train_df_weather[['TAVG','trip_duration','trip_per_day','daily_avg_distance']]\n",
    "sns.scatterplot(x='TAVG',y='trip_per_day',data = TEMP)"
   ]
  },
  {
   "cell_type": "code",
   "execution_count": 65,
   "metadata": {},
   "outputs": [
    {
     "data": {
      "text/plain": [
       "<matplotlib.axes._subplots.AxesSubplot at 0x19609fb7608>"
      ]
     },
     "execution_count": 65,
     "metadata": {},
     "output_type": "execute_result"
    },
    {
     "data": {
      "image/png": "[encoded data removed]",
      "text/plain": [
       "<Figure size 792x288 with 1 Axes>"
      ]
     },
     "metadata": {},
     "output_type": "display_data"
    }
   ],
   "source": [
    "sns.countplot(x='HasPRCP',data=train_df_weather)"
   ]
  },
  {
   "cell_type": "code",
   "execution_count": 220,
   "metadata": {},
   "outputs": [
    {
     "data": {
      "text/plain": [
       "Index(['trip_duration', 'starttime', 'stoptime', 'start_station_ID',\n",
       "       'start_station_name', 'start_station_latitude',\n",
       "       'start_station_longitude', 'end_station_ID', 'end_station_name',\n",
       "       'end_station_latitude', 'end_station_longitude', 'bike_ID', 'user_type',\n",
       "       'birth_year', 'gender', 'start_date', 'start_time', 'start_hour',\n",
       "       'start_min', 'start_year', 'start_month', 'start_dayofweek',\n",
       "       'stop_date', 'stop_time', 'stop_hour', 'stop_min', 'stop_dayofweek',\n",
       "       'distance', 'trip_per_day', 'daily_avg_trip_duration',\n",
       "       'daily_avg_distance', 'trip_per_hour', 'hourly_avg_trip_duration',\n",
       "       'hourly_avg_distance', 'start_station_checkout_counts',\n",
       "       'start_station_checkin_counts', 'start_station_bike_added',\n",
       "       'end_station_checkout_counts', 'end_station_checkin_counts',\n",
       "       'end_station_bike_added', 'AWND', 'PRCP', 'SNOW', 'SNWD', 'TMAX',\n",
       "       'TMIN', 'Fog', 'Heavy_Fog', 'Thunder', 'Hail', 'Glaze', 'Haze', 'TAVG',\n",
       "       'HasPRCP', 'HasSNOW', 'Isweekday', 'Commute'],\n",
       "      dtype='object')"
      ]
     },
     "execution_count": 220,
     "metadata": {},
     "output_type": "execute_result"
    }
   ],
   "source": [
    "train_df_weather.columns"
   ]
  },
  {
   "cell_type": "code",
   "execution_count": 221,
   "metadata": {},
   "outputs": [
    {
     "data": {
      "text/html": [
       "<div>\n",
       "<style scoped>\n",
       "    .dataframe tbody tr th:only-of-type {\n",
       "        vertical-align: middle;\n",
       "    }\n",
       "\n",
       "    .dataframe tbody tr th {\n",
       "        vertical-align: top;\n",
       "    }\n",
       "\n",
       "    .dataframe thead th {\n",
       "        text-align: right;\n",
       "    }\n",
       "</style>\n",
       "<table border=\"1\" class=\"dataframe\">\n",
       "  <thead>\n",
       "    <tr style=\"text-align: right;\">\n",
       "      <th></th>\n",
       "      <th>Fog</th>\n",
       "      <th>Heavy_Fog</th>\n",
       "      <th>Thunder</th>\n",
       "      <th>Hail</th>\n",
       "      <th>Glaze</th>\n",
       "      <th>Haze</th>\n",
       "    </tr>\n",
       "  </thead>\n",
       "  <tbody>\n",
       "    <tr>\n",
       "      <td>0.0</td>\n",
       "      <td>1468880</td>\n",
       "      <td>2438991</td>\n",
       "      <td>2327711</td>\n",
       "      <td>2478978</td>\n",
       "      <td>2471684</td>\n",
       "      <td>2061650</td>\n",
       "    </tr>\n",
       "    <tr>\n",
       "      <td>1.0</td>\n",
       "      <td>1010509</td>\n",
       "      <td>40398</td>\n",
       "      <td>151678</td>\n",
       "      <td>411</td>\n",
       "      <td>7705</td>\n",
       "      <td>417739</td>\n",
       "    </tr>\n",
       "  </tbody>\n",
       "</table>\n",
       "</div>"
      ],
      "text/plain": [
       "         Fog  Heavy_Fog  Thunder     Hail    Glaze     Haze\n",
       "0.0  1468880    2438991  2327711  2478978  2471684  2061650\n",
       "1.0  1010509      40398   151678      411     7705   417739"
      ]
     },
     "execution_count": 221,
     "metadata": {},
     "output_type": "execute_result"
    }
   ],
   "source": [
    "train_df_weather[['Fog', 'Heavy_Fog', 'Thunder', 'Hail', 'Glaze', 'Haze']].apply(pd.value_counts)"
   ]
  },
  {
   "cell_type": "markdown",
   "metadata": {},
   "source": [
    "### Correlation Heat Map"
   ]
  },
  {
   "cell_type": "code",
   "execution_count": 224,
   "metadata": {},
   "outputs": [
    {
     "data": {
      "text/plain": [
       "trip_per_day                     1.000000\n",
       "TMAX                             0.686773\n",
       "TAVG                             0.678117\n",
       "TMIN                             0.651906\n",
       "start_month                      0.297149\n",
       "daily_avg_trip_duration          0.283369\n",
       "daily_avg_distance               0.283369\n",
       "start_year                       0.272245\n",
       "start_station_checkin_counts     0.242741\n",
       "end_station_checkin_counts       0.238330\n",
       "end_station_checkout_counts      0.238150\n",
       "start_station_checkout_counts    0.237528\n",
       "trip_per_hour                    0.237528\n",
       "bike_ID                          0.079031\n",
       "Thunder                          0.069687\n",
       "birth_year                       0.040451\n",
       "end_station_bike_added           0.036766\n",
       "end_station_ID                   0.023092\n",
       "start_station_ID                 0.020455\n",
       "stop_hour                        0.018329\n",
       "start_hour                       0.015328\n",
       "gender                           0.007339\n",
       "start_station_latitude           0.005623\n",
       "hourly_avg_distance              0.005204\n",
       "hourly_avg_trip_duration         0.005204\n",
       "end_station_latitude             0.004954\n",
       "distance                         0.003466\n",
       "trip_duration                    0.003466\n",
       "Haze                             0.002083\n",
       "stop_min                        -0.000653\n",
       "end_station_longitude           -0.000765\n",
       "start_station_longitude         -0.001840\n",
       "start_min                       -0.004112\n",
       "Hail                            -0.036338\n",
       "start_station_bike_added        -0.054375\n",
       "Glaze                           -0.093193\n",
       "Fog                             -0.117560\n",
       "Heavy_Fog                       -0.124006\n",
       "AWND                            -0.140023\n",
       "SNOW                            -0.157107\n",
       "stop_dayofweek                  -0.162588\n",
       "start_dayofweek                 -0.162740\n",
       "HasPRCP                         -0.205626\n",
       "HasSNOW                         -0.208338\n",
       "SNWD                            -0.214707\n",
       "PRCP                            -0.248111\n",
       "Name: trip_per_day, dtype: float64"
      ]
     },
     "execution_count": 224,
     "metadata": {},
     "output_type": "execute_result"
    }
   ],
   "source": [
    "corr['trip_per_day'].sort_values(ascending=False)\n",
    "# Highly Correlated: Temperature (month), year??  "
   ]
  },
  {
   "cell_type": "code",
   "execution_count": 53,
   "metadata": {},
   "outputs": [
    {
     "ename": "TypeError",
     "evalue": "object of type <class 'float'> cannot be safely interpreted as an integer.",
     "output_type": "error",
     "traceback": [
      "\u001b[1;31m---------------------------------------------------------------------------\u001b[0m",
      "\u001b[1;31mTypeError\u001b[0m                                 Traceback (most recent call last)",
      "\u001b[1;32m~\\Anaconda3\\lib\\site-packages\\numpy\\core\\function_base.py\u001b[0m in \u001b[0;36mlinspace\u001b[1;34m(start, stop, num, endpoint, retstep, dtype, axis)\u001b[0m\n\u001b[0;32m    116\u001b[0m     \u001b[1;32mtry\u001b[0m\u001b[1;33m:\u001b[0m\u001b[1;33m\u001b[0m\u001b[1;33m\u001b[0m\u001b[0m\n\u001b[1;32m--> 117\u001b[1;33m         \u001b[0mnum\u001b[0m \u001b[1;33m=\u001b[0m \u001b[0moperator\u001b[0m\u001b[1;33m.\u001b[0m\u001b[0mindex\u001b[0m\u001b[1;33m(\u001b[0m\u001b[0mnum\u001b[0m\u001b[1;33m)\u001b[0m\u001b[1;33m\u001b[0m\u001b[1;33m\u001b[0m\u001b[0m\n\u001b[0m\u001b[0;32m    118\u001b[0m     \u001b[1;32mexcept\u001b[0m \u001b[0mTypeError\u001b[0m\u001b[1;33m:\u001b[0m\u001b[1;33m\u001b[0m\u001b[1;33m\u001b[0m\u001b[0m\n",
      "\u001b[1;31mTypeError\u001b[0m: 'float' object cannot be interpreted as an integer",
      "\nDuring handling of the above exception, another exception occurred:\n",
      "\u001b[1;31mTypeError\u001b[0m                                 Traceback (most recent call last)",
      "\u001b[1;32m<ipython-input-53-c55cf9743640>\u001b[0m in \u001b[0;36m<module>\u001b[1;34m\u001b[0m\n\u001b[0;32m     11\u001b[0m \u001b[1;33m\u001b[0m\u001b[0m\n\u001b[0;32m     12\u001b[0m \u001b[1;31m# Generate a custom diverging colormap\u001b[0m\u001b[1;33m\u001b[0m\u001b[1;33m\u001b[0m\u001b[1;33m\u001b[0m\u001b[0m\n\u001b[1;32m---> 13\u001b[1;33m \u001b[0mcmap\u001b[0m \u001b[1;33m=\u001b[0m \u001b[0msns\u001b[0m\u001b[1;33m.\u001b[0m\u001b[0mdiverging_palette\u001b[0m\u001b[1;33m(\u001b[0m\u001b[1;36m220\u001b[0m\u001b[1;33m,\u001b[0m \u001b[1;36m10\u001b[0m\u001b[1;33m,\u001b[0m \u001b[0mas_cmap\u001b[0m\u001b[1;33m=\u001b[0m\u001b[1;32mTrue\u001b[0m\u001b[1;33m)\u001b[0m\u001b[1;33m\u001b[0m\u001b[1;33m\u001b[0m\u001b[0m\n\u001b[0m\u001b[0;32m     14\u001b[0m \u001b[1;33m\u001b[0m\u001b[0m\n\u001b[0;32m     15\u001b[0m \u001b[1;31m# Draw the heatmap with the mask and correct aspect ratio\u001b[0m\u001b[1;33m\u001b[0m\u001b[1;33m\u001b[0m\u001b[1;33m\u001b[0m\u001b[0m\n",
      "\u001b[1;32m~\\Anaconda3\\lib\\site-packages\\seaborn\\palettes.py\u001b[0m in \u001b[0;36mdiverging_palette\u001b[1;34m(h_neg, h_pos, s, l, sep, n, center, as_cmap)\u001b[0m\n\u001b[0;32m    742\u001b[0m     \"\"\"\n\u001b[0;32m    743\u001b[0m     \u001b[0mpalfunc\u001b[0m \u001b[1;33m=\u001b[0m \u001b[0mdark_palette\u001b[0m \u001b[1;32mif\u001b[0m \u001b[0mcenter\u001b[0m \u001b[1;33m==\u001b[0m \u001b[1;34m\"dark\"\u001b[0m \u001b[1;32melse\u001b[0m \u001b[0mlight_palette\u001b[0m\u001b[1;33m\u001b[0m\u001b[1;33m\u001b[0m\u001b[0m\n\u001b[1;32m--> 744\u001b[1;33m     \u001b[0mneg\u001b[0m \u001b[1;33m=\u001b[0m \u001b[0mpalfunc\u001b[0m\u001b[1;33m(\u001b[0m\u001b[1;33m(\u001b[0m\u001b[0mh_neg\u001b[0m\u001b[1;33m,\u001b[0m \u001b[0ms\u001b[0m\u001b[1;33m,\u001b[0m \u001b[0ml\u001b[0m\u001b[1;33m)\u001b[0m\u001b[1;33m,\u001b[0m \u001b[1;36m128\u001b[0m \u001b[1;33m-\u001b[0m \u001b[1;33m(\u001b[0m\u001b[0msep\u001b[0m \u001b[1;33m/\u001b[0m \u001b[1;36m2\u001b[0m\u001b[1;33m)\u001b[0m\u001b[1;33m,\u001b[0m \u001b[0mreverse\u001b[0m\u001b[1;33m=\u001b[0m\u001b[1;32mTrue\u001b[0m\u001b[1;33m,\u001b[0m \u001b[0minput\u001b[0m\u001b[1;33m=\u001b[0m\u001b[1;34m\"husl\"\u001b[0m\u001b[1;33m)\u001b[0m\u001b[1;33m\u001b[0m\u001b[1;33m\u001b[0m\u001b[0m\n\u001b[0m\u001b[0;32m    745\u001b[0m     \u001b[0mpos\u001b[0m \u001b[1;33m=\u001b[0m \u001b[0mpalfunc\u001b[0m\u001b[1;33m(\u001b[0m\u001b[1;33m(\u001b[0m\u001b[0mh_pos\u001b[0m\u001b[1;33m,\u001b[0m \u001b[0ms\u001b[0m\u001b[1;33m,\u001b[0m \u001b[0ml\u001b[0m\u001b[1;33m)\u001b[0m\u001b[1;33m,\u001b[0m \u001b[1;36m128\u001b[0m \u001b[1;33m-\u001b[0m \u001b[1;33m(\u001b[0m\u001b[0msep\u001b[0m \u001b[1;33m/\u001b[0m \u001b[1;36m2\u001b[0m\u001b[1;33m)\u001b[0m\u001b[1;33m,\u001b[0m \u001b[0minput\u001b[0m\u001b[1;33m=\u001b[0m\u001b[1;34m\"husl\"\u001b[0m\u001b[1;33m)\u001b[0m\u001b[1;33m\u001b[0m\u001b[1;33m\u001b[0m\u001b[0m\n\u001b[0;32m    746\u001b[0m     midpoint = dict(light=[(.95, .95, .95, 1.)],\n",
      "\u001b[1;32m~\\Anaconda3\\lib\\site-packages\\seaborn\\palettes.py\u001b[0m in \u001b[0;36mlight_palette\u001b[1;34m(color, n_colors, reverse, as_cmap, input)\u001b[0m\n\u001b[0;32m    639\u001b[0m     \u001b[0mlight\u001b[0m \u001b[1;33m=\u001b[0m \u001b[0mset_hls_values\u001b[0m\u001b[1;33m(\u001b[0m\u001b[0mcolor\u001b[0m\u001b[1;33m,\u001b[0m \u001b[0ml\u001b[0m\u001b[1;33m=\u001b[0m\u001b[1;36m.95\u001b[0m\u001b[1;33m)\u001b[0m  \u001b[1;31m# noqa\u001b[0m\u001b[1;33m\u001b[0m\u001b[1;33m\u001b[0m\u001b[0m\n\u001b[0;32m    640\u001b[0m     \u001b[0mcolors\u001b[0m \u001b[1;33m=\u001b[0m \u001b[1;33m[\u001b[0m\u001b[0mcolor\u001b[0m\u001b[1;33m,\u001b[0m \u001b[0mlight\u001b[0m\u001b[1;33m]\u001b[0m \u001b[1;32mif\u001b[0m \u001b[0mreverse\u001b[0m \u001b[1;32melse\u001b[0m \u001b[1;33m[\u001b[0m\u001b[0mlight\u001b[0m\u001b[1;33m,\u001b[0m \u001b[0mcolor\u001b[0m\u001b[1;33m]\u001b[0m\u001b[1;33m\u001b[0m\u001b[1;33m\u001b[0m\u001b[0m\n\u001b[1;32m--> 641\u001b[1;33m     \u001b[1;32mreturn\u001b[0m \u001b[0mblend_palette\u001b[0m\u001b[1;33m(\u001b[0m\u001b[0mcolors\u001b[0m\u001b[1;33m,\u001b[0m \u001b[0mn_colors\u001b[0m\u001b[1;33m,\u001b[0m \u001b[0mas_cmap\u001b[0m\u001b[1;33m)\u001b[0m\u001b[1;33m\u001b[0m\u001b[1;33m\u001b[0m\u001b[0m\n\u001b[0m\u001b[0;32m    642\u001b[0m \u001b[1;33m\u001b[0m\u001b[0m\n\u001b[0;32m    643\u001b[0m \u001b[1;33m\u001b[0m\u001b[0m\n",
      "\u001b[1;32m~\\Anaconda3\\lib\\site-packages\\seaborn\\palettes.py\u001b[0m in \u001b[0;36mblend_palette\u001b[1;34m(colors, n_colors, as_cmap, input)\u001b[0m\n\u001b[0;32m    775\u001b[0m     \u001b[0mpal\u001b[0m \u001b[1;33m=\u001b[0m \u001b[0mmpl\u001b[0m\u001b[1;33m.\u001b[0m\u001b[0mcolors\u001b[0m\u001b[1;33m.\u001b[0m\u001b[0mLinearSegmentedColormap\u001b[0m\u001b[1;33m.\u001b[0m\u001b[0mfrom_list\u001b[0m\u001b[1;33m(\u001b[0m\u001b[0mname\u001b[0m\u001b[1;33m,\u001b[0m \u001b[0mcolors\u001b[0m\u001b[1;33m)\u001b[0m\u001b[1;33m\u001b[0m\u001b[1;33m\u001b[0m\u001b[0m\n\u001b[0;32m    776\u001b[0m     \u001b[1;32mif\u001b[0m \u001b[1;32mnot\u001b[0m \u001b[0mas_cmap\u001b[0m\u001b[1;33m:\u001b[0m\u001b[1;33m\u001b[0m\u001b[1;33m\u001b[0m\u001b[0m\n\u001b[1;32m--> 777\u001b[1;33m         \u001b[0mpal\u001b[0m \u001b[1;33m=\u001b[0m \u001b[0m_ColorPalette\u001b[0m\u001b[1;33m(\u001b[0m\u001b[0mpal\u001b[0m\u001b[1;33m(\u001b[0m\u001b[0mnp\u001b[0m\u001b[1;33m.\u001b[0m\u001b[0mlinspace\u001b[0m\u001b[1;33m(\u001b[0m\u001b[1;36m0\u001b[0m\u001b[1;33m,\u001b[0m \u001b[1;36m1\u001b[0m\u001b[1;33m,\u001b[0m \u001b[0mn_colors\u001b[0m\u001b[1;33m)\u001b[0m\u001b[1;33m)\u001b[0m\u001b[1;33m)\u001b[0m\u001b[1;33m\u001b[0m\u001b[1;33m\u001b[0m\u001b[0m\n\u001b[0m\u001b[0;32m    778\u001b[0m     \u001b[1;32mreturn\u001b[0m \u001b[0mpal\u001b[0m\u001b[1;33m\u001b[0m\u001b[1;33m\u001b[0m\u001b[0m\n\u001b[0;32m    779\u001b[0m \u001b[1;33m\u001b[0m\u001b[0m\n",
      "\u001b[1;32m<__array_function__ internals>\u001b[0m in \u001b[0;36mlinspace\u001b[1;34m(*args, **kwargs)\u001b[0m\n",
      "\u001b[1;32m~\\Anaconda3\\lib\\site-packages\\numpy\\core\\function_base.py\u001b[0m in \u001b[0;36mlinspace\u001b[1;34m(start, stop, num, endpoint, retstep, dtype, axis)\u001b[0m\n\u001b[0;32m    119\u001b[0m         raise TypeError(\n\u001b[0;32m    120\u001b[0m             \u001b[1;34m\"object of type {} cannot be safely interpreted as an integer.\"\u001b[0m\u001b[1;33m\u001b[0m\u001b[1;33m\u001b[0m\u001b[0m\n\u001b[1;32m--> 121\u001b[1;33m                 .format(type(num)))\n\u001b[0m\u001b[0;32m    122\u001b[0m \u001b[1;33m\u001b[0m\u001b[0m\n\u001b[0;32m    123\u001b[0m     \u001b[1;32mif\u001b[0m \u001b[0mnum\u001b[0m \u001b[1;33m<\u001b[0m \u001b[1;36m0\u001b[0m\u001b[1;33m:\u001b[0m\u001b[1;33m\u001b[0m\u001b[1;33m\u001b[0m\u001b[0m\n",
      "\u001b[1;31mTypeError\u001b[0m: object of type <class 'float'> cannot be safely interpreted as an integer."
     ]
    },
    {
     "data": {
      "image/png": "[encoded data removed]",
      "text/plain": [
       "<Figure size 792x648 with 1 Axes>"
      ]
     },
     "metadata": {},
     "output_type": "display_data"
    }
   ],
   "source": [
    "from string import ascii_letters\n",
    "import numpy as np\n",
    "import pandas as pd\n",
    "import seaborn as sns \n",
    "\n",
    "sns.set(style=\"white\")\n",
    "corr =train_df_weather.corr()\n",
    "\n",
    "# Generate a mask for the upper triangle\n",
    "mask = np.triu(np.ones_like(corr, dtype=np.bool))\n",
    "# Set up the matplotlib figure\n",
    "f, ax = plt.subplots(figsize=(11, 9))\n",
    "# Generate a custom diverging colormap\n",
    "cmap = sns.diverging_palette(220, 10, as_cmap=True)\n",
    "# Draw the heatmap with the mask and correct aspect ratio\n",
    "sns.heatmap(corr, mask=mask, cmap=cmap, vmax=.3, center=0,\n",
    "            square=True, linewidths=.5, cbar_kws={\"shrink\": .5})"
   ]
  },
  {
   "cell_type": "code",
   "execution_count": 116,
   "metadata": {},
   "outputs": [],
   "source": [
    "corr.to_csv('Correlation_Matrix.csv')"
   ]
  },
  {
   "cell_type": "code",
   "execution_count": 67,
   "metadata": {},
   "outputs": [
    {
     "data": {
      "text/plain": [
       "trip_duration                    float64\n",
       "start_station_ID                 float64\n",
       "start_station_latitude           float64\n",
       "start_station_longitude          float64\n",
       "end_station_ID                   float64\n",
       "end_station_latitude             float64\n",
       "end_station_longitude            float64\n",
       "bike_ID                          float64\n",
       "birth_year                       float64\n",
       "gender                           float64\n",
       "start_hour                       float64\n",
       "start_min                        float64\n",
       "start_year                       float64\n",
       "start_month                      float64\n",
       "start_dayofweek                  float64\n",
       "stop_hour                        float64\n",
       "stop_min                         float64\n",
       "stop_dayofweek                   float64\n",
       "distance                         float64\n",
       "trip_per_day                     float64\n",
       "daily_avg_trip_duration          float64\n",
       "daily_avg_distance               float64\n",
       "trip_per_hour                    float64\n",
       "hourly_avg_trip_duration         float64\n",
       "hourly_avg_distance              float64\n",
       "start_station_checkout_counts    float64\n",
       "start_station_checkin_counts     float64\n",
       "start_station_bike_added         float64\n",
       "end_station_checkout_counts      float64\n",
       "end_station_checkin_counts       float64\n",
       "end_station_bike_added           float64\n",
       "AWND                             float64\n",
       "PRCP                             float64\n",
       "SNOW                             float64\n",
       "SNWD                             float64\n",
       "TMAX                             float64\n",
       "TMIN                             float64\n",
       "Fog                              float64\n",
       "Heavy_Fog                        float64\n",
       "Thunder                          float64\n",
       "Hail                             float64\n",
       "Glaze                            float64\n",
       "Haze                             float64\n",
       "TAVG                             float64\n",
       "HasPRCP                          float64\n",
       "HasSNOW                          float64\n",
       "dtype: object"
      ]
     },
     "execution_count": 67,
     "metadata": {},
     "output_type": "execute_result"
    }
   ],
   "source": [
    "corr.dtypes"
   ]
  },
  {
   "cell_type": "code",
   "execution_count": 52,
   "metadata": {},
   "outputs": [
    {
     "ename": "TypeError",
     "evalue": "object of type <class 'float'> cannot be safely interpreted as an integer.",
     "output_type": "error",
     "traceback": [
      "\u001b[1;31m---------------------------------------------------------------------------\u001b[0m",
      "\u001b[1;31mTypeError\u001b[0m                                 Traceback (most recent call last)",
      "\u001b[1;32m~\\Anaconda3\\lib\\site-packages\\numpy\\core\\function_base.py\u001b[0m in \u001b[0;36mlinspace\u001b[1;34m(start, stop, num, endpoint, retstep, dtype, axis)\u001b[0m\n\u001b[0;32m    116\u001b[0m     \u001b[1;32mtry\u001b[0m\u001b[1;33m:\u001b[0m\u001b[1;33m\u001b[0m\u001b[1;33m\u001b[0m\u001b[0m\n\u001b[1;32m--> 117\u001b[1;33m         \u001b[0mnum\u001b[0m \u001b[1;33m=\u001b[0m \u001b[0moperator\u001b[0m\u001b[1;33m.\u001b[0m\u001b[0mindex\u001b[0m\u001b[1;33m(\u001b[0m\u001b[0mnum\u001b[0m\u001b[1;33m)\u001b[0m\u001b[1;33m\u001b[0m\u001b[1;33m\u001b[0m\u001b[0m\n\u001b[0m\u001b[0;32m    118\u001b[0m     \u001b[1;32mexcept\u001b[0m \u001b[0mTypeError\u001b[0m\u001b[1;33m:\u001b[0m\u001b[1;33m\u001b[0m\u001b[1;33m\u001b[0m\u001b[0m\n",
      "\u001b[1;31mTypeError\u001b[0m: 'float' object cannot be interpreted as an integer",
      "\nDuring handling of the above exception, another exception occurred:\n",
      "\u001b[1;31mTypeError\u001b[0m                                 Traceback (most recent call last)",
      "\u001b[1;32m<ipython-input-52-9651fc20c75a>\u001b[0m in \u001b[0;36m<module>\u001b[1;34m\u001b[0m\n\u001b[0;32m      3\u001b[0m     \u001b[0mcorr\u001b[0m\u001b[1;33m,\u001b[0m\u001b[1;33m\u001b[0m\u001b[1;33m\u001b[0m\u001b[0m\n\u001b[0;32m      4\u001b[0m     \u001b[0mvmin\u001b[0m\u001b[1;33m=\u001b[0m\u001b[1;33m-\u001b[0m\u001b[1;36m1\u001b[0m\u001b[1;33m,\u001b[0m \u001b[0mvmax\u001b[0m\u001b[1;33m=\u001b[0m\u001b[1;36m1\u001b[0m\u001b[1;33m,\u001b[0m \u001b[0mcenter\u001b[0m\u001b[1;33m=\u001b[0m\u001b[1;36m0\u001b[0m\u001b[1;33m,\u001b[0m\u001b[1;33m\u001b[0m\u001b[1;33m\u001b[0m\u001b[0m\n\u001b[1;32m----> 5\u001b[1;33m     \u001b[0mcmap\u001b[0m\u001b[1;33m=\u001b[0m\u001b[0msns\u001b[0m\u001b[1;33m.\u001b[0m\u001b[0mdiverging_palette\u001b[0m\u001b[1;33m(\u001b[0m\u001b[1;36m20\u001b[0m\u001b[1;33m,\u001b[0m \u001b[1;36m220\u001b[0m\u001b[1;33m,\u001b[0m \u001b[0mn\u001b[0m\u001b[1;33m=\u001b[0m\u001b[1;36m200\u001b[0m\u001b[1;33m)\u001b[0m\u001b[1;33m,\u001b[0m\u001b[1;33m\u001b[0m\u001b[1;33m\u001b[0m\u001b[0m\n\u001b[0m\u001b[0;32m      6\u001b[0m     \u001b[0msquare\u001b[0m\u001b[1;33m=\u001b[0m\u001b[1;32mTrue\u001b[0m\u001b[1;33m\u001b[0m\u001b[1;33m\u001b[0m\u001b[0m\n\u001b[0;32m      7\u001b[0m )\n",
      "\u001b[1;32m~\\Anaconda3\\lib\\site-packages\\seaborn\\palettes.py\u001b[0m in \u001b[0;36mdiverging_palette\u001b[1;34m(h_neg, h_pos, s, l, sep, n, center, as_cmap)\u001b[0m\n\u001b[0;32m    742\u001b[0m     \"\"\"\n\u001b[0;32m    743\u001b[0m     \u001b[0mpalfunc\u001b[0m \u001b[1;33m=\u001b[0m \u001b[0mdark_palette\u001b[0m \u001b[1;32mif\u001b[0m \u001b[0mcenter\u001b[0m \u001b[1;33m==\u001b[0m \u001b[1;34m\"dark\"\u001b[0m \u001b[1;32melse\u001b[0m \u001b[0mlight_palette\u001b[0m\u001b[1;33m\u001b[0m\u001b[1;33m\u001b[0m\u001b[0m\n\u001b[1;32m--> 744\u001b[1;33m     \u001b[0mneg\u001b[0m \u001b[1;33m=\u001b[0m \u001b[0mpalfunc\u001b[0m\u001b[1;33m(\u001b[0m\u001b[1;33m(\u001b[0m\u001b[0mh_neg\u001b[0m\u001b[1;33m,\u001b[0m \u001b[0ms\u001b[0m\u001b[1;33m,\u001b[0m \u001b[0ml\u001b[0m\u001b[1;33m)\u001b[0m\u001b[1;33m,\u001b[0m \u001b[1;36m128\u001b[0m \u001b[1;33m-\u001b[0m \u001b[1;33m(\u001b[0m\u001b[0msep\u001b[0m \u001b[1;33m/\u001b[0m \u001b[1;36m2\u001b[0m\u001b[1;33m)\u001b[0m\u001b[1;33m,\u001b[0m \u001b[0mreverse\u001b[0m\u001b[1;33m=\u001b[0m\u001b[1;32mTrue\u001b[0m\u001b[1;33m,\u001b[0m \u001b[0minput\u001b[0m\u001b[1;33m=\u001b[0m\u001b[1;34m\"husl\"\u001b[0m\u001b[1;33m)\u001b[0m\u001b[1;33m\u001b[0m\u001b[1;33m\u001b[0m\u001b[0m\n\u001b[0m\u001b[0;32m    745\u001b[0m     \u001b[0mpos\u001b[0m \u001b[1;33m=\u001b[0m \u001b[0mpalfunc\u001b[0m\u001b[1;33m(\u001b[0m\u001b[1;33m(\u001b[0m\u001b[0mh_pos\u001b[0m\u001b[1;33m,\u001b[0m \u001b[0ms\u001b[0m\u001b[1;33m,\u001b[0m \u001b[0ml\u001b[0m\u001b[1;33m)\u001b[0m\u001b[1;33m,\u001b[0m \u001b[1;36m128\u001b[0m \u001b[1;33m-\u001b[0m \u001b[1;33m(\u001b[0m\u001b[0msep\u001b[0m \u001b[1;33m/\u001b[0m \u001b[1;36m2\u001b[0m\u001b[1;33m)\u001b[0m\u001b[1;33m,\u001b[0m \u001b[0minput\u001b[0m\u001b[1;33m=\u001b[0m\u001b[1;34m\"husl\"\u001b[0m\u001b[1;33m)\u001b[0m\u001b[1;33m\u001b[0m\u001b[1;33m\u001b[0m\u001b[0m\n\u001b[0;32m    746\u001b[0m     midpoint = dict(light=[(.95, .95, .95, 1.)],\n",
      "\u001b[1;32m~\\Anaconda3\\lib\\site-packages\\seaborn\\palettes.py\u001b[0m in \u001b[0;36mlight_palette\u001b[1;34m(color, n_colors, reverse, as_cmap, input)\u001b[0m\n\u001b[0;32m    639\u001b[0m     \u001b[0mlight\u001b[0m \u001b[1;33m=\u001b[0m \u001b[0mset_hls_values\u001b[0m\u001b[1;33m(\u001b[0m\u001b[0mcolor\u001b[0m\u001b[1;33m,\u001b[0m \u001b[0ml\u001b[0m\u001b[1;33m=\u001b[0m\u001b[1;36m.95\u001b[0m\u001b[1;33m)\u001b[0m  \u001b[1;31m# noqa\u001b[0m\u001b[1;33m\u001b[0m\u001b[1;33m\u001b[0m\u001b[0m\n\u001b[0;32m    640\u001b[0m     \u001b[0mcolors\u001b[0m \u001b[1;33m=\u001b[0m \u001b[1;33m[\u001b[0m\u001b[0mcolor\u001b[0m\u001b[1;33m,\u001b[0m \u001b[0mlight\u001b[0m\u001b[1;33m]\u001b[0m \u001b[1;32mif\u001b[0m \u001b[0mreverse\u001b[0m \u001b[1;32melse\u001b[0m \u001b[1;33m[\u001b[0m\u001b[0mlight\u001b[0m\u001b[1;33m,\u001b[0m \u001b[0mcolor\u001b[0m\u001b[1;33m]\u001b[0m\u001b[1;33m\u001b[0m\u001b[1;33m\u001b[0m\u001b[0m\n\u001b[1;32m--> 641\u001b[1;33m     \u001b[1;32mreturn\u001b[0m \u001b[0mblend_palette\u001b[0m\u001b[1;33m(\u001b[0m\u001b[0mcolors\u001b[0m\u001b[1;33m,\u001b[0m \u001b[0mn_colors\u001b[0m\u001b[1;33m,\u001b[0m \u001b[0mas_cmap\u001b[0m\u001b[1;33m)\u001b[0m\u001b[1;33m\u001b[0m\u001b[1;33m\u001b[0m\u001b[0m\n\u001b[0m\u001b[0;32m    642\u001b[0m \u001b[1;33m\u001b[0m\u001b[0m\n\u001b[0;32m    643\u001b[0m \u001b[1;33m\u001b[0m\u001b[0m\n",
      "\u001b[1;32m~\\Anaconda3\\lib\\site-packages\\seaborn\\palettes.py\u001b[0m in \u001b[0;36mblend_palette\u001b[1;34m(colors, n_colors, as_cmap, input)\u001b[0m\n\u001b[0;32m    775\u001b[0m     \u001b[0mpal\u001b[0m \u001b[1;33m=\u001b[0m \u001b[0mmpl\u001b[0m\u001b[1;33m.\u001b[0m\u001b[0mcolors\u001b[0m\u001b[1;33m.\u001b[0m\u001b[0mLinearSegmentedColormap\u001b[0m\u001b[1;33m.\u001b[0m\u001b[0mfrom_list\u001b[0m\u001b[1;33m(\u001b[0m\u001b[0mname\u001b[0m\u001b[1;33m,\u001b[0m \u001b[0mcolors\u001b[0m\u001b[1;33m)\u001b[0m\u001b[1;33m\u001b[0m\u001b[1;33m\u001b[0m\u001b[0m\n\u001b[0;32m    776\u001b[0m     \u001b[1;32mif\u001b[0m \u001b[1;32mnot\u001b[0m \u001b[0mas_cmap\u001b[0m\u001b[1;33m:\u001b[0m\u001b[1;33m\u001b[0m\u001b[1;33m\u001b[0m\u001b[0m\n\u001b[1;32m--> 777\u001b[1;33m         \u001b[0mpal\u001b[0m \u001b[1;33m=\u001b[0m \u001b[0m_ColorPalette\u001b[0m\u001b[1;33m(\u001b[0m\u001b[0mpal\u001b[0m\u001b[1;33m(\u001b[0m\u001b[0mnp\u001b[0m\u001b[1;33m.\u001b[0m\u001b[0mlinspace\u001b[0m\u001b[1;33m(\u001b[0m\u001b[1;36m0\u001b[0m\u001b[1;33m,\u001b[0m \u001b[1;36m1\u001b[0m\u001b[1;33m,\u001b[0m \u001b[0mn_colors\u001b[0m\u001b[1;33m)\u001b[0m\u001b[1;33m)\u001b[0m\u001b[1;33m)\u001b[0m\u001b[1;33m\u001b[0m\u001b[1;33m\u001b[0m\u001b[0m\n\u001b[0m\u001b[0;32m    778\u001b[0m     \u001b[1;32mreturn\u001b[0m \u001b[0mpal\u001b[0m\u001b[1;33m\u001b[0m\u001b[1;33m\u001b[0m\u001b[0m\n\u001b[0;32m    779\u001b[0m \u001b[1;33m\u001b[0m\u001b[0m\n",
      "\u001b[1;32m<__array_function__ internals>\u001b[0m in \u001b[0;36mlinspace\u001b[1;34m(*args, **kwargs)\u001b[0m\n",
      "\u001b[1;32m~\\Anaconda3\\lib\\site-packages\\numpy\\core\\function_base.py\u001b[0m in \u001b[0;36mlinspace\u001b[1;34m(start, stop, num, endpoint, retstep, dtype, axis)\u001b[0m\n\u001b[0;32m    119\u001b[0m         raise TypeError(\n\u001b[0;32m    120\u001b[0m             \u001b[1;34m\"object of type {} cannot be safely interpreted as an integer.\"\u001b[0m\u001b[1;33m\u001b[0m\u001b[1;33m\u001b[0m\u001b[0m\n\u001b[1;32m--> 121\u001b[1;33m                 .format(type(num)))\n\u001b[0m\u001b[0;32m    122\u001b[0m \u001b[1;33m\u001b[0m\u001b[0m\n\u001b[0;32m    123\u001b[0m     \u001b[1;32mif\u001b[0m \u001b[0mnum\u001b[0m \u001b[1;33m<\u001b[0m \u001b[1;36m0\u001b[0m\u001b[1;33m:\u001b[0m\u001b[1;33m\u001b[0m\u001b[1;33m\u001b[0m\u001b[0m\n",
      "\u001b[1;31mTypeError\u001b[0m: object of type <class 'float'> cannot be safely interpreted as an integer."
     ]
    }
   ],
   "source": [
    "corr =train_df_weather.corr()\n",
    "ax = sns.heatmap(\n",
    "    corr, \n",
    "    vmin=-1, vmax=1, center=0,\n",
    "    cmap=sns.diverging_palette(20, 220, n=200),\n",
    "    square=True\n",
    ")\n",
    "ax.set_xticklabels(\n",
    "    ax.get_xticklabels(),\n",
    "    rotation=45,\n",
    "    horizontalalignment='right'\n",
    ")"
   ]
  }
 ],
 "metadata": {
  "kernelspec": {
   "display_name": "Python 3",
   "language": "python",
   "name": "python3"
  },
  "language_info": {
   "codemirror_mode": {
    "name": "ipython",
    "version": 3
   },
   "file_extension": ".py",
   "mimetype": "text/x-python",
   "name": "python",
   "nbconvert_exporter": "python",
   "pygments_lexer": "ipython3",
   "version": "3.7.4"
  }
 },
 "nbformat": 4,
 "nbformat_minor": 2
}
