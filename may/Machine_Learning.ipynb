{
 "cells": [
  {
   "cell_type": "code",
   "execution_count": 13,
   "metadata": {},
   "outputs": [],
   "source": [
    "import pandas as pd\n",
    "import numpy as np\n",
    "from sklearn.model_selection import train_test_split, GridSearchCV\n",
    "from sklearn.linear_model import LinearRegression, Ridge, Lasso, ElasticNet\n",
    "from sklearn.cluster import KMeans\n",
    "from sklearn.preprocessing import LabelEncoder\n",
    "from sklearn.ensemble import GradientBoostingRegressor\n",
    "from xgboost import XGBRegressor"
   ]
  },
  {
   "cell_type": "code",
   "execution_count": 5,
   "metadata": {},
   "outputs": [
    {
     "name": "stderr",
     "output_type": "stream",
     "text": [
      "C:\\Users\\zhang\\Anaconda3\\lib\\site-packages\\numpy\\lib\\arraysetops.py:569: FutureWarning: elementwise comparison failed; returning scalar instead, but in the future will perform elementwise comparison\n",
      "  mask |= (ar1 == a)\n"
     ]
    }
   ],
   "source": [
    "Top200 = pd.read_csv('Top200_Stations.csv',index_col=0)"
   ]
  },
  {
   "cell_type": "code",
   "execution_count": 7,
   "metadata": {},
   "outputs": [
    {
     "data": {
      "text/html": [
       "<div>\n",
       "<style scoped>\n",
       "    .dataframe tbody tr th:only-of-type {\n",
       "        vertical-align: middle;\n",
       "    }\n",
       "\n",
       "    .dataframe tbody tr th {\n",
       "        vertical-align: top;\n",
       "    }\n",
       "\n",
       "    .dataframe thead th {\n",
       "        text-align: right;\n",
       "    }\n",
       "</style>\n",
       "<table border=\"1\" class=\"dataframe\">\n",
       "  <thead>\n",
       "    <tr style=\"text-align: right;\">\n",
       "      <th></th>\n",
       "      <th>start_station_latitude</th>\n",
       "      <th>start_station_longitude</th>\n",
       "      <th>start_hour</th>\n",
       "      <th>start_year</th>\n",
       "      <th>start_month</th>\n",
       "      <th>start_day</th>\n",
       "      <th>start_dayofweek</th>\n",
       "      <th>start_station_checkout_counts</th>\n",
       "      <th>start_station_checkin_counts</th>\n",
       "      <th>AWND</th>\n",
       "      <th>...</th>\n",
       "      <th>Haze</th>\n",
       "      <th>TAVG</th>\n",
       "      <th>HasPRCP</th>\n",
       "      <th>HasSNOW</th>\n",
       "      <th>tot_docks</th>\n",
       "      <th>Percent_usage</th>\n",
       "      <th>Isweekday</th>\n",
       "      <th>holidays</th>\n",
       "      <th>Commute</th>\n",
       "      <th>cluster</th>\n",
       "    </tr>\n",
       "  </thead>\n",
       "  <tbody>\n",
       "    <tr>\n",
       "      <td>0</td>\n",
       "      <td>40.751873</td>\n",
       "      <td>-73.977706</td>\n",
       "      <td>18</td>\n",
       "      <td>2017</td>\n",
       "      <td>1</td>\n",
       "      <td>19</td>\n",
       "      <td>4</td>\n",
       "      <td>92.0</td>\n",
       "      <td>72.0</td>\n",
       "      <td>3.58</td>\n",
       "      <td>...</td>\n",
       "      <td>0.0</td>\n",
       "      <td>44.0</td>\n",
       "      <td>0</td>\n",
       "      <td>0</td>\n",
       "      <td>61.0</td>\n",
       "      <td>2.688525</td>\n",
       "      <td>1</td>\n",
       "      <td>0</td>\n",
       "      <td>1</td>\n",
       "      <td>1.0</td>\n",
       "    </tr>\n",
       "    <tr>\n",
       "      <td>2</td>\n",
       "      <td>40.722174</td>\n",
       "      <td>-73.983688</td>\n",
       "      <td>8</td>\n",
       "      <td>2017</td>\n",
       "      <td>1</td>\n",
       "      <td>4</td>\n",
       "      <td>3</td>\n",
       "      <td>17.0</td>\n",
       "      <td>3.0</td>\n",
       "      <td>8.05</td>\n",
       "      <td>...</td>\n",
       "      <td>1.0</td>\n",
       "      <td>43.0</td>\n",
       "      <td>0</td>\n",
       "      <td>0</td>\n",
       "      <td>37.0</td>\n",
       "      <td>0.540541</td>\n",
       "      <td>1</td>\n",
       "      <td>0</td>\n",
       "      <td>1</td>\n",
       "      <td>2.0</td>\n",
       "    </tr>\n",
       "    <tr>\n",
       "      <td>3</td>\n",
       "      <td>40.732233</td>\n",
       "      <td>-73.988900</td>\n",
       "      <td>20</td>\n",
       "      <td>2017</td>\n",
       "      <td>1</td>\n",
       "      <td>13</td>\n",
       "      <td>5</td>\n",
       "      <td>6.0</td>\n",
       "      <td>4.0</td>\n",
       "      <td>7.16</td>\n",
       "      <td>...</td>\n",
       "      <td>0.0</td>\n",
       "      <td>47.0</td>\n",
       "      <td>0</td>\n",
       "      <td>0</td>\n",
       "      <td>35.0</td>\n",
       "      <td>0.285714</td>\n",
       "      <td>1</td>\n",
       "      <td>0</td>\n",
       "      <td>0</td>\n",
       "      <td>2.0</td>\n",
       "    </tr>\n",
       "    <tr>\n",
       "      <td>4</td>\n",
       "      <td>40.755942</td>\n",
       "      <td>-74.002116</td>\n",
       "      <td>18</td>\n",
       "      <td>2017</td>\n",
       "      <td>1</td>\n",
       "      <td>25</td>\n",
       "      <td>3</td>\n",
       "      <td>8.0</td>\n",
       "      <td>3.0</td>\n",
       "      <td>6.71</td>\n",
       "      <td>...</td>\n",
       "      <td>0.0</td>\n",
       "      <td>43.5</td>\n",
       "      <td>0</td>\n",
       "      <td>0</td>\n",
       "      <td>39.0</td>\n",
       "      <td>0.282051</td>\n",
       "      <td>1</td>\n",
       "      <td>0</td>\n",
       "      <td>1</td>\n",
       "      <td>2.0</td>\n",
       "    </tr>\n",
       "    <tr>\n",
       "      <td>5</td>\n",
       "      <td>40.730473</td>\n",
       "      <td>-73.986724</td>\n",
       "      <td>6</td>\n",
       "      <td>2017</td>\n",
       "      <td>1</td>\n",
       "      <td>25</td>\n",
       "      <td>3</td>\n",
       "      <td>5.0</td>\n",
       "      <td>1.0</td>\n",
       "      <td>6.71</td>\n",
       "      <td>...</td>\n",
       "      <td>0.0</td>\n",
       "      <td>43.5</td>\n",
       "      <td>0</td>\n",
       "      <td>0</td>\n",
       "      <td>39.0</td>\n",
       "      <td>0.153846</td>\n",
       "      <td>1</td>\n",
       "      <td>0</td>\n",
       "      <td>0</td>\n",
       "      <td>2.0</td>\n",
       "    </tr>\n",
       "  </tbody>\n",
       "</table>\n",
       "<p>5 rows × 30 columns</p>\n",
       "</div>"
      ],
      "text/plain": [
       "   start_station_latitude  start_station_longitude  start_hour  start_year  \\\n",
       "0               40.751873               -73.977706          18        2017   \n",
       "2               40.722174               -73.983688           8        2017   \n",
       "3               40.732233               -73.988900          20        2017   \n",
       "4               40.755942               -74.002116          18        2017   \n",
       "5               40.730473               -73.986724           6        2017   \n",
       "\n",
       "   start_month  start_day  start_dayofweek  start_station_checkout_counts  \\\n",
       "0            1         19                4                           92.0   \n",
       "2            1          4                3                           17.0   \n",
       "3            1         13                5                            6.0   \n",
       "4            1         25                3                            8.0   \n",
       "5            1         25                3                            5.0   \n",
       "\n",
       "   start_station_checkin_counts  AWND  ...  Haze  TAVG  HasPRCP  HasSNOW  \\\n",
       "0                          72.0  3.58  ...   0.0  44.0        0        0   \n",
       "2                           3.0  8.05  ...   1.0  43.0        0        0   \n",
       "3                           4.0  7.16  ...   0.0  47.0        0        0   \n",
       "4                           3.0  6.71  ...   0.0  43.5        0        0   \n",
       "5                           1.0  6.71  ...   0.0  43.5        0        0   \n",
       "\n",
       "   tot_docks  Percent_usage  Isweekday  holidays  Commute  cluster  \n",
       "0       61.0       2.688525          1         0        1      1.0  \n",
       "2       37.0       0.540541          1         0        1      2.0  \n",
       "3       35.0       0.285714          1         0        0      2.0  \n",
       "4       39.0       0.282051          1         0        1      2.0  \n",
       "5       39.0       0.153846          1         0        0      2.0  \n",
       "\n",
       "[5 rows x 30 columns]"
      ]
     },
     "execution_count": 7,
     "metadata": {},
     "output_type": "execute_result"
    }
   ],
   "source": [
    "Top200.head()"
   ]
  },
  {
   "cell_type": "markdown",
   "metadata": {},
   "source": [
    "## Lasso Model "
   ]
  },
  {
   "cell_type": "code",
   "execution_count": null,
   "metadata": {},
   "outputs": [],
   "source": [
    "# X = Top200.drop('start_station_checkout_counts',axis = 1)\n",
    "# Y = Top200.start_station_checkout_counts"
   ]
  },
  {
   "cell_type": "code",
   "execution_count": null,
   "metadata": {},
   "outputs": [],
   "source": [
    "# X_train, X_test, y_train, y_test = train_test_split(X, Y, train_size=0.8, test_size=0.2, random_state=42)"
   ]
  },
  {
   "cell_type": "code",
   "execution_count": null,
   "metadata": {},
   "outputs": [],
   "source": [
    "# lasso = Lasso(normalize=True,tol=0.01)\n",
    "# alphas = np.logspace(-8,-2,100)\n",
    "\n",
    "# alpha_coefs = []\n",
    "# for alpha in alphas:\n",
    "#     lasso.set_params(alpha=alpha)\n",
    "#     lasso.fit(X, Y)\n",
    "#     alpha_coefs.append(lasso.coef_)\n",
    "    \n",
    "# # the order of predictors to become zero coefficient\n",
    "# coefs_df = pd.DataFrame(alpha_coefs, index=alphas, columns = list(X.columns))"
   ]
  },
  {
   "cell_type": "code",
   "execution_count": null,
   "metadata": {},
   "outputs": [],
   "source": [
    "# plt.figure(figsize=(20,10))\n",
    "# for name in coefs_df.columns:\n",
    "#     plt.plot(coefs_df.index, coefs_df[name], label=name)\n",
    "# plt.xlabel(r'hyperparameter $\\lambda$')\n",
    "# plt.ylabel(r'slope values')\n",
    "# plt.legend(loc=1)   "
   ]
  },
  {
   "cell_type": "code",
   "execution_count": null,
   "metadata": {},
   "outputs": [],
   "source": [
    "# ### find the alpha where coefficient becomes zero ###\n",
    "# alpha_zero = {}\n",
    "# for col in coefs_df.columns:\n",
    "#     for alpha in coefs_df.index:\n",
    "#         if coefs_df.loc[alpha, col] == 0:\n",
    "#             alpha_zero[col] = alpha\n",
    "#             break\n",
    "# alpha_zero = sorted(alpha_zero.items(), key=lambda x: x[1], reverse=True)\n",
    "# alpha_zero"
   ]
  },
  {
   "cell_type": "markdown",
   "metadata": {},
   "source": [
    "## Tree Based Model"
   ]
  },
  {
   "cell_type": "code",
   "execution_count": 19,
   "metadata": {},
   "outputs": [],
   "source": [
    "X = Top200.drop('start_station_checkout_counts',axis = 1)\n",
    "Y = Top200.start_station_checkout_counts"
   ]
  },
  {
   "cell_type": "code",
   "execution_count": 20,
   "metadata": {},
   "outputs": [],
   "source": [
    "X_train, X_test, y_train, y_test = train_test_split(X, Y, train_size=0.8, test_size=0.2, random_state=42)"
   ]
  },
  {
   "cell_type": "markdown",
   "metadata": {},
   "source": [
    "### XGBoost"
   ]
  },
  {
   "cell_type": "code",
   "execution_count": 21,
   "metadata": {},
   "outputs": [],
   "source": [
    "xgb = XGBRegressor()\n",
    "xgb.set_params(subsample=0.7,random_state=42)\n",
    "grid_params = {'max_depth': range(2,8,7), 'n_estimators': range(300,1000,10),'eta':np.linspace(0.01,0.1,10)}"
   ]
  },
  {
   "cell_type": "code",
   "execution_count": null,
   "metadata": {},
   "outputs": [],
   "source": [
    "grid_search_xgb = GridSearchCV(xgb, grid_params, cv = 3,scoring = 'neg_root_mean_squared_error')\n",
    "%time grid_search_xgb.fit(X_train,y_train)"
   ]
  },
  {
   "cell_type": "code",
   "execution_count": null,
   "metadata": {},
   "outputs": [],
   "source": []
  },
  {
   "cell_type": "code",
   "execution_count": null,
   "metadata": {},
   "outputs": [],
   "source": []
  },
  {
   "cell_type": "markdown",
   "metadata": {},
   "source": [
    "### Gradient Boosting"
   ]
  },
  {
   "cell_type": "code",
   "execution_count": null,
   "metadata": {},
   "outputs": [],
   "source": []
  }
 ],
 "metadata": {
  "kernelspec": {
   "display_name": "Python 3",
   "language": "python",
   "name": "python3"
  },
  "language_info": {
   "codemirror_mode": {
    "name": "ipython",
    "version": 3
   },
   "file_extension": ".py",
   "mimetype": "text/x-python",
   "name": "python",
   "nbconvert_exporter": "python",
   "pygments_lexer": "ipython3",
   "version": "3.7.4"
  }
 },
 "nbformat": 4,
 "nbformat_minor": 2
}
