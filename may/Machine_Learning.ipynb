{
 "cells": [
  {
   "cell_type": "code",
   "execution_count": 1,
   "metadata": {},
   "outputs": [],
   "source": [
    "import pandas as pd\n",
    "import numpy as np\n",
    "from sklearn.model_selection import train_test_split, GridSearchCV\n",
    "from sklearn.linear_model import LinearRegression, Lasso, LogisticRegression\n",
    "from sklearn.cluster import KMeans\n",
    "from sklearn.preprocessing import LabelEncoder\n",
    "from sklearn.ensemble import GradientBoostingRegressor,RandomForestClassifier\n",
    "from xgboost import XGBRegressor\n",
    "from sklearn import ensemble\n",
    "import matplotlib.pyplot as plt\n",
    "%matplotlib inline\n",
    "import seaborn as sns"
   ]
  },
  {
   "cell_type": "code",
   "execution_count": 2,
   "metadata": {},
   "outputs": [
    {
     "name": "stderr",
     "output_type": "stream",
     "text": [
      "C:\\Users\\zhang\\Anaconda3\\lib\\site-packages\\numpy\\lib\\arraysetops.py:569: FutureWarning: elementwise comparison failed; returning scalar instead, but in the future will perform elementwise comparison\n",
      "  mask |= (ar1 == a)\n"
     ]
    }
   ],
   "source": [
    "Top200 = pd.read_csv('Top200_Stations.csv',index_col=0)"
   ]
  },
  {
   "cell_type": "code",
   "execution_count": 3,
   "metadata": {},
   "outputs": [
    {
     "data": {
      "text/html": [
       "<div>\n",
       "<style scoped>\n",
       "    .dataframe tbody tr th:only-of-type {\n",
       "        vertical-align: middle;\n",
       "    }\n",
       "\n",
       "    .dataframe tbody tr th {\n",
       "        vertical-align: top;\n",
       "    }\n",
       "\n",
       "    .dataframe thead th {\n",
       "        text-align: right;\n",
       "    }\n",
       "</style>\n",
       "<table border=\"1\" class=\"dataframe\">\n",
       "  <thead>\n",
       "    <tr style=\"text-align: right;\">\n",
       "      <th></th>\n",
       "      <th>start_station_latitude</th>\n",
       "      <th>start_station_longitude</th>\n",
       "      <th>start_hour</th>\n",
       "      <th>start_year</th>\n",
       "      <th>start_month</th>\n",
       "      <th>start_day</th>\n",
       "      <th>start_dayofweek</th>\n",
       "      <th>start_station_checkout_counts</th>\n",
       "      <th>start_station_checkin_counts</th>\n",
       "      <th>AWND</th>\n",
       "      <th>...</th>\n",
       "      <th>Haze</th>\n",
       "      <th>TAVG</th>\n",
       "      <th>HasPRCP</th>\n",
       "      <th>HasSNOW</th>\n",
       "      <th>tot_docks</th>\n",
       "      <th>Percent_usage</th>\n",
       "      <th>Isweekday</th>\n",
       "      <th>holidays</th>\n",
       "      <th>Commute</th>\n",
       "      <th>cluster</th>\n",
       "    </tr>\n",
       "  </thead>\n",
       "  <tbody>\n",
       "    <tr>\n",
       "      <td>0</td>\n",
       "      <td>40.751873</td>\n",
       "      <td>-73.977706</td>\n",
       "      <td>18</td>\n",
       "      <td>2017</td>\n",
       "      <td>1</td>\n",
       "      <td>19</td>\n",
       "      <td>4</td>\n",
       "      <td>92.0</td>\n",
       "      <td>72.0</td>\n",
       "      <td>3.58</td>\n",
       "      <td>...</td>\n",
       "      <td>0.0</td>\n",
       "      <td>44.0</td>\n",
       "      <td>0</td>\n",
       "      <td>0</td>\n",
       "      <td>61.0</td>\n",
       "      <td>2.688525</td>\n",
       "      <td>1</td>\n",
       "      <td>0</td>\n",
       "      <td>1</td>\n",
       "      <td>1.0</td>\n",
       "    </tr>\n",
       "    <tr>\n",
       "      <td>2</td>\n",
       "      <td>40.722174</td>\n",
       "      <td>-73.983688</td>\n",
       "      <td>8</td>\n",
       "      <td>2017</td>\n",
       "      <td>1</td>\n",
       "      <td>4</td>\n",
       "      <td>3</td>\n",
       "      <td>17.0</td>\n",
       "      <td>3.0</td>\n",
       "      <td>8.05</td>\n",
       "      <td>...</td>\n",
       "      <td>1.0</td>\n",
       "      <td>43.0</td>\n",
       "      <td>0</td>\n",
       "      <td>0</td>\n",
       "      <td>37.0</td>\n",
       "      <td>0.540541</td>\n",
       "      <td>1</td>\n",
       "      <td>0</td>\n",
       "      <td>1</td>\n",
       "      <td>2.0</td>\n",
       "    </tr>\n",
       "    <tr>\n",
       "      <td>3</td>\n",
       "      <td>40.732233</td>\n",
       "      <td>-73.988900</td>\n",
       "      <td>20</td>\n",
       "      <td>2017</td>\n",
       "      <td>1</td>\n",
       "      <td>13</td>\n",
       "      <td>5</td>\n",
       "      <td>6.0</td>\n",
       "      <td>4.0</td>\n",
       "      <td>7.16</td>\n",
       "      <td>...</td>\n",
       "      <td>0.0</td>\n",
       "      <td>47.0</td>\n",
       "      <td>0</td>\n",
       "      <td>0</td>\n",
       "      <td>35.0</td>\n",
       "      <td>0.285714</td>\n",
       "      <td>1</td>\n",
       "      <td>0</td>\n",
       "      <td>0</td>\n",
       "      <td>2.0</td>\n",
       "    </tr>\n",
       "    <tr>\n",
       "      <td>4</td>\n",
       "      <td>40.755942</td>\n",
       "      <td>-74.002116</td>\n",
       "      <td>18</td>\n",
       "      <td>2017</td>\n",
       "      <td>1</td>\n",
       "      <td>25</td>\n",
       "      <td>3</td>\n",
       "      <td>8.0</td>\n",
       "      <td>3.0</td>\n",
       "      <td>6.71</td>\n",
       "      <td>...</td>\n",
       "      <td>0.0</td>\n",
       "      <td>43.5</td>\n",
       "      <td>0</td>\n",
       "      <td>0</td>\n",
       "      <td>39.0</td>\n",
       "      <td>0.282051</td>\n",
       "      <td>1</td>\n",
       "      <td>0</td>\n",
       "      <td>1</td>\n",
       "      <td>2.0</td>\n",
       "    </tr>\n",
       "    <tr>\n",
       "      <td>5</td>\n",
       "      <td>40.730473</td>\n",
       "      <td>-73.986724</td>\n",
       "      <td>6</td>\n",
       "      <td>2017</td>\n",
       "      <td>1</td>\n",
       "      <td>25</td>\n",
       "      <td>3</td>\n",
       "      <td>5.0</td>\n",
       "      <td>1.0</td>\n",
       "      <td>6.71</td>\n",
       "      <td>...</td>\n",
       "      <td>0.0</td>\n",
       "      <td>43.5</td>\n",
       "      <td>0</td>\n",
       "      <td>0</td>\n",
       "      <td>39.0</td>\n",
       "      <td>0.153846</td>\n",
       "      <td>1</td>\n",
       "      <td>0</td>\n",
       "      <td>0</td>\n",
       "      <td>2.0</td>\n",
       "    </tr>\n",
       "  </tbody>\n",
       "</table>\n",
       "<p>5 rows × 30 columns</p>\n",
       "</div>"
      ],
      "text/plain": [
       "   start_station_latitude  start_station_longitude  start_hour  start_year  \\\n",
       "0               40.751873               -73.977706          18        2017   \n",
       "2               40.722174               -73.983688           8        2017   \n",
       "3               40.732233               -73.988900          20        2017   \n",
       "4               40.755942               -74.002116          18        2017   \n",
       "5               40.730473               -73.986724           6        2017   \n",
       "\n",
       "   start_month  start_day  start_dayofweek  start_station_checkout_counts  \\\n",
       "0            1         19                4                           92.0   \n",
       "2            1          4                3                           17.0   \n",
       "3            1         13                5                            6.0   \n",
       "4            1         25                3                            8.0   \n",
       "5            1         25                3                            5.0   \n",
       "\n",
       "   start_station_checkin_counts  AWND  ...  Haze  TAVG  HasPRCP  HasSNOW  \\\n",
       "0                          72.0  3.58  ...   0.0  44.0        0        0   \n",
       "2                           3.0  8.05  ...   1.0  43.0        0        0   \n",
       "3                           4.0  7.16  ...   0.0  47.0        0        0   \n",
       "4                           3.0  6.71  ...   0.0  43.5        0        0   \n",
       "5                           1.0  6.71  ...   0.0  43.5        0        0   \n",
       "\n",
       "   tot_docks  Percent_usage  Isweekday  holidays  Commute  cluster  \n",
       "0       61.0       2.688525          1         0        1      1.0  \n",
       "2       37.0       0.540541          1         0        1      2.0  \n",
       "3       35.0       0.285714          1         0        0      2.0  \n",
       "4       39.0       0.282051          1         0        1      2.0  \n",
       "5       39.0       0.153846          1         0        0      2.0  \n",
       "\n",
       "[5 rows x 30 columns]"
      ]
     },
     "execution_count": 3,
     "metadata": {},
     "output_type": "execute_result"
    }
   ],
   "source": [
    "Top200.head()"
   ]
  },
  {
   "cell_type": "markdown",
   "metadata": {},
   "source": [
    "## Lasso Model "
   ]
  },
  {
   "cell_type": "code",
   "execution_count": 4,
   "metadata": {},
   "outputs": [],
   "source": [
    "# X = Top200.drop('start_station_checkout_counts',axis = 1)\n",
    "# Y = Top200.start_station_checkout_counts"
   ]
  },
  {
   "cell_type": "code",
   "execution_count": 5,
   "metadata": {},
   "outputs": [],
   "source": [
    "# X_train, X_test, y_train, y_test = train_test_split(X, Y, train_size=0.8, test_size=0.2, random_state=42)"
   ]
  },
  {
   "cell_type": "code",
   "execution_count": 6,
   "metadata": {},
   "outputs": [],
   "source": [
    "# lasso = Lasso(normalize=True,tol=0.01)\n",
    "# alphas = np.logspace(-8,-2,100)\n",
    "\n",
    "# alpha_coefs = []\n",
    "# for alpha in alphas:\n",
    "#     lasso.set_params(alpha=alpha)\n",
    "#     lasso.fit(X, Y)\n",
    "#     alpha_coefs.append(lasso.coef_)\n",
    "    \n",
    "# # the order of predictors to become zero coefficient\n",
    "# coefs_df = pd.DataFrame(alpha_coefs, index=alphas, columns = list(X.columns))"
   ]
  },
  {
   "cell_type": "code",
   "execution_count": 7,
   "metadata": {},
   "outputs": [],
   "source": [
    "# plt.figure(figsize=(20,10))\n",
    "# for name in coefs_df.columns:\n",
    "#     plt.plot(coefs_df.index, coefs_df[name], label=name)\n",
    "# plt.xlabel(r'hyperparameter $\\lambda$')\n",
    "# plt.ylabel(r'slope values')\n",
    "# plt.legend(loc=1)   "
   ]
  },
  {
   "cell_type": "code",
   "execution_count": 8,
   "metadata": {},
   "outputs": [],
   "source": [
    "# ### find the alpha where coefficient becomes zero ###\n",
    "# alpha_zero = {}\n",
    "# for col in coefs_df.columns:\n",
    "#     for alpha in coefs_df.index:\n",
    "#         if coefs_df.loc[alpha, col] == 0:\n",
    "#             alpha_zero[col] = alpha\n",
    "#             break\n",
    "# alpha_zero = sorted(alpha_zero.items(), key=lambda x: x[1], reverse=True)\n",
    "# alpha_zero"
   ]
  },
  {
   "cell_type": "markdown",
   "metadata": {},
   "source": [
    "## Tree Based Models"
   ]
  },
  {
   "cell_type": "code",
   "execution_count": 9,
   "metadata": {},
   "outputs": [],
   "source": [
    "X = Top200.drop(['start_station_checkout_counts','Percent_usage','start_station_checkin_counts'],axis = 1)\n",
    "Y = Top200.start_station_checkout_counts"
   ]
  },
  {
   "cell_type": "code",
   "execution_count": 10,
   "metadata": {},
   "outputs": [],
   "source": [
    "X_train, X_test, y_train, y_test = train_test_split(X, Y, train_size=0.8, test_size=0.2, random_state=42)"
   ]
  },
  {
   "cell_type": "markdown",
   "metadata": {},
   "source": [
    "### XGBoost"
   ]
  },
  {
   "cell_type": "code",
   "execution_count": 11,
   "metadata": {},
   "outputs": [
    {
     "name": "stdout",
     "output_type": "stream",
     "text": [
      "Wall time: 14min 10s\n"
     ]
    },
    {
     "data": {
      "text/plain": [
       "XGBRegressor(base_score=0.5, booster=None, colsample_bylevel=1,\n",
       "             colsample_bynode=1, colsample_bytree=1, eta=0.04, gamma=0,\n",
       "             gpu_id=-1, importance_type='gain', interaction_constraints=None,\n",
       "             learning_rate=0.0399999991, max_delta_step=0, max_depth=6,\n",
       "             min_child_weight=1, missing=nan, monotone_constraints=None,\n",
       "             n_estimators=1200, n_jobs=0, num_parallel_tree=1,\n",
       "             objective='reg:squarederror', random_state=42, reg_alpha=0,\n",
       "             reg_lambda=1, scale_pos_weight=1, subsample=0.7, tree_method=None,\n",
       "             validate_parameters=False, verbosity=None)"
      ]
     },
     "execution_count": 11,
     "metadata": {},
     "output_type": "execute_result"
    }
   ],
   "source": [
    "xgb = XGBRegressor()\n",
    "xgb.set_params(subsample=0.7,random_state=42, n_estimators=1200,eta=0.04)\n",
    "%time xgb.fit(X_train,y_train)"
   ]
  },
  {
   "cell_type": "code",
   "execution_count": 12,
   "metadata": {},
   "outputs": [
    {
     "name": "stdout",
     "output_type": "stream",
     "text": [
      "Training score is 0.722\n",
      "Testing score is 0.710\n"
     ]
    }
   ],
   "source": [
    "print('Training score is %.3f' %(xgb.score(X_train,y_train)))\n",
    "print('Testing score is %.3f' %(xgb.score(X_test,y_test)))"
   ]
  },
  {
   "cell_type": "code",
   "execution_count": 13,
   "metadata": {},
   "outputs": [
    {
     "data": {
      "text/plain": [
       "[('cluster', 0.24626362),\n",
       " ('Commute', 0.20675604),\n",
       " ('TAVG', 0.08225282),\n",
       " ('tot_docks', 0.06661223),\n",
       " ('TMAX', 0.061792966),\n",
       " ('start_hour', 0.05599702),\n",
       " ('start_station_latitude', 0.040986177),\n",
       " ('start_station_longitude', 0.03996174),\n",
       " ('start_dayofweek', 0.036518183),\n",
       " ('PRCP', 0.024405405),\n",
       " ('start_month', 0.022487637),\n",
       " ('start_year', 0.020158527),\n",
       " ('TMIN', 0.018164307),\n",
       " ('holidays', 0.016021231),\n",
       " ('Heavy_Fog', 0.012401098),\n",
       " ('Fog', 0.00859361),\n",
       " ('start_day', 0.008453688),\n",
       " ('Haze', 0.007257712),\n",
       " ('SNWD', 0.006696183),\n",
       " ('AWND', 0.006387577),\n",
       " ('Thunder', 0.005518719),\n",
       " ('SNOW', 0.004375421),\n",
       " ('Glaze', 0.0019380499),\n",
       " ('Hail', 0.0),\n",
       " ('HasPRCP', 0.0),\n",
       " ('HasSNOW', 0.0),\n",
       " ('Isweekday', 0.0)]"
      ]
     },
     "execution_count": 13,
     "metadata": {},
     "output_type": "execute_result"
    }
   ],
   "source": [
    "sorted_importance_xgb = sorted(zip(X_train.columns.values, xgb.feature_importances_), key=lambda t:t[1], reverse=True)\n",
    "sorted_importance_xgb"
   ]
  },
  {
   "cell_type": "code",
   "execution_count": 14,
   "metadata": {},
   "outputs": [
    {
     "data": {
      "text/plain": [
       "Text(0.5, 1.0, 'Feature Importance Plot for XgBoost Model')"
      ]
     },
     "execution_count": 14,
     "metadata": {},
     "output_type": "execute_result"
    },
    {
     "data": {
      "image/png": "[encoded data removed]",
      "text/plain": [
       "<Figure size 1296x864 with 1 Axes>"
      ]
     },
     "metadata": {
      "needs_background": "light"
     },
     "output_type": "display_data"
    }
   ],
   "source": [
    "plt.rcParams['figure.figsize'] = (18,12)\n",
    "a, b = zip(*sorted_importance_xgb) # this splits the list of tuples into two lists\n",
    "pd.DataFrame({'feature_name':a, 'importance_score':b}).plot.bar(x='feature_name',y='importance_score', legend=None)\n",
    "plt.title('Feature Importance Plot for XgBoost Model')"
   ]
  },
  {
   "cell_type": "code",
   "execution_count": null,
   "metadata": {},
   "outputs": [],
   "source": [
    "grid_params = {'max_depth': range(4,8,3),\n",
    "               'eta':np.linspace(0.02,0.1,5),\n",
    "              'n_estimator':np.linspace(1000,1400,5)}\n",
    "grid_search_xgb = GridSearchCV(xgb, grid_params, cv = 5)\n",
    "%time grid_search_xgb.fit(X_train,y_train)"
   ]
  },
  {
   "cell_type": "code",
   "execution_count": null,
   "metadata": {},
   "outputs": [],
   "source": [
    "grid_search_xgb.best_params_"
   ]
  },
  {
   "cell_type": "code",
   "execution_count": null,
   "metadata": {},
   "outputs": [],
   "source": [
    "grid_search_xgb.score(X_train,y_train)"
   ]
  },
  {
   "cell_type": "code",
   "execution_count": null,
   "metadata": {},
   "outputs": [],
   "source": [
    "grid_search_xgb.score(X_test,y_test)"
   ]
  },
  {
   "cell_type": "markdown",
   "metadata": {},
   "source": [
    "### Gradient Boosting"
   ]
  },
  {
   "cell_type": "code",
   "execution_count": null,
   "metadata": {},
   "outputs": [],
   "source": [
    "gbm = GradientBoostingRegressor()\n",
    "gbm.set_params(learning_rate=0.03, n_estimators=900, subsample=0.7, loss='ls', max_depth=4, max_features=2,\\\n",
    "               min_impurity_decrease=0.01,random_state = 42)\n",
    "%time gbm.fit(X_train,y_train)"
   ]
  },
  {
   "cell_type": "code",
   "execution_count": null,
   "metadata": {},
   "outputs": [],
   "source": [
    "print('Training score is %.3f' %gbm.score(X_train,y_train))\n",
    "print('Testing score is %.3f' %gbm.score(X_test,y_test))"
   ]
  },
  {
   "cell_type": "code",
   "execution_count": null,
   "metadata": {},
   "outputs": [],
   "source": [
    "sorted_importance_gbm = sorted(zip(X_train.columns.values, gbm.feature_importances_), key=lambda t:t[1], reverse=True)\n",
    "sorted_importance_gbm"
   ]
  },
  {
   "cell_type": "code",
   "execution_count": null,
   "metadata": {},
   "outputs": [],
   "source": [
    "plt.rcParams['figure.figsize'] = (18,12)\n",
    "a, b = zip(*sorted_importance_gbm) # this splits the list of tuples into two lists\n",
    "pd.DataFrame({'feature_name':a, 'importance_score':b}).plot.bar(x='feature_name',y='importance_score', legend=None)\n",
    "plt.title('Feature Importance Plot for GBM model')"
   ]
  },
  {
   "cell_type": "code",
   "execution_count": null,
   "metadata": {},
   "outputs": [],
   "source": [
    "grid_params = {'max_depth': range(4,8,3),\n",
    "               'learning_rate':np.linspace(0.01,0.1,10),\n",
    "              \"min_samples_split\": np.linspace(start=5, stop=20, num=5, dtype=int)}\n",
    "grid_search_gbm = GridSearchCV(gbm, grid_params, cv = 5)\n",
    "%time grid_search_gbm.fit(X_train,y_train)"
   ]
  },
  {
   "cell_type": "code",
   "execution_count": null,
   "metadata": {},
   "outputs": [],
   "source": [
    "grid_search_gbm.best_param_"
   ]
  },
  {
   "cell_type": "markdown",
   "metadata": {},
   "source": [
    "## Classification on Turnover Rate"
   ]
  },
  {
   "cell_type": "markdown",
   "metadata": {},
   "source": [
    "### Random Forest"
   ]
  },
  {
   "cell_type": "code",
   "execution_count": null,
   "metadata": {},
   "outputs": [],
   "source": [
    "Top200['High_turnover']=[1 if x>0.49 else 0 for x in Top200['Percent_usage']]"
   ]
  },
  {
   "cell_type": "code",
   "execution_count": null,
   "metadata": {},
   "outputs": [],
   "source": [
    "columns_to_drop = ['High_turnover', 'Percent_usage', 'start_station_checkout_counts', 'start_station_checkin_counts']\n",
    "X_class = Top200.drop(columns_to_drop,axis = 1)\n",
    "Y_class = Top200.High_turnover"
   ]
  },
  {
   "cell_type": "code",
   "execution_count": null,
   "metadata": {},
   "outputs": [],
   "source": [
    "X_train_class, X_test_class, y_train_class, y_test_class = train_test_split(X_class, Y_class, train_size=0.8, test_size=0.2, random_state=42)"
   ]
  },
  {
   "cell_type": "code",
   "execution_count": null,
   "metadata": {},
   "outputs": [],
   "source": [
    "randomForest = RandomForestClassifier()"
   ]
  },
  {
   "cell_type": "code",
   "execution_count": null,
   "metadata": {},
   "outputs": [],
   "source": [
    "randomForest.set_params(random_state=42, max_features=4)\n",
    "%time randomForest.fit(X_train_class, y_train_class)  "
   ]
  },
  {
   "cell_type": "code",
   "execution_count": null,
   "metadata": {},
   "outputs": [],
   "source": [
    "print('RandomForest train test score is %.3f' %(randomForest.score(X_train_class, y_train_class)))\n",
    "print('RandomForest test test score is %.3f' %(randomForest.score(X_test_class, y_test_class)))"
   ]
  },
  {
   "cell_type": "code",
   "execution_count": null,
   "metadata": {},
   "outputs": [],
   "source": [
    "feature_importance = list(zip(X_train_class.columns, randomForest.feature_importances_))\n",
    "feature_importance"
   ]
  },
  {
   "cell_type": "code",
   "execution_count": null,
   "metadata": {},
   "outputs": [],
   "source": [
    "dtype = [('feature', 'S10'), ('importance', 'float')]\n",
    "feature_importance = np.array(feature_importance, dtype=dtype)\n",
    "feature_sort = np.sort(feature_importance, order='importance')[::-1]\n",
    "name, score = zip(*list(feature_sort))\n",
    "pd.DataFrame({'name':name,'score':score})[:15].plot.bar(x='name', y='score')"
   ]
  },
  {
   "cell_type": "code",
   "execution_count": null,
   "metadata": {},
   "outputs": [],
   "source": [
    "grid_params = {'max_features':np,linspace(2,6,3),\n",
    "               'n_estimators':np.linspace(100,500,5)}\n",
    "grid_search_randomForest = GridSearchCV(randomForest, grid_params, cv = 5)\n",
    "%time grid_search_randomForest.fit(X_train_class,y_train_class)"
   ]
  }
 ],
 "metadata": {
  "kernelspec": {
   "display_name": "Python 3",
   "language": "python",
   "name": "python3"
  },
  "language_info": {
   "codemirror_mode": {
    "name": "ipython",
    "version": 3
   },
   "file_extension": ".py",
   "mimetype": "text/x-python",
   "name": "python",
   "nbconvert_exporter": "python",
   "pygments_lexer": "ipython3",
   "version": "3.7.4"
  }
 },
 "nbformat": 4,
 "nbformat_minor": 2
}
