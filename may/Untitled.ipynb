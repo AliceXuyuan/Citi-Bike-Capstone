{
 "cells": [
  {
   "cell_type": "code",
   "execution_count": 3,
   "metadata": {},
   "outputs": [],
   "source": [
    "import pandas as pd\n",
    "import numpy as np"
   ]
  },
  {
   "cell_type": "code",
   "execution_count": 17,
   "metadata": {},
   "outputs": [],
   "source": [
    "train_df_weather = pd.read_csv('train_weather.csv',index_col=0)"
   ]
  },
  {
   "cell_type": "code",
   "execution_count": 7,
   "metadata": {},
   "outputs": [
    {
     "data": {
      "text/plain": [
       "Index(['trip_duration', 'starttime', 'stoptime', 'start_station_ID',\n",
       "       'start_station_name', 'start_station_latitude',\n",
       "       'start_station_longitude', 'end_station_ID', 'end_station_name',\n",
       "       'end_station_latitude', 'end_station_longitude', 'bike_ID', 'user_type',\n",
       "       'birth_year', 'gender', 'start_date', 'start_time', 'start_hour',\n",
       "       'start_min', 'start_year', 'start_month', 'start_dayofweek',\n",
       "       'stop_date', 'stop_time', 'stop_hour', 'stop_min', 'stop_dayofweek',\n",
       "       'distance', 'trip_per_day', 'daily_avg_trip_duration',\n",
       "       'daily_avg_distance', 'trip_per_hour', 'hourly_avg_trip_duration',\n",
       "       'hourly_avg_distance', 'trip_per_hour_eachday',\n",
       "       'hourly_avg_trip_duration_eachday', 'hourly_avg_distance_eachday',\n",
       "       'AWND', 'PRCP', 'SNOW', 'SNWD', 'TMAX', 'TMIN', 'Fog', 'Heavy_Fog',\n",
       "       'Thunder', 'Hail', 'Glaze', 'Haze', 'TAVG', 'HasPRCP', 'HasSNOW'],\n",
       "      dtype='object')"
      ]
     },
     "execution_count": 7,
     "metadata": {},
     "output_type": "execute_result"
    }
   ],
   "source": [
    "train_df_weather.columns"
   ]
  },
  {
   "cell_type": "code",
   "execution_count": 18,
   "metadata": {},
   "outputs": [
    {
     "data": {
      "text/html": [
       "<div>\n",
       "<style scoped>\n",
       "    .dataframe tbody tr th:only-of-type {\n",
       "        vertical-align: middle;\n",
       "    }\n",
       "\n",
       "    .dataframe tbody tr th {\n",
       "        vertical-align: top;\n",
       "    }\n",
       "\n",
       "    .dataframe thead th {\n",
       "        text-align: right;\n",
       "    }\n",
       "</style>\n",
       "<table border=\"1\" class=\"dataframe\">\n",
       "  <thead>\n",
       "    <tr style=\"text-align: right;\">\n",
       "      <th></th>\n",
       "      <th>start_station_ID</th>\n",
       "      <th>start_date</th>\n",
       "      <th>trip_per_day</th>\n",
       "      <th>trip_per_hour</th>\n",
       "      <th>trip_per_hour_eachday</th>\n",
       "    </tr>\n",
       "  </thead>\n",
       "  <tbody>\n",
       "    <tr>\n",
       "      <td>0</td>\n",
       "      <td>127.0</td>\n",
       "      <td>2017-01-20</td>\n",
       "      <td>24685</td>\n",
       "      <td>137.0</td>\n",
       "      <td>7.0</td>\n",
       "    </tr>\n",
       "    <tr>\n",
       "      <td>1</td>\n",
       "      <td>174.0</td>\n",
       "      <td>2017-01-22</td>\n",
       "      <td>18014</td>\n",
       "      <td>163.0</td>\n",
       "      <td>1.0</td>\n",
       "    </tr>\n",
       "    <tr>\n",
       "      <td>2</td>\n",
       "      <td>150.0</td>\n",
       "      <td>2017-01-04</td>\n",
       "      <td>32138</td>\n",
       "      <td>200.0</td>\n",
       "      <td>18.0</td>\n",
       "    </tr>\n",
       "    <tr>\n",
       "      <td>3</td>\n",
       "      <td>385.0</td>\n",
       "      <td>2017-01-14</td>\n",
       "      <td>12385</td>\n",
       "      <td>97.0</td>\n",
       "      <td>4.0</td>\n",
       "    </tr>\n",
       "    <tr>\n",
       "      <td>4</td>\n",
       "      <td>3374.0</td>\n",
       "      <td>2017-01-26</td>\n",
       "      <td>30286</td>\n",
       "      <td>124.0</td>\n",
       "      <td>6.0</td>\n",
       "    </tr>\n",
       "    <tr>\n",
       "      <td>...</td>\n",
       "      <td>...</td>\n",
       "      <td>...</td>\n",
       "      <td>...</td>\n",
       "      <td>...</td>\n",
       "      <td>...</td>\n",
       "    </tr>\n",
       "    <tr>\n",
       "      <td>2478713</td>\n",
       "      <td>459.0</td>\n",
       "      <td>2019-12-15</td>\n",
       "      <td>29922</td>\n",
       "      <td>335.0</td>\n",
       "      <td>11.0</td>\n",
       "    </tr>\n",
       "    <tr>\n",
       "      <td>2478714</td>\n",
       "      <td>493.0</td>\n",
       "      <td>2019-12-19</td>\n",
       "      <td>26874</td>\n",
       "      <td>148.0</td>\n",
       "      <td>7.0</td>\n",
       "    </tr>\n",
       "    <tr>\n",
       "      <td>2478715</td>\n",
       "      <td>303.0</td>\n",
       "      <td>2019-12-06</td>\n",
       "      <td>47558</td>\n",
       "      <td>169.0</td>\n",
       "      <td>2.0</td>\n",
       "    </tr>\n",
       "    <tr>\n",
       "      <td>2478716</td>\n",
       "      <td>238.0</td>\n",
       "      <td>2019-12-28</td>\n",
       "      <td>25366</td>\n",
       "      <td>97.0</td>\n",
       "      <td>7.0</td>\n",
       "    </tr>\n",
       "    <tr>\n",
       "      <td>2478717</td>\n",
       "      <td>426.0</td>\n",
       "      <td>2019-12-31</td>\n",
       "      <td>29334</td>\n",
       "      <td>280.0</td>\n",
       "      <td>17.0</td>\n",
       "    </tr>\n",
       "  </tbody>\n",
       "</table>\n",
       "<p>2478718 rows × 5 columns</p>\n",
       "</div>"
      ],
      "text/plain": [
       "         start_station_ID  start_date  trip_per_day  trip_per_hour  \\\n",
       "0                   127.0  2017-01-20         24685          137.0   \n",
       "1                   174.0  2017-01-22         18014          163.0   \n",
       "2                   150.0  2017-01-04         32138          200.0   \n",
       "3                   385.0  2017-01-14         12385           97.0   \n",
       "4                  3374.0  2017-01-26         30286          124.0   \n",
       "...                   ...         ...           ...            ...   \n",
       "2478713             459.0  2019-12-15         29922          335.0   \n",
       "2478714             493.0  2019-12-19         26874          148.0   \n",
       "2478715             303.0  2019-12-06         47558          169.0   \n",
       "2478716             238.0  2019-12-28         25366           97.0   \n",
       "2478717             426.0  2019-12-31         29334          280.0   \n",
       "\n",
       "         trip_per_hour_eachday  \n",
       "0                          7.0  \n",
       "1                          1.0  \n",
       "2                         18.0  \n",
       "3                          4.0  \n",
       "4                          6.0  \n",
       "...                        ...  \n",
       "2478713                   11.0  \n",
       "2478714                    7.0  \n",
       "2478715                    2.0  \n",
       "2478716                    7.0  \n",
       "2478717                   17.0  \n",
       "\n",
       "[2478718 rows x 5 columns]"
      ]
     },
     "execution_count": 18,
     "metadata": {},
     "output_type": "execute_result"
    }
   ],
   "source": [
    "train_df_weather[['start_station_ID','start_date','trip_per_day','trip_per_hour','trip_per_hour_eachday']]"
   ]
  },
  {
   "cell_type": "code",
   "execution_count": 19,
   "metadata": {},
   "outputs": [],
   "source": [
    "# daily_data = train_df_weather.groupby('start_station_ID','start_hour').\\\n",
    "# agg({'start_station_latitude':lambda x: x.iloc[0],'start_station_longitude':lambda x: x.iloc[0],'trip_per_hour':lambda x: x.iloc[0]})\n",
    "\n",
    "daily_data = train_df_weather.groupby(['start_station_ID','start_hour'])[['start_station_name','start_station_latitude','start_station_longitude','trip_per_hour']].agg(lambda x:x.iloc[0])\n",
    "daily_data = daily_data.reset_index()"
   ]
  },
  {
   "cell_type": "code",
   "execution_count": 20,
   "metadata": {},
   "outputs": [],
   "source": [
    "daily_data.to_csv('Daily.csv')"
   ]
  }
 ],
 "metadata": {
  "kernelspec": {
   "display_name": "Python 3",
   "language": "python",
   "name": "python3"
  },
  "language_info": {
   "codemirror_mode": {
    "name": "ipython",
    "version": 3
   },
   "file_extension": ".py",
   "mimetype": "text/x-python",
   "name": "python",
   "nbconvert_exporter": "python",
   "pygments_lexer": "ipython3",
   "version": "3.7.4"
  }
 },
 "nbformat": 4,
 "nbformat_minor": 2
}
