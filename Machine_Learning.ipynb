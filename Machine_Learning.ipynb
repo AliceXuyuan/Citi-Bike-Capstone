{
 "cells": [
  {
   "cell_type": "code",
   "execution_count": 1,
   "metadata": {},
   "outputs": [
    {
     "name": "stderr",
     "output_type": "stream",
     "text": [
      "C:\\Users\\zhang\\Anaconda3\\lib\\site-packages\\sklearn\\externals\\joblib\\__init__.py:15: FutureWarning: sklearn.externals.joblib is deprecated in 0.21 and will be removed in 0.23. Please import this functionality directly from joblib, which can be installed with: pip install joblib. If this warning is raised when loading pickled models, you may need to re-serialize those models with scikit-learn 0.21+.\n",
      "  warnings.warn(msg, category=FutureWarning)\n"
     ]
    }
   ],
   "source": [
    "import pandas as pd\n",
    "import numpy as np\n",
    "import matplotlib.pyplot as plt\n",
    "%matplotlib inline\n",
    "import seaborn as sns\n",
    "from math import sqrt\n",
    "from statistics import mean \n",
    "from sklearn.model_selection import train_test_split, GridSearchCV, cross_val_score\n",
    "from sklearn.linear_model import Lasso\n",
    "from sklearn.preprocessing import LabelEncoder\n",
    "from xgboost import XGBRegressor\n",
    "from sklearn.ensemble import GradientBoostingRegressor,RandomForestClassifier\n",
    "from sklearn import ensemble\n",
    "from sklearn.metrics import mean_squared_error\n",
    "from sklearn.externals import joblib\n",
    "import warnings\n",
    "warnings.filterwarnings('ignore')"
   ]
  },
  {
   "cell_type": "code",
   "execution_count": 2,
   "metadata": {},
   "outputs": [],
   "source": [
    "Top200 = pd.read_csv('Top200_Stations.csv',index_col=0)\n",
    "Top200_test = pd.read_csv('Top200_test_Stations.csv',index_col=0)"
   ]
  },
  {
   "cell_type": "code",
   "execution_count": 3,
   "metadata": {},
   "outputs": [
    {
     "data": {
      "text/html": [
       "<div>\n",
       "<style scoped>\n",
       "    .dataframe tbody tr th:only-of-type {\n",
       "        vertical-align: middle;\n",
       "    }\n",
       "\n",
       "    .dataframe tbody tr th {\n",
       "        vertical-align: top;\n",
       "    }\n",
       "\n",
       "    .dataframe thead th {\n",
       "        text-align: right;\n",
       "    }\n",
       "</style>\n",
       "<table border=\"1\" class=\"dataframe\">\n",
       "  <thead>\n",
       "    <tr style=\"text-align: right;\">\n",
       "      <th></th>\n",
       "      <th>start_station_latitude</th>\n",
       "      <th>start_station_longitude</th>\n",
       "      <th>start_hour</th>\n",
       "      <th>start_year</th>\n",
       "      <th>start_month</th>\n",
       "      <th>start_day</th>\n",
       "      <th>start_dayofweek</th>\n",
       "      <th>start_station_checkout_counts</th>\n",
       "      <th>start_station_checkin_counts</th>\n",
       "      <th>AWND</th>\n",
       "      <th>...</th>\n",
       "      <th>Haze</th>\n",
       "      <th>TAVG</th>\n",
       "      <th>HasPRCP</th>\n",
       "      <th>HasSNOW</th>\n",
       "      <th>tot_docks</th>\n",
       "      <th>Percent_usage</th>\n",
       "      <th>Isweekday</th>\n",
       "      <th>holidays</th>\n",
       "      <th>Commute</th>\n",
       "      <th>cluster</th>\n",
       "    </tr>\n",
       "  </thead>\n",
       "  <tbody>\n",
       "    <tr>\n",
       "      <td>0</td>\n",
       "      <td>40.751873</td>\n",
       "      <td>-73.977706</td>\n",
       "      <td>18</td>\n",
       "      <td>2017</td>\n",
       "      <td>1</td>\n",
       "      <td>19</td>\n",
       "      <td>4</td>\n",
       "      <td>92.0</td>\n",
       "      <td>72.0</td>\n",
       "      <td>3.58</td>\n",
       "      <td>...</td>\n",
       "      <td>0.0</td>\n",
       "      <td>44.0</td>\n",
       "      <td>0</td>\n",
       "      <td>0</td>\n",
       "      <td>61.0</td>\n",
       "      <td>2.688525</td>\n",
       "      <td>1</td>\n",
       "      <td>0</td>\n",
       "      <td>1</td>\n",
       "      <td>3.0</td>\n",
       "    </tr>\n",
       "    <tr>\n",
       "      <td>2</td>\n",
       "      <td>40.722174</td>\n",
       "      <td>-73.983688</td>\n",
       "      <td>8</td>\n",
       "      <td>2017</td>\n",
       "      <td>1</td>\n",
       "      <td>4</td>\n",
       "      <td>3</td>\n",
       "      <td>17.0</td>\n",
       "      <td>3.0</td>\n",
       "      <td>8.05</td>\n",
       "      <td>...</td>\n",
       "      <td>1.0</td>\n",
       "      <td>43.0</td>\n",
       "      <td>0</td>\n",
       "      <td>0</td>\n",
       "      <td>37.0</td>\n",
       "      <td>0.540541</td>\n",
       "      <td>1</td>\n",
       "      <td>0</td>\n",
       "      <td>1</td>\n",
       "      <td>1.0</td>\n",
       "    </tr>\n",
       "    <tr>\n",
       "      <td>3</td>\n",
       "      <td>40.732233</td>\n",
       "      <td>-73.988900</td>\n",
       "      <td>20</td>\n",
       "      <td>2017</td>\n",
       "      <td>1</td>\n",
       "      <td>13</td>\n",
       "      <td>5</td>\n",
       "      <td>6.0</td>\n",
       "      <td>4.0</td>\n",
       "      <td>7.16</td>\n",
       "      <td>...</td>\n",
       "      <td>0.0</td>\n",
       "      <td>47.0</td>\n",
       "      <td>0</td>\n",
       "      <td>0</td>\n",
       "      <td>35.0</td>\n",
       "      <td>0.285714</td>\n",
       "      <td>1</td>\n",
       "      <td>0</td>\n",
       "      <td>0</td>\n",
       "      <td>1.0</td>\n",
       "    </tr>\n",
       "    <tr>\n",
       "      <td>4</td>\n",
       "      <td>40.755942</td>\n",
       "      <td>-74.002116</td>\n",
       "      <td>18</td>\n",
       "      <td>2017</td>\n",
       "      <td>1</td>\n",
       "      <td>25</td>\n",
       "      <td>3</td>\n",
       "      <td>8.0</td>\n",
       "      <td>3.0</td>\n",
       "      <td>6.71</td>\n",
       "      <td>...</td>\n",
       "      <td>0.0</td>\n",
       "      <td>43.5</td>\n",
       "      <td>0</td>\n",
       "      <td>0</td>\n",
       "      <td>39.0</td>\n",
       "      <td>0.282051</td>\n",
       "      <td>1</td>\n",
       "      <td>0</td>\n",
       "      <td>1</td>\n",
       "      <td>3.0</td>\n",
       "    </tr>\n",
       "    <tr>\n",
       "      <td>5</td>\n",
       "      <td>40.730473</td>\n",
       "      <td>-73.986724</td>\n",
       "      <td>6</td>\n",
       "      <td>2017</td>\n",
       "      <td>1</td>\n",
       "      <td>25</td>\n",
       "      <td>3</td>\n",
       "      <td>5.0</td>\n",
       "      <td>1.0</td>\n",
       "      <td>6.71</td>\n",
       "      <td>...</td>\n",
       "      <td>0.0</td>\n",
       "      <td>43.5</td>\n",
       "      <td>0</td>\n",
       "      <td>0</td>\n",
       "      <td>39.0</td>\n",
       "      <td>0.153846</td>\n",
       "      <td>1</td>\n",
       "      <td>0</td>\n",
       "      <td>0</td>\n",
       "      <td>1.0</td>\n",
       "    </tr>\n",
       "  </tbody>\n",
       "</table>\n",
       "<p>5 rows × 30 columns</p>\n",
       "</div>"
      ],
      "text/plain": [
       "   start_station_latitude  start_station_longitude  start_hour  start_year  \\\n",
       "0               40.751873               -73.977706          18        2017   \n",
       "2               40.722174               -73.983688           8        2017   \n",
       "3               40.732233               -73.988900          20        2017   \n",
       "4               40.755942               -74.002116          18        2017   \n",
       "5               40.730473               -73.986724           6        2017   \n",
       "\n",
       "   start_month  start_day  start_dayofweek  start_station_checkout_counts  \\\n",
       "0            1         19                4                           92.0   \n",
       "2            1          4                3                           17.0   \n",
       "3            1         13                5                            6.0   \n",
       "4            1         25                3                            8.0   \n",
       "5            1         25                3                            5.0   \n",
       "\n",
       "   start_station_checkin_counts  AWND  ...  Haze  TAVG  HasPRCP  HasSNOW  \\\n",
       "0                          72.0  3.58  ...   0.0  44.0        0        0   \n",
       "2                           3.0  8.05  ...   1.0  43.0        0        0   \n",
       "3                           4.0  7.16  ...   0.0  47.0        0        0   \n",
       "4                           3.0  6.71  ...   0.0  43.5        0        0   \n",
       "5                           1.0  6.71  ...   0.0  43.5        0        0   \n",
       "\n",
       "   tot_docks  Percent_usage  Isweekday  holidays  Commute  cluster  \n",
       "0       61.0       2.688525          1         0        1      3.0  \n",
       "2       37.0       0.540541          1         0        1      1.0  \n",
       "3       35.0       0.285714          1         0        0      1.0  \n",
       "4       39.0       0.282051          1         0        1      3.0  \n",
       "5       39.0       0.153846          1         0        0      1.0  \n",
       "\n",
       "[5 rows x 30 columns]"
      ]
     },
     "execution_count": 3,
     "metadata": {},
     "output_type": "execute_result"
    }
   ],
   "source": [
    "Top200.head()"
   ]
  },
  {
   "cell_type": "markdown",
   "metadata": {},
   "source": [
    "## Linear Model: Lasso"
   ]
  },
  {
   "cell_type": "markdown",
   "metadata": {},
   "source": [
    "### Dummification for Linear Model"
   ]
  },
  {
   "cell_type": "code",
   "execution_count": 4,
   "metadata": {},
   "outputs": [],
   "source": [
    "columns = ['start_hour','start_year','start_month','start_dayofweek','cluster']\n",
    "Top200_dummified = pd.get_dummies(Top200, columns=columns, prefix=columns, prefix_sep='_',drop_first=True)\n",
    "Top200_test_dummified = pd.get_dummies(Top200_test, columns=columns, prefix=columns, prefix_sep='_',drop_first=True)"
   ]
  },
  {
   "cell_type": "code",
   "execution_count": 5,
   "metadata": {},
   "outputs": [],
   "source": [
    "# Split target and features for train data set\n",
    "X = Top200_dummified.drop(['start_station_checkout_counts','start_day',\\\n",
    "                           'start_station_checkin_counts','Percent_usage'],axis = 1)\n",
    "Y = Top200_dummified.start_station_checkout_counts"
   ]
  },
  {
   "cell_type": "code",
   "execution_count": 6,
   "metadata": {},
   "outputs": [],
   "source": [
    "# Split target and features for test data set\n",
    "test_X = Top200_test_dummified.drop(['start_station_checkout_counts','start_day',\\\n",
    "                           'start_station_checkin_counts','Percent_usage'],axis = 1)\n",
    "test_Y = Top200_test_dummified.start_station_checkout_counts"
   ]
  },
  {
   "cell_type": "markdown",
   "metadata": {},
   "source": [
    "### Lasso Model Training "
   ]
  },
  {
   "cell_type": "code",
   "execution_count": 7,
   "metadata": {},
   "outputs": [],
   "source": [
    "lasso = Lasso(normalize=True,max_iter=3000,tol=0.01)\n",
    "alphas = np.logspace(-8,-2.2,40)\n",
    "\n",
    "alpha_coefs = []\n",
    "for alpha in alphas:\n",
    "    lasso.set_params(alpha=alpha)\n",
    "    lasso.fit(X, Y)\n",
    "    alpha_coefs.append(lasso.coef_)\n",
    "    \n",
    "# the order of predictors to become zero coefficient\n",
    "coefs_df = pd.DataFrame(alpha_coefs, index=alphas, columns = list(X.columns))"
   ]
  },
  {
   "cell_type": "code",
   "execution_count": 8,
   "metadata": {},
   "outputs": [
    {
     "data": {
      "image/png": "[encoded data removed]",
      "text/plain": [
       "<Figure size 1080x720 with 1 Axes>"
      ]
     },
     "metadata": {
      "needs_background": "light"
     },
     "output_type": "display_data"
    }
   ],
   "source": [
    "plt.figure(figsize=(15,10))\n",
    "for name in coefs_df.columns:\n",
    "    plt.plot(coefs_df.index, coefs_df[name], label=name)\n",
    "plt.xlabel(r'hyperparameter $\\lambda$', fontsize = 15)\n",
    "plt.ylabel(r'slope values', fontsize = 15) \n",
    "plt.title('Lasso Coefficient at Various Lambda', fontsize = 18)\n",
    "plt.yticks(fontsize = 12)\n",
    "plt.xticks(fontsize = 12);"
   ]
  },
  {
   "cell_type": "code",
   "execution_count": 9,
   "metadata": {},
   "outputs": [
    {
     "data": {
      "text/plain": [
       "[('Commute', 0.0044800416471236235),\n",
       " ('cluster_3.0', 0.0044800416471236235),\n",
       " ('TMAX', 0.0031810031748655187),\n",
       " ('tot_docks', 0.0022586355207213746),\n",
       " ('start_hour_17', 0.0022586355207213746),\n",
       " ('start_hour_18', 0.001603718743751331),\n",
       " ('PRCP', 0.0011387024535228735),\n",
       " ('start_hour_22', 0.0011387024535228735),\n",
       " ('start_hour_21', 0.0008085228676856251),\n",
       " ('start_year_2019', 0.0008085228676856251),\n",
       " ('start_month_10', 0.0008085228676856251),\n",
       " ('HasPRCP', 0.0005740825670026137),\n",
       " ('start_hour_8', 0.0005740825670026137),\n",
       " ('start_hour_15', 0.0005740825670026137),\n",
       " ('start_month_2', 0.0005740825670026137),\n",
       " ('start_month_9', 0.0005740825670026137),\n",
       " ('SNWD', 0.00040762086875748845),\n",
       " ('holidays', 0.00040762086875748845),\n",
       " ('start_hour_9', 0.00040762086875748845),\n",
       " ('start_hour_14', 0.00040762086875748845),\n",
       " ('start_dayofweek_6', 0.00040762086875748845),\n",
       " ('start_hour_7', 0.0002894266124716752),\n",
       " ('start_hour_13', 0.0002894266124716752),\n",
       " ('start_month_5', 0.0002894266124716752),\n",
       " ('start_month_11', 0.0002894266124716752),\n",
       " ('start_dayofweek_5', 0.0002894266124716752),\n",
       " ('Isweekday', 0.00020550411038122338),\n",
       " ('start_hour_12', 0.00020550411038122338),\n",
       " ('start_month_6', 0.00020550411038122338),\n",
       " ('AWND', 0.00014591588182897718),\n",
       " ('start_hour_16', 0.00014591588182897718),\n",
       " ('start_station_longitude', 0.00010360593046256342),\n",
       " ('start_month_4', 0.00010360593046256342),\n",
       " ('start_month_8', 0.00010360593046256342),\n",
       " ('start_dayofweek_2', 0.00010360593046256342),\n",
       " ('start_station_latitude', 7.356422544596421e-05),\n",
       " ('Haze', 5.2233450742668436e-05),\n",
       " ('HasSNOW', 5.2233450742668436e-05),\n",
       " ('start_hour_11', 5.2233450742668436e-05),\n",
       " ('start_hour_20', 5.2233450742668436e-05),\n",
       " ('start_year_2018', 5.2233450742668436e-05),\n",
       " ('start_dayofweek_3', 5.2233450742668436e-05),\n",
       " ('Thunder', 3.7087774117744725e-05),\n",
       " ('start_hour_6', 3.7087774117744725e-05),\n",
       " ('start_month_7', 3.7087774117744725e-05),\n",
       " ('start_dayofweek_4', 3.7087774117744725e-05),\n",
       " ('Heavy_Fog', 2.6333756806253625e-05),\n",
       " ('Hail', 2.6333756806253625e-05),\n",
       " ('start_hour_10', 2.6333756806253625e-05),\n",
       " ('start_month_12', 2.6333756806253625e-05),\n",
       " ('cluster_1.0', 2.6333756806253625e-05),\n",
       " ('Glaze', 1.869798778781704e-05),\n",
       " ('start_month_3', 1.869798778781704e-05),\n",
       " ('TMIN', 1.3276295892211254e-05),\n",
       " ('Fog', 6.6933113233463395e-06),\n",
       " ('start_hour_19', 6.6933113233463395e-06),\n",
       " ('cluster_2.0', 6.6933113233463395e-06),\n",
       " ('SNOW', 4.752510411057897e-06),\n",
       " ('start_dayofweek_7', 6.089973244419447e-07),\n",
       " ('TAVG', 1.0990707273598858e-07)]"
      ]
     },
     "execution_count": 9,
     "metadata": {},
     "output_type": "execute_result"
    }
   ],
   "source": [
    "### Find the alpha where coefficients become zero ###\n",
    "alpha_zero = {}\n",
    "for col in coefs_df.columns:\n",
    "    for alpha in coefs_df.index:\n",
    "        if coefs_df.loc[alpha, col] == 0:\n",
    "            alpha_zero[col] = alpha\n",
    "            break\n",
    "alpha_zero = sorted(alpha_zero.items(), key=lambda x: x[1], reverse=True)\n",
    "alpha_zero"
   ]
  },
  {
   "cell_type": "code",
   "execution_count": 10,
   "metadata": {},
   "outputs": [],
   "source": [
    "# Select the top 40 features\n",
    "top_features = [item[0] for item in alpha_zero[:40]]"
   ]
  },
  {
   "cell_type": "code",
   "execution_count": 11,
   "metadata": {},
   "outputs": [],
   "source": [
    "# Only use selected 40 features\n",
    "X_after_FS = X[top_features].values\n",
    "# Split train dataset into 80% train and 20% test \n",
    "X_train, X_test, y_train, y_test =train_test_split(X_after_FS, Y, train_size=0.8, test_size=0.2, random_state=42)"
   ]
  },
  {
   "cell_type": "code",
   "execution_count": 12,
   "metadata": {},
   "outputs": [],
   "source": [
    "# Find the alpha which gives the lowest RMSE \n",
    "alphas_lasso = np.logspace(-8, -6, 20)\n",
    "lasso = Lasso(normalize=True,tol=0.01)\n",
    "\n",
    "dic = {}\n",
    "for alpha in alphas_lasso:\n",
    "    lasso.set_params(alpha=alpha)\n",
    "    rmse = np.sqrt(-ms.cross_val_score(lasso, X_train, y_train, \n",
    "                      scoring=\"neg_mean_squared_error\",cv = 3))\n",
    "    dic[alpha] = mean(rmse)\n",
    "\n",
    "# Store alpha and RMSE in a dataframe\n",
    "alpha_rmse = pd.DataFrame.from_dict(dic, orient='index', columns = ['RMSE']).reset_index()"
   ]
  },
  {
   "cell_type": "code",
   "execution_count": 13,
   "metadata": {},
   "outputs": [
    {
     "data": {
      "text/plain": [
       "Text(0, 0.5, 'RMSE')"
      ]
     },
     "execution_count": 13,
     "metadata": {},
     "output_type": "execute_result"
    },
    {
     "data": {
      "image/png": "[encoded data removed]",
      "text/plain": [
       "<Figure size 432x288 with 1 Axes>"
      ]
     },
     "metadata": {
      "needs_background": "light"
     },
     "output_type": "display_data"
    }
   ],
   "source": [
    "alpha_rmse.plot(x = \"index\", y = \"RMSE\")\n",
    "plt.xlabel(\"Alpha\")\n",
    "plt.ylabel(\"RMSE\")"
   ]
  },
  {
   "cell_type": "code",
   "execution_count": 14,
   "metadata": {},
   "outputs": [
    {
     "data": {
      "text/plain": [
       "3.792690190732254e-07"
      ]
     },
     "execution_count": 14,
     "metadata": {},
     "output_type": "execute_result"
    }
   ],
   "source": [
    "# Find the optimal alpha\n",
    "alpha_optimal = alpha_rmse.sort_values(by='RMSE').iloc[0,0]\n",
    "alpha_optimal"
   ]
  },
  {
   "cell_type": "code",
   "execution_count": 15,
   "metadata": {},
   "outputs": [
    {
     "name": "stdout",
     "output_type": "stream",
     "text": [
      "Wall time: 3.17 s\n"
     ]
    },
    {
     "data": {
      "text/plain": [
       "Lasso(alpha=3.792690190732254e-07, copy_X=True, fit_intercept=True,\n",
       "      max_iter=1000, normalize=True, positive=False, precompute=False,\n",
       "      random_state=None, selection='cyclic', tol=0.0001, warm_start=False)"
      ]
     },
     "execution_count": 15,
     "metadata": {},
     "output_type": "execute_result"
    }
   ],
   "source": [
    "# Using the optimal alpha to tit the Lasso model on 80% train dataset\n",
    "lasso = Lasso(normalize=True,alpha = alpha_optimal)\n",
    "%time lasso.fit(X_train,y_train)"
   ]
  },
  {
   "cell_type": "code",
   "execution_count": 16,
   "metadata": {},
   "outputs": [
    {
     "data": {
      "text/plain": [
       "['lasso.jbl']"
      ]
     },
     "execution_count": 16,
     "metadata": {},
     "output_type": "execute_result"
    }
   ],
   "source": [
    "# Save the model\n",
    "joblib.dump(lasso, 'lasso.jbl') "
   ]
  },
  {
   "cell_type": "code",
   "execution_count": 17,
   "metadata": {},
   "outputs": [
    {
     "name": "stdout",
     "output_type": "stream",
     "text": [
      "Training score for train dataset is 0.332.\n",
      "Testing score for train dataset is 0.332.\n"
     ]
    }
   ],
   "source": [
    "print('Training score for train dataset is %.3f.' %(lasso.score(X_train,y_train)))\n",
    "print('Testing score for train dataset is %.3f.' %(lasso.score(X_test,y_test)))"
   ]
  },
  {
   "cell_type": "markdown",
   "metadata": {},
   "source": [
    "### Lasso Performance on Orignal Test Dataset"
   ]
  },
  {
   "cell_type": "code",
   "execution_count": 18,
   "metadata": {},
   "outputs": [
    {
     "data": {
      "text/plain": [
       "Lasso(alpha=3.792690190732254e-07, copy_X=True, fit_intercept=True,\n",
       "      max_iter=1000, normalize=True, positive=False, precompute=False,\n",
       "      random_state=None, selection='cyclic', tol=0.0001, warm_start=False)"
      ]
     },
     "execution_count": 18,
     "metadata": {},
     "output_type": "execute_result"
    }
   ],
   "source": [
    "# Load saved Lasso model\n",
    "lasso_saved = joblib.load('lasso.jbl') \n",
    "lasso_saved"
   ]
  },
  {
   "cell_type": "code",
   "execution_count": 19,
   "metadata": {},
   "outputs": [
    {
     "name": "stdout",
     "output_type": "stream",
     "text": [
      "R2 score for the original test dataset using Lasso is 0.333. This is consistent with the train dataset performance.\n"
     ]
    }
   ],
   "source": [
    "print('R2 score for the original test dataset using Lasso is %.3f. This is consistent with the train dataset performance.'\\\n",
    "      %(lasso_saved.score(test_X[top_features],test_Y)))"
   ]
  },
  {
   "cell_type": "markdown",
   "metadata": {},
   "source": [
    "## Tree Based Models"
   ]
  },
  {
   "cell_type": "code",
   "execution_count": 20,
   "metadata": {},
   "outputs": [],
   "source": [
    "# Split the target and features for train data\n",
    "X = Top200.drop(['start_station_checkout_counts','Percent_usage','start_station_checkin_counts'],axis = 1)\n",
    "Y = Top200.start_station_checkout_counts"
   ]
  },
  {
   "cell_type": "code",
   "execution_count": 21,
   "metadata": {},
   "outputs": [],
   "source": [
    "# Split the target and teatures for test data\n",
    "test_X = Top200_test.drop(['start_station_checkout_counts','Percent_usage','start_station_checkin_counts'],axis = 1)\n",
    "test_Y = Top200_test.start_station_checkout_counts"
   ]
  },
  {
   "cell_type": "code",
   "execution_count": 22,
   "metadata": {},
   "outputs": [],
   "source": [
    "# Split the train data into 80% train and 20% test\n",
    "X_train, X_test, y_train, y_test = train_test_split(X, Y, train_size=0.8, test_size=0.2, random_state=42)"
   ]
  },
  {
   "cell_type": "markdown",
   "metadata": {},
   "source": [
    "### XGBoost"
   ]
  },
  {
   "cell_type": "code",
   "execution_count": 23,
   "metadata": {},
   "outputs": [
    {
     "data": {
      "text/plain": [
       "XGBRegressor(base_score=None, booster=None, colsample_bylevel=None,\n",
       "             colsample_bynode=None, colsample_bytree=None, eta=0.12, gamma=None,\n",
       "             gpu_id=None, importance_type='gain', interaction_constraints=None,\n",
       "             learning_rate=None, max_delta_step=None, max_depth=8,\n",
       "             min_child_weight=None, missing=nan, monotone_constraints=None,\n",
       "             n_estimators=700, n_jobs=6, num_parallel_tree=None,\n",
       "             objective='reg:squarederror', random_state=42, reg_alpha=None,\n",
       "             reg_lambda=None, scale_pos_weight=None, subsample=0.7,\n",
       "             tree_method=None, validate_parameters=False, verbose=1,\n",
       "             verbosity=None)"
      ]
     },
     "execution_count": 23,
     "metadata": {},
     "output_type": "execute_result"
    }
   ],
   "source": [
    "xgb = XGBRegressor()\n",
    "xgb.set_params(subsample=0.7,random_state=42, n_estimators=700,eta=0.12,max_depth = 8,verbose=1,n_jobs=6)"
   ]
  },
  {
   "cell_type": "code",
   "execution_count": 24,
   "metadata": {},
   "outputs": [
    {
     "name": "stdout",
     "output_type": "stream",
     "text": [
      "Wall time: 17min 54s\n"
     ]
    },
    {
     "data": {
      "text/plain": [
       "XGBRegressor(base_score=0.5, booster=None, colsample_bylevel=1,\n",
       "             colsample_bynode=1, colsample_bytree=1, eta=0.12, gamma=0,\n",
       "             gpu_id=-1, importance_type='gain', interaction_constraints=None,\n",
       "             learning_rate=0.119999997, max_delta_step=0, max_depth=8,\n",
       "             min_child_weight=1, missing=nan, monotone_constraints=None,\n",
       "             n_estimators=700, n_jobs=6, num_parallel_tree=1,\n",
       "             objective='reg:squarederror', random_state=42, reg_alpha=0,\n",
       "             reg_lambda=1, scale_pos_weight=1, subsample=0.7, tree_method=None,\n",
       "             validate_parameters=False, verbose=1, verbosity=None)"
      ]
     },
     "execution_count": 24,
     "metadata": {},
     "output_type": "execute_result"
    }
   ],
   "source": [
    "%time xgb.fit(X_train,y_train)"
   ]
  },
  {
   "cell_type": "code",
   "execution_count": 25,
   "metadata": {},
   "outputs": [
    {
     "name": "stdout",
     "output_type": "stream",
     "text": [
      "Training score is 0.818\n",
      "Testing score is 0.773\n"
     ]
    }
   ],
   "source": [
    "print('Training score is %.3f' %(xgb.score(X_train,y_train)))\n",
    "print('Testing score is %.3f' %(xgb.score(X_test,y_test))) "
   ]
  },
  {
   "cell_type": "code",
   "execution_count": 26,
   "metadata": {},
   "outputs": [],
   "source": [
    "# Save the XGB model \n",
    "joblib.dump(xgb, 'xgb.jbl') "
   ]
  },
  {
   "cell_type": "code",
   "execution_count": 27,
   "metadata": {},
   "outputs": [
    {
     "data": {
      "text/plain": [
       "[('cluster', 0.29942653),\n",
       " ('Commute', 0.20857973),\n",
       " ('tot_docks', 0.05829298),\n",
       " ('TAVG', 0.052142713),\n",
       " ('start_hour', 0.048480768),\n",
       " ('start_station_latitude', 0.044043574),\n",
       " ('TMAX', 0.043605287),\n",
       " ('start_station_longitude', 0.03665962),\n",
       " ('start_dayofweek', 0.034858372),\n",
       " ('holidays', 0.029978035),\n",
       " ('PRCP', 0.023447115),\n",
       " ('start_year', 0.021407515),\n",
       " ('start_month', 0.019980138),\n",
       " ('TMIN', 0.013709813),\n",
       " ('Fog', 0.009398764),\n",
       " ('SNWD', 0.00908617),\n",
       " ('Thunder', 0.008697026),\n",
       " ('start_day', 0.008300351),\n",
       " ('AWND', 0.007622611),\n",
       " ('Haze', 0.0070855506),\n",
       " ('Heavy_Fog', 0.006075413),\n",
       " ('Glaze', 0.00457151),\n",
       " ('SNOW', 0.0045504584),\n",
       " ('Hail', 0.0),\n",
       " ('HasPRCP', 0.0),\n",
       " ('HasSNOW', 0.0),\n",
       " ('Isweekday', 0.0)]"
      ]
     },
     "execution_count": 27,
     "metadata": {},
     "output_type": "execute_result"
    }
   ],
   "source": [
    "sorted_importance_xgb = sorted(zip(X_train.columns.values, xgb.feature_importances_), key=lambda t:t[1], reverse=True)\n",
    "sorted_importance_xgb"
   ]
  },
  {
   "cell_type": "code",
   "execution_count": 28,
   "metadata": {},
   "outputs": [
    {
     "data": {
      "image/png": "[encoded data removed]",
      "text/plain": [
       "<Figure size 1080x720 with 1 Axes>"
      ]
     },
     "metadata": {
      "needs_background": "light"
     },
     "output_type": "display_data"
    }
   ],
   "source": [
    "plt.rcParams['figure.figsize'] = (15,10)\n",
    "a, b = zip(*sorted_importance_xgb) # this splits the list of tuples into two lists\n",
    "sns.barplot(x ='feature_name',y ='importance_score', data = pd.DataFrame({'feature_name':a, 'importance_score':b}),\\\n",
    "            palette='husl')\n",
    "plt.title('Feature Importance Plot for XGBoost Model', fontsize = 18)\n",
    "plt.xlabel('Features',fontsize = 15)\n",
    "plt.ylabel('Importance Score',fontsize = 15)\n",
    "plt.yticks(fontsize = 12)\n",
    "plt.xticks(rotation = 90,fontsize = 12);"
   ]
  },
  {
   "cell_type": "code",
   "execution_count": 29,
   "metadata": {},
   "outputs": [],
   "source": [
    "# grid_params = {'max_depth': range(4,8,3),\n",
    "#                'eta':np.linspace(0.02,0.1,5)}\n",
    "# grid_search_xgb = GridSearchCV(xgb, grid_params, cv = 3)\n",
    "# %time grid_search_xgb.fit(X_train,y_train)"
   ]
  },
  {
   "cell_type": "code",
   "execution_count": 30,
   "metadata": {},
   "outputs": [],
   "source": [
    "# grid_search_xgb.best_params_"
   ]
  },
  {
   "cell_type": "code",
   "execution_count": 31,
   "metadata": {},
   "outputs": [],
   "source": [
    "# grid_search_xgb.score(X_train,y_train)"
   ]
  },
  {
   "cell_type": "code",
   "execution_count": 32,
   "metadata": {},
   "outputs": [],
   "source": [
    "# grid_search_xgb.score(X_test,y_test)"
   ]
  },
  {
   "cell_type": "markdown",
   "metadata": {},
   "source": [
    "### XGBoost Performance on Original Test Dataset"
   ]
  },
  {
   "cell_type": "code",
   "execution_count": 33,
   "metadata": {},
   "outputs": [],
   "source": [
    "# Load the saved XGBoost model \n",
    "xgb_saved = joblib.load('xgb.jbl') "
   ]
  },
  {
   "cell_type": "code",
   "execution_count": 34,
   "metadata": {},
   "outputs": [
    {
     "name": "stdout",
     "output_type": "stream",
     "text": [
      "R2 score for the original test dataset using XGBoost is 0.800. This is consistent with the train dataset performance.\n"
     ]
    }
   ],
   "source": [
    "print('R2 score for the original test dataset using XGBoost is %.3f. This is consistent with the train dataset performance.'\\\n",
    "      %(xgb_saved.score(test_X,test_Y)))"
   ]
  },
  {
   "cell_type": "markdown",
   "metadata": {},
   "source": [
    "## Gradient Boosting"
   ]
  },
  {
   "cell_type": "code",
   "execution_count": 35,
   "metadata": {},
   "outputs": [
    {
     "name": "stdout",
     "output_type": "stream",
     "text": [
      "      Iter       Train Loss      OOB Improve   Remaining Time \n",
      "         1         143.9377           2.6722           37.10m\n",
      "         2         142.9192           2.5946           35.68m\n",
      "         3         139.4567           2.3852           35.22m\n",
      "         4         137.9073           2.3248           35.09m\n",
      "         5         135.0912           2.2077           34.89m\n",
      "         6         133.6123           2.0570           34.82m\n",
      "         7         131.4229           1.8947           34.78m\n",
      "         8         128.9552           1.8830           34.68m\n",
      "         9         127.4439           1.6859           34.67m\n",
      "        10         125.7866           1.6701           34.60m\n",
      "        20         112.6265           1.0252           34.41m\n",
      "        30         104.9858           0.7934           33.91m\n",
      "        40          99.8350           0.4755           33.41m\n",
      "        50          95.0234           0.4165           32.99m\n",
      "        60          92.3031           0.2831           32.58m\n",
      "        70          89.7379           0.3250           32.17m\n",
      "        80          88.0572           0.2032           31.78m\n",
      "        90          85.8709           0.1834           31.39m\n",
      "       100          84.9430           0.1771           31.06m\n",
      "       200          76.6736           0.1220           27.43m\n",
      "       300          72.6210           0.0601           23.95m\n",
      "       400          69.4717           0.0108           20.49m\n",
      "       500          67.0642           0.0131           17.07m\n",
      "       600          65.4418           0.0105           13.67m\n",
      "       700          63.6566           0.0055           10.25m\n",
      "       800          62.4079           0.0113            6.83m\n",
      "       900          61.3926           0.0062            3.42m\n",
      "      1000          59.7740           0.0192            0.00s\n",
      "Wall time: 34min 9s\n"
     ]
    },
    {
     "data": {
      "text/plain": [
       "GradientBoostingRegressor(alpha=0.9, ccp_alpha=0.0, criterion='friedman_mse',\n",
       "                          init=None, learning_rate=0.03, loss='ls', max_depth=4,\n",
       "                          max_features=None, max_leaf_nodes=None,\n",
       "                          min_impurity_decrease=0.01, min_impurity_split=None,\n",
       "                          min_samples_leaf=1, min_samples_split=2,\n",
       "                          min_weight_fraction_leaf=0.0, n_estimators=1000,\n",
       "                          n_iter_no_change=None, presort='deprecated',\n",
       "                          random_state=42, subsample=0.7, tol=0.0001,\n",
       "                          validation_fraction=0.1, verbose=1, warm_start=False)"
      ]
     },
     "execution_count": 35,
     "metadata": {},
     "output_type": "execute_result"
    }
   ],
   "source": [
    "gbm = GradientBoostingRegressor()\n",
    "gbm.set_params(learning_rate=0.03, n_estimators=1000, subsample=0.7, loss='ls', max_depth=4,\\\n",
    "               min_impurity_decrease=0.01,random_state = 42,verbose=1)\n",
    "%time gbm.fit(X_train,y_train)"
   ]
  },
  {
   "cell_type": "code",
   "execution_count": 36,
   "metadata": {},
   "outputs": [
    {
     "name": "stdout",
     "output_type": "stream",
     "text": [
      "Training score is 0.592\n",
      "Testing score is 0.587\n"
     ]
    }
   ],
   "source": [
    "print('Training score is %.3f' %gbm.score(X_train,y_train))\n",
    "print('Testing score is %.3f' %gbm.score(X_test,y_test))"
   ]
  },
  {
   "cell_type": "code",
   "execution_count": 37,
   "metadata": {},
   "outputs": [],
   "source": [
    "# Save the GBM model\n",
    "joblib.dump(gbm, 'gbm.jbl') "
   ]
  },
  {
   "cell_type": "code",
   "execution_count": 38,
   "metadata": {},
   "outputs": [
    {
     "data": {
      "text/plain": [
       "[('Commute', 0.21381331083887248),\n",
       " ('start_hour', 0.18447505172582973),\n",
       " ('cluster', 0.17578983611631835),\n",
       " ('tot_docks', 0.09831682010161381),\n",
       " ('start_station_longitude', 0.06788351376523521),\n",
       " ('start_station_latitude', 0.06542765671690477),\n",
       " ('TMAX', 0.055854437042659896),\n",
       " ('TAVG', 0.05442652031854743),\n",
       " ('start_dayofweek', 0.022488202439492004),\n",
       " ('start_month', 0.013449346114952966),\n",
       " ('PRCP', 0.012791416554845423),\n",
       " ('Isweekday', 0.011905142271377213),\n",
       " ('TMIN', 0.010069259741643004),\n",
       " ('start_year', 0.006363288066507209),\n",
       " ('start_day', 0.0033721169751360957),\n",
       " ('holidays', 0.0015824953111767141),\n",
       " ('AWND', 0.000899288680303301),\n",
       " ('HasPRCP', 0.0005591040389281483),\n",
       " ('SNWD', 0.00017861416590652667),\n",
       " ('Fog', 0.00013740367452008838),\n",
       " ('Haze', 0.00011029794975500406),\n",
       " ('Thunder', 5.8281043263709794e-05),\n",
       " ('Heavy_Fog', 3.808744449854447e-05),\n",
       " ('SNOW', 1.0508474630213863e-05),\n",
       " ('HasSNOW', 4.2708224894526224e-10),\n",
       " ('Hail', 0.0),\n",
       " ('Glaze', 0.0)]"
      ]
     },
     "execution_count": 38,
     "metadata": {},
     "output_type": "execute_result"
    }
   ],
   "source": [
    "sorted_importance_gbm = sorted(zip(X_train.columns.values, gbm.feature_importances_), key=lambda t:t[1], reverse=True)\n",
    "sorted_importance_gbm"
   ]
  },
  {
   "cell_type": "code",
   "execution_count": 39,
   "metadata": {},
   "outputs": [
    {
     "data": {
      "text/plain": [
       "Text(0.5, 1.0, 'Feature Importance Plot for GBM model')"
      ]
     },
     "execution_count": 39,
     "metadata": {},
     "output_type": "execute_result"
    },
    {
     "data": {
      "image/png": "[encoded data removed]",
      "text/plain": [
       "<Figure size 1296x864 with 1 Axes>"
      ]
     },
     "metadata": {
      "needs_background": "light"
     },
     "output_type": "display_data"
    }
   ],
   "source": [
    "plt.rcParams['figure.figsize'] = (18,12)\n",
    "a, b = zip(*sorted_importance_gbm) # this splits the list of tuples into two lists\n",
    "pd.DataFrame({'feature_name':a, 'importance_score':b}).plot.bar(x='feature_name',y='importance_score', legend=None)\n",
    "plt.title('Feature Importance Plot for GBM model')"
   ]
  },
  {
   "cell_type": "markdown",
   "metadata": {},
   "source": [
    "- Very Similar Feature Importance as XGBoost "
   ]
  },
  {
   "cell_type": "code",
   "execution_count": 40,
   "metadata": {},
   "outputs": [],
   "source": [
    "# grid_params = {'max_depth': range(4,8,3),\n",
    "#                'learning_rate':np.linspace(0.02,0.12,3),\n",
    "#               \"min_samples_split\": np.linspace(start=5, stop=20, num=4, dtype=int)}\n",
    "# grid_search_gbm = GridSearchCV(gbm, grid_params, cv = 3)\n",
    "# %time grid_search_gbm.fit(X_train,y_train)"
   ]
  },
  {
   "cell_type": "code",
   "execution_count": 41,
   "metadata": {},
   "outputs": [],
   "source": [
    "# grid_search_gbm.best_param_"
   ]
  },
  {
   "cell_type": "markdown",
   "metadata": {},
   "source": [
    "### Performance on the Orginal Test Dataset "
   ]
  },
  {
   "cell_type": "code",
   "execution_count": 42,
   "metadata": {},
   "outputs": [],
   "source": [
    "# Load the saved GBM Model \n",
    "gbm_saved =  joblib.load('gbm.jbl') "
   ]
  },
  {
   "cell_type": "code",
   "execution_count": 43,
   "metadata": {},
   "outputs": [
    {
     "name": "stdout",
     "output_type": "stream",
     "text": [
      "R2 score for the original test dataset using GBM is 0.592. This is consistent with the train dataset performance.\n"
     ]
    }
   ],
   "source": [
    "print('R2 score for the original test dataset using GBM is %.3f. This is consistent with the train dataset performance.'\\\n",
    "      %(gbm_saved.score(test_X,test_Y)))"
   ]
  },
  {
   "cell_type": "markdown",
   "metadata": {},
   "source": [
    "## Classification on Turnover Rate"
   ]
  },
  {
   "cell_type": "markdown",
   "metadata": {},
   "source": [
    "## Random Forest"
   ]
  },
  {
   "cell_type": "code",
   "execution_count": 44,
   "metadata": {},
   "outputs": [],
   "source": [
    "# Define a binary classifier High_turnover. \n",
    "# Threshold is set at 0.49, which is the median percent usage for all stations in the training dataset\n",
    "Top200['High_turnover']=[1 if x>0.49 else 0 for x in Top200['Percent_usage']]\n",
    "Top200_test['High_turnover'] = [1 if x>0.49 else 0 for x in Top200_test['Percent_usage']]"
   ]
  },
  {
   "cell_type": "code",
   "execution_count": 45,
   "metadata": {},
   "outputs": [],
   "source": [
    "# Split the target and features for both train and test dataset \n",
    "columns_to_drop = ['High_turnover', 'Percent_usage', 'start_station_checkout_counts', 'start_station_checkin_counts']\n",
    "X_class = Top200.drop(columns_to_drop,axis = 1)\n",
    "Y_class = Top200.High_turnover\n",
    "test_X_class = Top200_test.drop(columns_to_drop,axis = 1)\n",
    "test_Y_class = Top200_test.High_turnover"
   ]
  },
  {
   "cell_type": "code",
   "execution_count": 46,
   "metadata": {},
   "outputs": [],
   "source": [
    "X_train_class, X_test_class, y_train_class, y_test_class = train_test_split(X_class, Y_class, train_size=0.8, test_size=0.2, random_state=42)"
   ]
  },
  {
   "cell_type": "code",
   "execution_count": 47,
   "metadata": {},
   "outputs": [],
   "source": [
    "randomForest = RandomForestClassifier()"
   ]
  },
  {
   "cell_type": "code",
   "execution_count": 48,
   "metadata": {},
   "outputs": [
    {
     "name": "stdout",
     "output_type": "stream",
     "text": [
      "Wall time: 19min 5s\n"
     ]
    },
    {
     "data": {
      "text/plain": [
       "RandomForestClassifier(bootstrap=True, ccp_alpha=0.0, class_weight=None,\n",
       "                       criterion='gini', max_depth=12, max_features=4,\n",
       "                       max_leaf_nodes=None, max_samples=None,\n",
       "                       min_impurity_decrease=0.0, min_impurity_split=None,\n",
       "                       min_samples_leaf=1, min_samples_split=2,\n",
       "                       min_weight_fraction_leaf=0.0, n_estimators=2000,\n",
       "                       n_jobs=6, oob_score=False, random_state=42, verbose=0,\n",
       "                       warm_start=False)"
      ]
     },
     "execution_count": 48,
     "metadata": {},
     "output_type": "execute_result"
    }
   ],
   "source": [
    "randomForest.set_params(random_state=42, max_features=4,max_depth = 12, n_estimators=2000,n_jobs=6)\n",
    "%time randomForest.fit(X_train_class, y_train_class)  "
   ]
  },
  {
   "cell_type": "code",
   "execution_count": 49,
   "metadata": {},
   "outputs": [
    {
     "name": "stdout",
     "output_type": "stream",
     "text": [
      "RandomForest train test score is 0.795\n",
      "RandomForest test test score is 0.790\n"
     ]
    }
   ],
   "source": [
    "print('RandomForest train test score is %.3f' %(randomForest.score(X_train_class, y_train_class)))\n",
    "print('RandomForest test test score is %.3f' %(randomForest.score(X_test_class, y_test_class)))"
   ]
  },
  {
   "cell_type": "code",
   "execution_count": 50,
   "metadata": {},
   "outputs": [],
   "source": [
    "# Save randomForest model\n",
    "joblib.dump(randomForest, 'randomForest.jbl') "
   ]
  },
  {
   "cell_type": "code",
   "execution_count": 51,
   "metadata": {},
   "outputs": [
    {
     "data": {
      "text/plain": [
       "[('Commute', 0.23698151260667122),\n",
       " ('start_hour', 0.16285627878890155),\n",
       " ('TAVG', 0.08862843159333453),\n",
       " ('TMAX', 0.07600662632712221),\n",
       " ('cluster', 0.07382543337529048),\n",
       " ('TMIN', 0.06855465181277448),\n",
       " ('tot_docks', 0.06463245632814975),\n",
       " ('start_station_latitude', 0.050019014228658405),\n",
       " ('start_station_longitude', 0.04541591996090587),\n",
       " ('start_month', 0.04325516929015035),\n",
       " ('PRCP', 0.019779964179893257),\n",
       " ('start_dayofweek', 0.013477261046433545),\n",
       " ('AWND', 0.01168614162692448),\n",
       " ('Isweekday', 0.009756811529338966),\n",
       " ('start_day', 0.006953334547190676),\n",
       " ('start_year', 0.006365490744015255),\n",
       " ('HasPRCP', 0.0058494557311900945),\n",
       " ('Fog', 0.00421240318017929),\n",
       " ('SNWD', 0.0031940228198886664),\n",
       " ('holidays', 0.002888971864070623),\n",
       " ('SNOW', 0.002009414160343416),\n",
       " ('HasSNOW', 0.0014451733047971852),\n",
       " ('Haze', 0.0009996550219501135),\n",
       " ('Thunder', 0.0005593183581589149),\n",
       " ('Heavy_Fog', 0.000490901592941433),\n",
       " ('Glaze', 0.00012553906738089094),\n",
       " ('Hail', 3.064691334418989e-05)]"
      ]
     },
     "execution_count": 51,
     "metadata": {},
     "output_type": "execute_result"
    }
   ],
   "source": [
    "sorted_importance = sorted(zip(X_class.columns.values, randomForest.feature_importances_), key=lambda t:t[1], reverse=True)\n",
    "sorted_importance"
   ]
  },
  {
   "cell_type": "code",
   "execution_count": 52,
   "metadata": {},
   "outputs": [
    {
     "data": {
      "image/png": "[encoded data removed]",
      "text/plain": [
       "<Figure size 1080x720 with 1 Axes>"
      ]
     },
     "metadata": {
      "needs_background": "light"
     },
     "output_type": "display_data"
    }
   ],
   "source": [
    "plt.rcParams['figure.figsize'] = (15,10)\n",
    "a, b = zip(*sorted_importance) \n",
    "sns.barplot(x = 'feature_name', y = 'importance_score', data = pd.DataFrame({'feature_name':a, 'importance_score':b}),\\\n",
    "            palette='husl')\n",
    "plt.title('Feature Importance Plot of Random Forest Classification Model', fontsize = 18)\n",
    "plt.xlabel('Features',fontsize = 15)\n",
    "plt.ylabel('Importance Score',fontsize = 15)\n",
    "plt.yticks(fontsize = 12)\n",
    "plt.xticks(rotation = 90,fontsize = 12);"
   ]
  },
  {
   "cell_type": "code",
   "execution_count": 53,
   "metadata": {},
   "outputs": [],
   "source": [
    "# grid_params = {'max_features':np,linspace(2,6,3),\n",
    "#                'n_estimators':np.linspace(800,1200,5)}\n",
    "# grid_search_randomForest = GridSearchCV(randomForest, grid_params, cv = 5)\n",
    "# %time grid_search_randomForest.fit(X_train_class,y_train_class)"
   ]
  },
  {
   "cell_type": "markdown",
   "metadata": {},
   "source": [
    "### Performance on the Orginal Test Dataset "
   ]
  },
  {
   "cell_type": "code",
   "execution_count": 54,
   "metadata": {},
   "outputs": [],
   "source": [
    "# Load saved randomForest model\n",
    "randomForest_saved = joblib.load('randomForest.jbl')"
   ]
  },
  {
   "cell_type": "code",
   "execution_count": 55,
   "metadata": {},
   "outputs": [
    {
     "name": "stderr",
     "output_type": "stream",
     "text": [
      "[Parallel(n_jobs=6)]: Using backend ThreadingBackend with 6 concurrent workers.\n",
      "[Parallel(n_jobs=6)]: Done  38 tasks      | elapsed:    2.2s\n",
      "[Parallel(n_jobs=6)]: Done 188 tasks      | elapsed:    9.9s\n",
      "[Parallel(n_jobs=6)]: Done 438 tasks      | elapsed:   22.7s\n",
      "[Parallel(n_jobs=6)]: Done 788 tasks      | elapsed:   40.6s\n",
      "[Parallel(n_jobs=6)]: Done 1238 tasks      | elapsed:  1.1min\n",
      "[Parallel(n_jobs=6)]: Done 1788 tasks      | elapsed:  1.5min\n",
      "[Parallel(n_jobs=6)]: Done 2000 out of 2000 | elapsed:  1.7min finished\n"
     ]
    },
    {
     "name": "stdout",
     "output_type": "stream",
     "text": [
      "Classification accuracy for the original test dataset using RandomForest is 0.792\n",
      "This is consistent with the train dataset performance.\n"
     ]
    }
   ],
   "source": [
    "print('Classification accuracy for the original test dataset using RandomForest is %.3f'\\\n",
    "      %(randomForest_saved.score(test_X_class,test_Y_class)))\n",
    "print('This is consistent with the train dataset performance.')"
   ]
  }
 ],
 "metadata": {
  "kernelspec": {
   "display_name": "Python 3",
   "language": "python",
   "name": "python3"
  },
  "language_info": {
   "codemirror_mode": {
    "name": "ipython",
    "version": 3
   },
   "file_extension": ".py",
   "mimetype": "text/x-python",
   "name": "python",
   "nbconvert_exporter": "python",
   "pygments_lexer": "ipython3",
   "version": "3.7.4"
  }
 },
 "nbformat": 4,
 "nbformat_minor": 2
}
