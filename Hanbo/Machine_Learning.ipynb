{
 "cells": [
  {
   "cell_type": "code",
   "execution_count": 1,
   "metadata": {},
   "outputs": [],
   "source": [
    "import pandas as pd\n",
    "import numpy as np\n",
    "from sklearn.model_selection import train_test_split, GridSearchCV\n",
    "from sklearn.linear_model import LinearRegression, Lasso, LogisticRegression\n",
    "from sklearn.cluster import KMeans\n",
    "from sklearn.preprocessing import LabelEncoder\n",
    "from sklearn.ensemble import GradientBoostingRegressor,RandomForestClassifier\n",
    "from xgboost import XGBRegressor\n",
    "from sklearn import ensemble\n",
    "import matplotlib.pyplot as plt\n",
    "%matplotlib inline\n",
    "import seaborn as sns"
   ]
  },
  {
   "cell_type": "code",
   "execution_count": 2,
   "metadata": {},
   "outputs": [
    {
     "name": "stderr",
     "output_type": "stream",
     "text": [
      "/Users/hanboshao/opt/anaconda3/lib/python3.7/site-packages/numpy/lib/arraysetops.py:569: FutureWarning: elementwise comparison failed; returning scalar instead, but in the future will perform elementwise comparison\n",
      "  mask |= (ar1 == a)\n"
     ]
    }
   ],
   "source": [
    "Top200 = pd.read_csv('./CitiBikeData/Top200_Stations.csv',index_col=0)"
   ]
  },
  {
   "cell_type": "code",
   "execution_count": 3,
   "metadata": {},
   "outputs": [
    {
     "data": {
      "text/html": [
       "<div>\n",
       "<style scoped>\n",
       "    .dataframe tbody tr th:only-of-type {\n",
       "        vertical-align: middle;\n",
       "    }\n",
       "\n",
       "    .dataframe tbody tr th {\n",
       "        vertical-align: top;\n",
       "    }\n",
       "\n",
       "    .dataframe thead th {\n",
       "        text-align: right;\n",
       "    }\n",
       "</style>\n",
       "<table border=\"1\" class=\"dataframe\">\n",
       "  <thead>\n",
       "    <tr style=\"text-align: right;\">\n",
       "      <th></th>\n",
       "      <th>start_station_latitude</th>\n",
       "      <th>start_station_longitude</th>\n",
       "      <th>start_hour</th>\n",
       "      <th>start_year</th>\n",
       "      <th>start_month</th>\n",
       "      <th>start_day</th>\n",
       "      <th>start_dayofweek</th>\n",
       "      <th>start_station_checkout_counts</th>\n",
       "      <th>start_station_checkin_counts</th>\n",
       "      <th>AWND</th>\n",
       "      <th>...</th>\n",
       "      <th>Haze</th>\n",
       "      <th>TAVG</th>\n",
       "      <th>HasPRCP</th>\n",
       "      <th>HasSNOW</th>\n",
       "      <th>tot_docks</th>\n",
       "      <th>Percent_usage</th>\n",
       "      <th>Isweekday</th>\n",
       "      <th>holidays</th>\n",
       "      <th>Commute</th>\n",
       "      <th>cluster</th>\n",
       "    </tr>\n",
       "  </thead>\n",
       "  <tbody>\n",
       "    <tr>\n",
       "      <td>0</td>\n",
       "      <td>40.751873</td>\n",
       "      <td>-73.977706</td>\n",
       "      <td>18</td>\n",
       "      <td>2017</td>\n",
       "      <td>1</td>\n",
       "      <td>19</td>\n",
       "      <td>4</td>\n",
       "      <td>92.0</td>\n",
       "      <td>72.0</td>\n",
       "      <td>3.58</td>\n",
       "      <td>...</td>\n",
       "      <td>0.0</td>\n",
       "      <td>44.0</td>\n",
       "      <td>0</td>\n",
       "      <td>0</td>\n",
       "      <td>61.0</td>\n",
       "      <td>2.688525</td>\n",
       "      <td>1</td>\n",
       "      <td>0</td>\n",
       "      <td>1</td>\n",
       "      <td>1.0</td>\n",
       "    </tr>\n",
       "    <tr>\n",
       "      <td>2</td>\n",
       "      <td>40.722174</td>\n",
       "      <td>-73.983688</td>\n",
       "      <td>8</td>\n",
       "      <td>2017</td>\n",
       "      <td>1</td>\n",
       "      <td>4</td>\n",
       "      <td>3</td>\n",
       "      <td>17.0</td>\n",
       "      <td>3.0</td>\n",
       "      <td>8.05</td>\n",
       "      <td>...</td>\n",
       "      <td>1.0</td>\n",
       "      <td>43.0</td>\n",
       "      <td>0</td>\n",
       "      <td>0</td>\n",
       "      <td>37.0</td>\n",
       "      <td>0.540541</td>\n",
       "      <td>1</td>\n",
       "      <td>0</td>\n",
       "      <td>1</td>\n",
       "      <td>2.0</td>\n",
       "    </tr>\n",
       "    <tr>\n",
       "      <td>3</td>\n",
       "      <td>40.732233</td>\n",
       "      <td>-73.988900</td>\n",
       "      <td>20</td>\n",
       "      <td>2017</td>\n",
       "      <td>1</td>\n",
       "      <td>13</td>\n",
       "      <td>5</td>\n",
       "      <td>6.0</td>\n",
       "      <td>4.0</td>\n",
       "      <td>7.16</td>\n",
       "      <td>...</td>\n",
       "      <td>0.0</td>\n",
       "      <td>47.0</td>\n",
       "      <td>0</td>\n",
       "      <td>0</td>\n",
       "      <td>35.0</td>\n",
       "      <td>0.285714</td>\n",
       "      <td>1</td>\n",
       "      <td>0</td>\n",
       "      <td>0</td>\n",
       "      <td>2.0</td>\n",
       "    </tr>\n",
       "    <tr>\n",
       "      <td>4</td>\n",
       "      <td>40.755942</td>\n",
       "      <td>-74.002116</td>\n",
       "      <td>18</td>\n",
       "      <td>2017</td>\n",
       "      <td>1</td>\n",
       "      <td>25</td>\n",
       "      <td>3</td>\n",
       "      <td>8.0</td>\n",
       "      <td>3.0</td>\n",
       "      <td>6.71</td>\n",
       "      <td>...</td>\n",
       "      <td>0.0</td>\n",
       "      <td>43.5</td>\n",
       "      <td>0</td>\n",
       "      <td>0</td>\n",
       "      <td>39.0</td>\n",
       "      <td>0.282051</td>\n",
       "      <td>1</td>\n",
       "      <td>0</td>\n",
       "      <td>1</td>\n",
       "      <td>2.0</td>\n",
       "    </tr>\n",
       "    <tr>\n",
       "      <td>5</td>\n",
       "      <td>40.730473</td>\n",
       "      <td>-73.986724</td>\n",
       "      <td>6</td>\n",
       "      <td>2017</td>\n",
       "      <td>1</td>\n",
       "      <td>25</td>\n",
       "      <td>3</td>\n",
       "      <td>5.0</td>\n",
       "      <td>1.0</td>\n",
       "      <td>6.71</td>\n",
       "      <td>...</td>\n",
       "      <td>0.0</td>\n",
       "      <td>43.5</td>\n",
       "      <td>0</td>\n",
       "      <td>0</td>\n",
       "      <td>39.0</td>\n",
       "      <td>0.153846</td>\n",
       "      <td>1</td>\n",
       "      <td>0</td>\n",
       "      <td>0</td>\n",
       "      <td>2.0</td>\n",
       "    </tr>\n",
       "  </tbody>\n",
       "</table>\n",
       "<p>5 rows × 30 columns</p>\n",
       "</div>"
      ],
      "text/plain": [
       "   start_station_latitude  start_station_longitude  start_hour  start_year  \\\n",
       "0               40.751873               -73.977706          18        2017   \n",
       "2               40.722174               -73.983688           8        2017   \n",
       "3               40.732233               -73.988900          20        2017   \n",
       "4               40.755942               -74.002116          18        2017   \n",
       "5               40.730473               -73.986724           6        2017   \n",
       "\n",
       "   start_month  start_day  start_dayofweek  start_station_checkout_counts  \\\n",
       "0            1         19                4                           92.0   \n",
       "2            1          4                3                           17.0   \n",
       "3            1         13                5                            6.0   \n",
       "4            1         25                3                            8.0   \n",
       "5            1         25                3                            5.0   \n",
       "\n",
       "   start_station_checkin_counts  AWND  ...  Haze  TAVG  HasPRCP  HasSNOW  \\\n",
       "0                          72.0  3.58  ...   0.0  44.0        0        0   \n",
       "2                           3.0  8.05  ...   1.0  43.0        0        0   \n",
       "3                           4.0  7.16  ...   0.0  47.0        0        0   \n",
       "4                           3.0  6.71  ...   0.0  43.5        0        0   \n",
       "5                           1.0  6.71  ...   0.0  43.5        0        0   \n",
       "\n",
       "   tot_docks  Percent_usage  Isweekday  holidays  Commute  cluster  \n",
       "0       61.0       2.688525          1         0        1      1.0  \n",
       "2       37.0       0.540541          1         0        1      2.0  \n",
       "3       35.0       0.285714          1         0        0      2.0  \n",
       "4       39.0       0.282051          1         0        1      2.0  \n",
       "5       39.0       0.153846          1         0        0      2.0  \n",
       "\n",
       "[5 rows x 30 columns]"
      ]
     },
     "execution_count": 3,
     "metadata": {},
     "output_type": "execute_result"
    }
   ],
   "source": [
    "Top200.head()"
   ]
  },
  {
   "cell_type": "markdown",
   "metadata": {},
   "source": [
    "## Lasso Model "
   ]
  },
  {
   "cell_type": "code",
   "execution_count": 4,
   "metadata": {},
   "outputs": [],
   "source": [
    "# X = Top200.drop('start_station_checkout_counts',axis = 1)\n",
    "# Y = Top200.start_station_checkout_counts"
   ]
  },
  {
   "cell_type": "code",
   "execution_count": 5,
   "metadata": {},
   "outputs": [],
   "source": [
    "# X_train, X_test, y_train, y_test = train_test_split(X, Y, train_size=0.8, test_size=0.2, random_state=42)"
   ]
  },
  {
   "cell_type": "code",
   "execution_count": 6,
   "metadata": {},
   "outputs": [],
   "source": [
    "# lasso = Lasso(normalize=True,tol=0.01)\n",
    "# alphas = np.logspace(-8,-2,100)\n",
    "\n",
    "# alpha_coefs = []\n",
    "# for alpha in alphas:\n",
    "#     lasso.set_params(alpha=alpha)\n",
    "#     lasso.fit(X, Y)\n",
    "#     alpha_coefs.append(lasso.coef_)\n",
    "    \n",
    "# # the order of predictors to become zero coefficient\n",
    "# coefs_df = pd.DataFrame(alpha_coefs, index=alphas, columns = list(X.columns))"
   ]
  },
  {
   "cell_type": "code",
   "execution_count": 7,
   "metadata": {},
   "outputs": [],
   "source": [
    "# plt.figure(figsize=(20,10))\n",
    "# for name in coefs_df.columns:\n",
    "#     plt.plot(coefs_df.index, coefs_df[name], label=name)\n",
    "# plt.xlabel(r'hyperparameter $\\lambda$')\n",
    "# plt.ylabel(r'slope values')\n",
    "# plt.legend(loc=1)   "
   ]
  },
  {
   "cell_type": "code",
   "execution_count": 8,
   "metadata": {},
   "outputs": [],
   "source": [
    "# ### find the alpha where coefficient becomes zero ###\n",
    "# alpha_zero = {}\n",
    "# for col in coefs_df.columns:\n",
    "#     for alpha in coefs_df.index:\n",
    "#         if coefs_df.loc[alpha, col] == 0:\n",
    "#             alpha_zero[col] = alpha\n",
    "#             break\n",
    "# alpha_zero = sorted(alpha_zero.items(), key=lambda x: x[1], reverse=True)\n",
    "# alpha_zero"
   ]
  },
  {
   "cell_type": "markdown",
   "metadata": {},
   "source": [
    "## Tree Based Models"
   ]
  },
  {
   "cell_type": "code",
   "execution_count": 8,
   "metadata": {},
   "outputs": [],
   "source": [
    "X = Top200.drop(['start_station_checkout_counts','Percent_usage','start_station_checkin_counts'],axis = 1)\n",
    "Y = Top200.start_station_checkout_counts"
   ]
  },
  {
   "cell_type": "code",
   "execution_count": 9,
   "metadata": {},
   "outputs": [],
   "source": [
    "X_train, X_test, y_train, y_test = train_test_split(X, Y, train_size=0.8, test_size=0.2, random_state=42)"
   ]
  },
  {
   "cell_type": "markdown",
   "metadata": {},
   "source": [
    "### XGBoost"
   ]
  },
  {
   "cell_type": "code",
   "execution_count": 6,
   "metadata": {},
   "outputs": [
    {
     "data": {
      "text/plain": [
       "XGBRegressor(base_score=None, booster=None, colsample_bylevel=None,\n",
       "             colsample_bynode=None, colsample_bytree=None, eta=0.1, gamma=None,\n",
       "             gpu_id=None, importance_type='gain', interaction_constraints=None,\n",
       "             learning_rate=None, max_delta_step=None, max_depth=None,\n",
       "             min_child_weight=None, missing=nan, monotone_constraints=None,\n",
       "             n_estimators=1400, n_jobs=6, num_parallel_tree=None,\n",
       "             objective='reg:squarederror', random_state=42, reg_alpha=None,\n",
       "             reg_lambda=None, scale_pos_weight=None, subsample=0.7,\n",
       "             tree_method=None, validate_parameters=False, verbose=1,\n",
       "             verbosity=None)"
      ]
     },
     "execution_count": 6,
     "metadata": {},
     "output_type": "execute_result"
    }
   ],
   "source": [
    "xgb = XGBRegressor()\n",
    "xgb.set_params(subsample=0.7,random_state=42, n_estimators=1400,eta=x0.1,verbose=1,n_jobs=6)"
   ]
  },
  {
   "cell_type": "code",
   "execution_count": 7,
   "metadata": {},
   "outputs": [
    {
     "name": "stdout",
     "output_type": "stream",
     "text": [
      "Wall time: 20min 53s\n"
     ]
    },
    {
     "data": {
      "text/plain": [
       "XGBRegressor(base_score=0.5, booster=None, colsample_bylevel=1,\n",
       "             colsample_bynode=1, colsample_bytree=1, eta=0.1, gamma=0,\n",
       "             gpu_id=-1, importance_type='gain', interaction_constraints=None,\n",
       "             learning_rate=0.100000001, max_delta_step=0, max_depth=6,\n",
       "             min_child_weight=1, missing=nan, monotone_constraints=None,\n",
       "             n_estimators=1400, n_jobs=6, num_parallel_tree=1,\n",
       "             objective='reg:squarederror', random_state=42, reg_alpha=0,\n",
       "             reg_lambda=1, scale_pos_weight=1, subsample=0.7, tree_method=None,\n",
       "             validate_parameters=False, verbose=1, verbosity=None)"
      ]
     },
     "execution_count": 7,
     "metadata": {},
     "output_type": "execute_result"
    }
   ],
   "source": [
    "%time xgb.fit(X_train,y_train)"
   ]
  },
  {
   "cell_type": "code",
   "execution_count": 8,
   "metadata": {},
   "outputs": [
    {
     "name": "stdout",
     "output_type": "stream",
     "text": [
      "Training score is 0.771\n",
      "Testing score is 0.748\n"
     ]
    }
   ],
   "source": [
    "print('Training score is %.3f' %(xgb.score(X_train,y_train)))\n",
    "print('Testing score is %.3f' %(xgb.score(X_test,y_test)))"
   ]
  },
  {
   "cell_type": "code",
   "execution_count": 9,
   "metadata": {},
   "outputs": [
    {
     "data": {
      "text/plain": [
       "[('cluster', 0.2750777),\n",
       " ('Commute', 0.20732637),\n",
       " ('TAVG', 0.06581265),\n",
       " ('tot_docks', 0.059229013),\n",
       " ('start_hour', 0.054961402),\n",
       " ('TMAX', 0.054774337),\n",
       " ('start_station_latitude', 0.042596813),\n",
       " ('start_dayofweek', 0.0371454),\n",
       " ('start_station_longitude', 0.035590254),\n",
       " ('PRCP', 0.023238897),\n",
       " ('start_month', 0.021832677),\n",
       " ('start_year', 0.021341192),\n",
       " ('holidays', 0.021280931),\n",
       " ('TMIN', 0.015480092),\n",
       " ('Heavy_Fog', 0.009845315),\n",
       " ('SNWD', 0.008833904),\n",
       " ('start_day', 0.008224535),\n",
       " ('Thunder', 0.008054789),\n",
       " ('Haze', 0.007094753),\n",
       " ('Fog', 0.007060368),\n",
       " ('AWND', 0.006987707),\n",
       " ('SNOW', 0.0052127233),\n",
       " ('Glaze', 0.002998172),\n",
       " ('Hail', 0.0),\n",
       " ('HasPRCP', 0.0),\n",
       " ('HasSNOW', 0.0),\n",
       " ('Isweekday', 0.0)]"
      ]
     },
     "execution_count": 9,
     "metadata": {},
     "output_type": "execute_result"
    }
   ],
   "source": [
    "sorted_importance_xgb = sorted(zip(X_train.columns.values, xgb.feature_importances_), key=lambda t:t[1], reverse=True)\n",
    "sorted_importance_xgb"
   ]
  },
  {
   "cell_type": "code",
   "execution_count": 10,
   "metadata": {},
   "outputs": [
    {
     "data": {
      "text/plain": [
       "Text(0.5, 1.0, 'Feature Importance Plot for XgBoost Model')"
      ]
     },
     "execution_count": 10,
     "metadata": {},
     "output_type": "execute_result"
    },
    {
     "data": {
      "image/png": "[encoded data removed]",
      "text/plain": [
       "<Figure size 1296x864 with 1 Axes>"
      ]
     },
     "metadata": {
      "needs_background": "light"
     },
     "output_type": "display_data"
    }
   ],
   "source": [
    "plt.rcParams['figure.figsize'] = (18,12)\n",
    "a, b = zip(*sorted_importance_xgb) # this splits the list of tuples into two lists\n",
    "pd.DataFrame({'feature_name':a, 'importance_score':b}).plot.bar(x='feature_name',y='importance_score', legend=None)\n",
    "plt.title('Feature Importance Plot for XgBoost Model')"
   ]
  },
  {
   "cell_type": "code",
   "execution_count": null,
   "metadata": {},
   "outputs": [],
   "source": [
    "# grid_params = {'max_depth': range(4,8,3),\n",
    "#                'eta':np.linspace(0.02,0.1,5)}\n",
    "# grid_search_xgb = GridSearchCV(xgb, grid_params, cv = 3)\n",
    "# %time grid_search_xgb.fit(X_train,y_train)"
   ]
  },
  {
   "cell_type": "code",
   "execution_count": null,
   "metadata": {},
   "outputs": [],
   "source": [
    "# grid_search_xgb.best_params_"
   ]
  },
  {
   "cell_type": "code",
   "execution_count": null,
   "metadata": {},
   "outputs": [],
   "source": [
    "# grid_search_xgb.score(X_train,y_train)"
   ]
  },
  {
   "cell_type": "code",
   "execution_count": null,
   "metadata": {},
   "outputs": [],
   "source": [
    "# grid_search_xgb.score(X_test,y_test)"
   ]
  },
  {
   "cell_type": "markdown",
   "metadata": {},
   "source": [
    "### XGBoost Model For Cluster 0"
   ]
  },
  {
   "cell_type": "code",
   "execution_count": 89,
   "metadata": {},
   "outputs": [],
   "source": [
    "X_0 = Top200.loc[Top200.cluster==1].drop(['start_station_checkout_counts','Percent_usage','start_station_checkin_counts','cluster'],axis = 1)\n",
    "Y_0 = Top200.loc[Top200.cluster==1].start_station_checkout_counts"
   ]
  },
  {
   "cell_type": "code",
   "execution_count": 90,
   "metadata": {},
   "outputs": [],
   "source": [
    "X_train_0, X_test_0, y_train_0, y_test_0 = train_test_split(X_0, Y_0, train_size=0.8, test_size=0.2, random_state=42)"
   ]
  },
  {
   "cell_type": "code",
   "execution_count": 100,
   "metadata": {},
   "outputs": [
    {
     "data": {
      "text/plain": [
       "XGBRegressor(base_score=None, booster=None, colsample_bylevel=None,\n",
       "             colsample_bynode=None, colsample_bytree=None, eta=0.08, gamma=None,\n",
       "             gpu_id=None, importance_type='gain', interaction_constraints=None,\n",
       "             learning_rate=None, max_delta_step=None, max_depth=None,\n",
       "             min_child_weight=None, missing=nan, monotone_constraints=None,\n",
       "             n_estimators=1400, n_jobs=6, num_parallel_tree=None,\n",
       "             objective='reg:squarederror', random_state=42, reg_alpha=None,\n",
       "             reg_lambda=None, scale_pos_weight=None, subsample=0.9,\n",
       "             tree_method=None, validate_parameters=False, verbose=1,\n",
       "             verbosity=None)"
      ]
     },
     "execution_count": 100,
     "metadata": {},
     "output_type": "execute_result"
    }
   ],
   "source": [
    "xgb_0 = XGBRegressor()\n",
    "xgb_0.set_params(subsample=0.9,random_state=42, n_estimators=1400,eta=0.08,verbose=1,n_jobs=6)"
   ]
  },
  {
   "cell_type": "code",
   "execution_count": null,
   "metadata": {},
   "outputs": [],
   "source": [
    "%time xgb_0.fit(X_train_0,y_train_0)"
   ]
  },
  {
   "cell_type": "code",
   "execution_count": null,
   "metadata": {},
   "outputs": [],
   "source": [
    "print('Training score is %.3f' %(xgb_0.score(X_train_0,y_train_0)))\n",
    "print('Testing score is %.3f' %(xgb_0.score(X_test_0,y_test_0)))"
   ]
  },
  {
   "cell_type": "code",
   "execution_count": null,
   "metadata": {},
   "outputs": [],
   "source": []
  },
  {
   "cell_type": "code",
   "execution_count": 6,
   "metadata": {},
   "outputs": [
    {
     "data": {
      "text/plain": [
       "{'alpha': 0.9,\n",
       " 'criterion': 'friedman_mse',\n",
       " 'init': None,\n",
       " 'learning_rate': 0.1,\n",
       " 'loss': 'ls',\n",
       " 'max_depth': 3,\n",
       " 'max_features': None,\n",
       " 'max_leaf_nodes': None,\n",
       " 'min_impurity_decrease': 0.0,\n",
       " 'min_impurity_split': None,\n",
       " 'min_samples_leaf': 1,\n",
       " 'min_samples_split': 2,\n",
       " 'min_weight_fraction_leaf': 0.0,\n",
       " 'n_estimators': 100,\n",
       " 'n_iter_no_change': None,\n",
       " 'presort': 'auto',\n",
       " 'random_state': None,\n",
       " 'subsample': 1.0,\n",
       " 'tol': 0.0001,\n",
       " 'validation_fraction': 0.1,\n",
       " 'verbose': 0,\n",
       " 'warm_start': False}"
      ]
     },
     "execution_count": 6,
     "metadata": {},
     "output_type": "execute_result"
    }
   ],
   "source": [
    "gbm = GradientBoostingRegressor()\n",
    "gbm.get_params()"
   ]
  },
  {
   "cell_type": "markdown",
   "metadata": {},
   "source": [
    "### Gradient Boosting"
   ]
  },
  {
   "cell_type": "code",
   "execution_count": 30,
   "metadata": {},
   "outputs": [
    {
     "name": "stdout",
     "output_type": "stream",
     "text": [
      "      Iter       Train Loss      OOB Improve   Remaining Time \n",
      "         1         144.3431           2.2619           60.62m\n",
      "         2         143.8137           2.1379           60.75m\n",
      "         3         140.6961           2.0199           61.26m\n",
      "         4         139.5962           1.8998           58.57m\n",
      "         5         137.1697           1.7908           56.66m\n",
      "         6         136.0706           1.7058           55.26m\n",
      "         7         134.1557           1.6109           54.13m\n",
      "         8         132.0454           1.5277           53.17m\n",
      "         9         130.7904           1.4300           52.45m\n",
      "        10         129.4398           1.3535           51.85m\n",
      "        20         118.6394           0.8111           48.69m\n",
      "        30         112.5186           0.5210           47.85m\n",
      "        40         108.2427           0.3971           47.22m\n",
      "        50         104.2766           0.2849           46.68m\n",
      "        60         101.8904           0.2009           46.02m\n",
      "        70          99.1424           0.1947           45.45m\n",
      "        80          97.3931           0.2091           45.02m\n",
      "        90          94.9414           0.2459           44.58m\n",
      "       100          93.9233           0.2292           44.13m\n",
      "       200          85.9527           0.1304           40.53m\n",
      "       300          81.9417           0.0129           37.73m\n",
      "       400          79.2729           0.0104           35.07m\n",
      "       500          77.1964           0.0216           32.83m\n",
      "       600          75.5550           0.0152           30.56m\n",
      "       700          73.8640           0.0024           28.30m\n",
      "       800          72.8093           0.0126           26.09m\n",
      "       900          72.0054           0.0027           23.91m\n",
      "      1000          70.2462           0.0068           21.78m\n",
      "      2000          63.2128           0.0110            0.00s\n",
      "CPU times: user 43min 59s, sys: 14.7 s, total: 44min 14s\n",
      "Wall time: 44min 15s\n"
     ]
    },
    {
     "data": {
      "text/plain": [
       "GradientBoostingRegressor(alpha=0.9, criterion='friedman_mse', init=None,\n",
       "                          learning_rate=0.03, loss='ls', max_depth=3,\n",
       "                          max_features=None, max_leaf_nodes=None,\n",
       "                          min_impurity_decrease=0, min_impurity_split=None,\n",
       "                          min_samples_leaf=1, min_samples_split=2,\n",
       "                          min_weight_fraction_leaf=0.0, n_estimators=2000,\n",
       "                          n_iter_no_change=None, presort='auto',\n",
       "                          random_state=42, subsample=0.7, tol=0.0001,\n",
       "                          validation_fraction=0.1, verbose=1, warm_start=True)"
      ]
     },
     "execution_count": 30,
     "metadata": {},
     "output_type": "execute_result"
    }
   ],
   "source": [
    "gbm = GradientBoostingRegressor()\n",
    "gbm.set_params(learning_rate=0.03, n_estimators=2000, subsample=0.7, loss='ls', max_depth=3,\\\n",
    "               min_impurity_decrease=0,random_state = 42,verbose=1, warm_start = True)\n",
    "%time gbm.fit(X_train,y_train)"
   ]
  },
  {
   "cell_type": "code",
   "execution_count": 31,
   "metadata": {},
   "outputs": [
    {
     "name": "stdout",
     "output_type": "stream",
     "text": [
      "Training score is 0.567\n",
      "Testing score is 0.562\n"
     ]
    }
   ],
   "source": [
    "print('Training score is %.3f' %gbm.score(X_train,y_train))\n",
    "print('Testing score is %.3f' %gbm.score(X_test,y_test))"
   ]
  },
  {
   "cell_type": "code",
   "execution_count": 32,
   "metadata": {},
   "outputs": [
    {
     "name": "stdout",
     "output_type": "stream",
     "text": [
      "      Iter       Train Loss      OOB Improve   Remaining Time \n",
      "         1         145.0877           1.5155           73.59m\n",
      "         2         145.2458           1.4594           73.52m\n",
      "         3         142.7284           1.4083           73.24m\n",
      "         4         142.1977           1.3478           73.12m\n",
      "         5         140.2539           1.2954           73.28m\n",
      "         6         139.6042           1.2573           73.34m\n",
      "         7         138.0851           1.2078           73.19m\n",
      "         8         136.3322           1.1678           73.07m\n",
      "         9         135.4141           1.1147           72.98m\n",
      "        10         134.3518           1.0764           72.91m\n",
      "        20         124.9366           0.7516           72.63m\n",
      "        30         119.0101           0.5413           71.09m\n",
      "        40         114.6598           0.3956           70.63m\n",
      "        50         110.7529           0.3008           70.25m\n",
      "        60         108.4281           0.2493           70.01m\n",
      "        70         105.9573           0.1872           69.70m\n",
      "        80         104.0980           0.1606           69.01m\n",
      "        90         101.3569           0.1412           68.81m\n",
      "       100         100.4817           0.1838           68.69m\n",
      "       200          90.1487           0.0459           65.78m\n",
      "       300          85.4614           0.0203           63.10m\n",
      "       400          82.6346           0.0133           60.57m\n",
      "       500          80.9749           0.0229           58.00m\n",
      "       600          79.5674           0.0132           55.44m\n",
      "       700          77.8352           0.0023           52.61m\n",
      "       800          76.7001           0.0043           49.97m\n",
      "       900          75.7655           0.0033           47.44m\n",
      "      1000          73.8602           0.0112           45.00m\n",
      "      2000          67.2207           0.0103           22.25m\n",
      "      3000          64.0531           0.0039            0.00s\n",
      "CPU times: user 1h 6min 54s, sys: 26.1 s, total: 1h 7min 20s\n",
      "Wall time: 1h 7min 23s\n"
     ]
    },
    {
     "data": {
      "text/plain": [
       "GradientBoostingRegressor(alpha=0.9, criterion='friedman_mse', init=None,\n",
       "                          learning_rate=0.02, loss='ls', max_depth=3,\n",
       "                          max_features=None, max_leaf_nodes=None,\n",
       "                          min_impurity_decrease=0.0001, min_impurity_split=None,\n",
       "                          min_samples_leaf=1, min_samples_split=2,\n",
       "                          min_weight_fraction_leaf=0.0, n_estimators=3000,\n",
       "                          n_iter_no_change=None, presort='auto',\n",
       "                          random_state=42, subsample=0.7, tol=0.0001,\n",
       "                          validation_fraction=0.1, verbose=1, warm_start=True)"
      ]
     },
     "execution_count": 32,
     "metadata": {},
     "output_type": "execute_result"
    }
   ],
   "source": [
    "gbm1 = GradientBoostingRegressor()\n",
    "gbm1.set_params(learning_rate=0.02, n_estimators=3000, subsample=0.7, loss='ls', max_depth=3,\\\n",
    "               min_impurity_decrease=0.0001,random_state = 42,verbose=1, warm_start = True)\n",
    "%time gbm1.fit(X_train,y_train)"
   ]
  },
  {
   "cell_type": "code",
   "execution_count": 33,
   "metadata": {},
   "outputs": [
    {
     "name": "stdout",
     "output_type": "stream",
     "text": [
      "Training score is 0.566\n",
      "Testing score is 0.561\n"
     ]
    }
   ],
   "source": [
    "print('Training score is %.3f' %gbm1.score(X_train,y_train))\n",
    "print('Testing score is %.3f' %gbm1.score(X_test,y_test))"
   ]
  },
  {
   "cell_type": "code",
   "execution_count": 34,
   "metadata": {},
   "outputs": [
    {
     "name": "stdout",
     "output_type": "stream",
     "text": [
      "      Iter       Train Loss      OOB Improve   Remaining Time \n",
      "         1         146.1426           0.4572          116.87m\n",
      "         2         147.3182           0.4494          116.55m\n",
      "         3         145.7627           0.4340          116.70m\n",
      "         4         146.1785           0.4252          116.40m\n",
      "         5         145.0744           0.4417          116.20m\n",
      "         6         145.2574           0.4203          116.11m\n",
      "         7         144.5214           0.4142          115.94m\n",
      "         8         143.4996           0.4316          115.72m\n",
      "         9         143.3283           0.4052          115.64m\n",
      "        10         142.9486           0.4011          115.65m\n",
      "        20         138.3916           0.3825          114.93m\n",
      "        30         135.0942           0.3437          114.41m\n",
      "        40         132.0941           0.3048          113.94m\n",
      "        50         128.7360           0.2878          112.69m\n",
      "        60         126.4819           0.2666          111.58m\n",
      "        70         124.0019           0.2386          111.11m\n",
      "        80         122.1792           0.2229          110.85m\n",
      "        90         119.1167           0.2090          110.55m\n",
      "       100         118.2438           0.1900          110.27m\n",
      "       200         104.5784           0.0949          106.74m\n",
      "       300          96.3281           0.0688          102.93m\n",
      "       400          91.1570           0.0432           99.21m\n",
      "       500          87.8592           0.0274           95.28m\n",
      "       600          85.2328           0.0230           91.44m\n",
      "       700          82.9117           0.0218           87.52m\n",
      "       800          81.5066           0.0115           83.35m\n",
      "       900          80.5058           0.0144           79.28m\n",
      "      1000          78.3651           0.0088           75.19m\n",
      "      2000          71.2416           0.0099           36.89m\n",
      "      3000          67.6642           0.0063            0.00s\n",
      "CPU times: user 1h 49min 20s, sys: 33.2 s, total: 1h 49min 54s\n",
      "Wall time: 1h 50min 1s\n"
     ]
    },
    {
     "data": {
      "text/plain": [
       "GradientBoostingRegressor(alpha=0.9, criterion='friedman_mse', init=None,\n",
       "                          learning_rate=0.005, loss='ls', max_depth=4,\n",
       "                          max_features=None, max_leaf_nodes=None,\n",
       "                          min_impurity_decrease=0.0001, min_impurity_split=None,\n",
       "                          min_samples_leaf=1, min_samples_split=2,\n",
       "                          min_weight_fraction_leaf=0.0, n_estimators=3000,\n",
       "                          n_iter_no_change=None, presort='auto',\n",
       "                          random_state=42, subsample=0.7, tol=0.0001,\n",
       "                          validation_fraction=0.1, verbose=1, warm_start=True)"
      ]
     },
     "execution_count": 34,
     "metadata": {},
     "output_type": "execute_result"
    }
   ],
   "source": [
    "gbm2 = GradientBoostingRegressor()\n",
    "gbm2.set_params(learning_rate=0.005, n_estimators=3000, subsample=0.7, loss='ls', max_depth=4,\\\n",
    "               min_impurity_decrease=0.0001,random_state = 42,verbose=1, warm_start = True)\n",
    "%time gbm2.fit(X_train,y_train)"
   ]
  },
  {
   "cell_type": "code",
   "execution_count": 35,
   "metadata": {},
   "outputs": [
    {
     "name": "stdout",
     "output_type": "stream",
     "text": [
      "Training score is 0.541\n",
      "Testing score is 0.537\n"
     ]
    }
   ],
   "source": [
    "print('Training score is %.3f' %gbm2.score(X_train,y_train))\n",
    "print('Testing score is %.3f' %gbm2.score(X_test,y_test))"
   ]
  },
  {
   "cell_type": "code",
   "execution_count": 12,
   "metadata": {},
   "outputs": [
    {
     "data": {
      "text/plain": [
       "[('Commute', 0.26825613206940657),\n",
       " ('cluster', 0.1795607632877984),\n",
       " ('start_hour', 0.14908494882764836),\n",
       " ('tot_docks', 0.11583994096117621),\n",
       " ('TAVG', 0.060181861711634685),\n",
       " ('TMAX', 0.057174477478400626),\n",
       " ('start_station_longitude', 0.04932132027397852),\n",
       " ('start_station_latitude', 0.03138756226431521),\n",
       " ('start_dayofweek', 0.025011368927366173),\n",
       " ('start_month', 0.016329407758114527),\n",
       " ('PRCP', 0.014005190584336588),\n",
       " ('Isweekday', 0.013857576534539413),\n",
       " ('TMIN', 0.007919599596420378),\n",
       " ('start_year', 0.007426515637171531),\n",
       " ('holidays', 0.0018061323232075603),\n",
       " ('HasPRCP', 0.0016327723504830321),\n",
       " ('start_day', 0.0005828133730857093),\n",
       " ('AWND', 0.0003071205113413932),\n",
       " ('SNWD', 0.00018445382387227192),\n",
       " ('Fog', 7.36858302435516e-05),\n",
       " ('Thunder', 3.2056645658874746e-05),\n",
       " ('Haze', 2.429922980030986e-05),\n",
       " ('SNOW', 0.0),\n",
       " ('Heavy_Fog', 0.0),\n",
       " ('Hail', 0.0),\n",
       " ('Glaze', 0.0),\n",
       " ('HasSNOW', 0.0)]"
      ]
     },
     "execution_count": 12,
     "metadata": {},
     "output_type": "execute_result"
    }
   ],
   "source": [
    "sorted_importance_gbm = sorted(zip(X_train.columns.values, gbm.feature_importances_), key=lambda t:t[1], reverse=True)\n",
    "sorted_importance_gbm"
   ]
  },
  {
   "cell_type": "code",
   "execution_count": 16,
   "metadata": {},
   "outputs": [
    {
     "data": {
      "text/plain": [
       "Text(0.5, 1.0, 'Feature Importance Plot for GBM model')"
      ]
     },
     "execution_count": 16,
     "metadata": {},
     "output_type": "execute_result"
    },
    {
     "data": {
      "image/png": "[encoded data removed]",
      "text/plain": [
       "<Figure size 1296x864 with 1 Axes>"
      ]
     },
     "metadata": {
      "needs_background": "light"
     },
     "output_type": "display_data"
    }
   ],
   "source": [
    "plt.rcParams['figure.figsize'] = (18,12)\n",
    "a, b = zip(*sorted_importance_gbm) # this splits the list of tuples into two lists\n",
    "pd.DataFrame({'feature_name':a, 'importance_score':b}).plot.bar(x='feature_name',y='importance_score', legend=None)\n",
    "plt.title('Feature Importance Plot for GBM model')"
   ]
  },
  {
   "cell_type": "code",
   "execution_count": null,
   "metadata": {},
   "outputs": [],
   "source": [
    "# grid_params = {'max_depth': range(4,8,3),\n",
    "#                'learning_rate':np.linspace(0.02,0.12,3),\n",
    "#               \"min_samples_split\": np.linspace(start=5, stop=20, num=4, dtype=int)}\n",
    "# grid_search_gbm = GridSearchCV(gbm, grid_params, cv = 3)\n",
    "# %time grid_search_gbm.fit(X_train,y_train)"
   ]
  },
  {
   "cell_type": "code",
   "execution_count": null,
   "metadata": {},
   "outputs": [],
   "source": [
    "# grid_search_gbm.best_param_"
   ]
  },
  {
   "cell_type": "markdown",
   "metadata": {},
   "source": [
    "## Classification on Turnover Rate"
   ]
  },
  {
   "cell_type": "markdown",
   "metadata": {},
   "source": [
    "### Random Forest"
   ]
  },
  {
   "cell_type": "code",
   "execution_count": 17,
   "metadata": {},
   "outputs": [],
   "source": [
    "Top200['High_turnover']=[1 if x>0.49 else 0 for x in Top200['Percent_usage']]"
   ]
  },
  {
   "cell_type": "code",
   "execution_count": 18,
   "metadata": {},
   "outputs": [],
   "source": [
    "columns_to_drop = ['High_turnover', 'Percent_usage', 'start_station_checkout_counts', 'start_station_checkin_counts']\n",
    "X_class = Top200.drop(columns_to_drop,axis = 1)\n",
    "Y_class = Top200.High_turnover"
   ]
  },
  {
   "cell_type": "code",
   "execution_count": 19,
   "metadata": {},
   "outputs": [],
   "source": [
    "X_train_class, X_test_class, y_train_class, y_test_class = train_test_split(X_class, Y_class, train_size=0.8, test_size=0.2, random_state=42)"
   ]
  },
  {
   "cell_type": "code",
   "execution_count": 20,
   "metadata": {},
   "outputs": [],
   "source": [
    "randomForest = RandomForestClassifier()"
   ]
  },
  {
   "cell_type": "code",
   "execution_count": 21,
   "metadata": {},
   "outputs": [
    {
     "name": "stderr",
     "output_type": "stream",
     "text": [
      "[Parallel(n_jobs=6)]: Using backend ThreadingBackend with 6 concurrent workers.\n",
      "[Parallel(n_jobs=6)]: Done  38 tasks      | elapsed:   41.0s\n",
      "[Parallel(n_jobs=6)]: Done 188 tasks      | elapsed:  2.8min\n",
      "[Parallel(n_jobs=6)]: Done 438 tasks      | elapsed:  6.4min\n",
      "[Parallel(n_jobs=6)]: Done 788 tasks      | elapsed: 11.5min\n"
     ]
    },
    {
     "name": "stdout",
     "output_type": "stream",
     "text": [
      "Wall time: 14min 26s\n"
     ]
    },
    {
     "name": "stderr",
     "output_type": "stream",
     "text": [
      "[Parallel(n_jobs=6)]: Done 1000 out of 1000 | elapsed: 14.4min finished\n"
     ]
    },
    {
     "data": {
      "text/plain": [
       "RandomForestClassifier(bootstrap=True, ccp_alpha=0.0, class_weight=None,\n",
       "                       criterion='gini', max_depth=None, max_features=4,\n",
       "                       max_leaf_nodes=None, max_samples=None,\n",
       "                       min_impurity_decrease=0.0, min_impurity_split=None,\n",
       "                       min_samples_leaf=1, min_samples_split=2,\n",
       "                       min_weight_fraction_leaf=0.0, n_estimators=1000,\n",
       "                       n_jobs=6, oob_score=False, random_state=42, verbose=1,\n",
       "                       warm_start=False)"
      ]
     },
     "execution_count": 21,
     "metadata": {},
     "output_type": "execute_result"
    }
   ],
   "source": [
    "randomForest.set_params(random_state=42, max_features=4,n_estimators=1000,verbose=1,n_jobs=6)\n",
    "%time randomForest.fit(X_train_class, y_train_class)  "
   ]
  },
  {
   "cell_type": "code",
   "execution_count": 22,
   "metadata": {},
   "outputs": [
    {
     "name": "stderr",
     "output_type": "stream",
     "text": [
      "[Parallel(n_jobs=6)]: Using backend ThreadingBackend with 6 concurrent workers.\n",
      "[Parallel(n_jobs=6)]: Done  38 tasks      | elapsed:    5.9s\n",
      "[Parallel(n_jobs=6)]: Done 188 tasks      | elapsed:   31.1s\n",
      "[Parallel(n_jobs=6)]: Done 438 tasks      | elapsed:  1.3min\n",
      "[Parallel(n_jobs=6)]: Done 788 tasks      | elapsed:  2.4min\n",
      "[Parallel(n_jobs=6)]: Done 1000 out of 1000 | elapsed:  3.1min finished\n"
     ]
    },
    {
     "name": "stdout",
     "output_type": "stream",
     "text": [
      "RandomForest train test score is 1.000\n"
     ]
    },
    {
     "name": "stderr",
     "output_type": "stream",
     "text": [
      "[Parallel(n_jobs=6)]: Using backend ThreadingBackend with 6 concurrent workers.\n",
      "[Parallel(n_jobs=6)]: Done  38 tasks      | elapsed:    3.1s\n",
      "[Parallel(n_jobs=6)]: Done 188 tasks      | elapsed:   21.0s\n",
      "[Parallel(n_jobs=6)]: Done 438 tasks      | elapsed:   47.4s\n",
      "[Parallel(n_jobs=6)]: Done 788 tasks      | elapsed:  1.4min\n"
     ]
    },
    {
     "name": "stdout",
     "output_type": "stream",
     "text": [
      "RandomForest test test score is 0.822\n"
     ]
    },
    {
     "name": "stderr",
     "output_type": "stream",
     "text": [
      "[Parallel(n_jobs=6)]: Done 1000 out of 1000 | elapsed:  1.8min finished\n"
     ]
    }
   ],
   "source": [
    "print('RandomForest train test score is %.3f' %(randomForest.score(X_train_class, y_train_class)))\n",
    "print('RandomForest test test score is %.3f' %(randomForest.score(X_test_class, y_test_class)))"
   ]
  },
  {
   "cell_type": "code",
   "execution_count": 23,
   "metadata": {},
   "outputs": [
    {
     "data": {
      "text/plain": [
       "[('start_station_latitude', 0.13018842394154112),\n",
       " ('start_station_longitude', 0.12241860465118873),\n",
       " ('start_hour', 0.2365853624635061),\n",
       " ('start_year', 0.01147237981274158),\n",
       " ('start_month', 0.03003971615763106),\n",
       " ('start_day', 0.02723196396838411),\n",
       " ('start_dayofweek', 0.02018832566586693),\n",
       " ('AWND', 0.02600631719577908),\n",
       " ('PRCP', 0.0162942051068507),\n",
       " ('SNOW', 0.0008696608080090987),\n",
       " ('SNWD', 0.0015425076481109406),\n",
       " ('TMAX', 0.04697803712633777),\n",
       " ('TMIN', 0.044504637211141215),\n",
       " ('Fog', 0.0044694676078746946),\n",
       " ('Heavy_Fog', 0.0005751796282660648),\n",
       " ('Thunder', 0.0014158680310473015),\n",
       " ('Hail', 1.5910008094237393e-05),\n",
       " ('Glaze', 0.00011557690581712967),\n",
       " ('Haze', 0.0038516459631836517),\n",
       " ('TAVG', 0.05206044012683771),\n",
       " ('HasPRCP', 0.00399535058642092),\n",
       " ('HasSNOW', 0.0005204096637341101),\n",
       " ('tot_docks', 0.0959755029774302),\n",
       " ('Isweekday', 0.005537254297177431),\n",
       " ('holidays', 0.002690788256873716),\n",
       " ('Commute', 0.0842363308092386),\n",
       " ('cluster', 0.03022013338091576)]"
      ]
     },
     "execution_count": 23,
     "metadata": {},
     "output_type": "execute_result"
    }
   ],
   "source": [
    "feature_importance = list(zip(X_train_class.columns, randomForest.feature_importances_))\n",
    "feature_importance"
   ]
  },
  {
   "cell_type": "code",
   "execution_count": 24,
   "metadata": {},
   "outputs": [
    {
     "data": {
      "text/plain": [
       "<matplotlib.axes._subplots.AxesSubplot at 0x1e93faff1c8>"
      ]
     },
     "execution_count": 24,
     "metadata": {},
     "output_type": "execute_result"
    },
    {
     "data": {
      "image/png": "[encoded data removed]",
      "text/plain": [
       "<Figure size 1296x864 with 1 Axes>"
      ]
     },
     "metadata": {
      "needs_background": "light"
     },
     "output_type": "display_data"
    }
   ],
   "source": [
    "dtype = [('feature', 'S10'), ('importance', 'float')]\n",
    "feature_importance = np.array(feature_importance, dtype=dtype)\n",
    "feature_sort = np.sort(feature_importance, order='importance')[::-1]\n",
    "name, score = zip(*list(feature_sort))\n",
    "pd.DataFrame({'name':name,'score':score})[:15].plot.bar(x='name', y='score')"
   ]
  },
  {
   "cell_type": "code",
   "execution_count": null,
   "metadata": {},
   "outputs": [],
   "source": [
    "# grid_params = {'max_features':np,linspace(2,6,3),\n",
    "#                'n_estimators':np.linspace(800,1200,5)}\n",
    "# grid_search_randomForest = GridSearchCV(randomForest, grid_params, cv = 5)\n",
    "# %time grid_search_randomForest.fit(X_train_class,y_train_class)"
   ]
  }
 ],
 "metadata": {
  "kernelspec": {
   "display_name": "Python 3",
   "language": "python",
   "name": "python3"
  },
  "language_info": {
   "codemirror_mode": {
    "name": "ipython",
    "version": 3
   },
   "file_extension": ".py",
   "mimetype": "text/x-python",
   "name": "python",
   "nbconvert_exporter": "python",
   "pygments_lexer": "ipython3",
   "version": "3.7.4"
  }
 },
 "nbformat": 4,
 "nbformat_minor": 2
}
